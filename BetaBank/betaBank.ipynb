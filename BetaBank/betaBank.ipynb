{
 "cells": [
  {
   "cell_type": "markdown",
   "id": "76fb9355",
   "metadata": {},
   "source": [
    "# Описание проекта\n",
    "\n",
    "Из «Бета-Банка» стали уходить клиенты. Каждый месяц. Немного, но заметно. Банковские маркетологи посчитали: сохранять текущих клиентов дешевле, чем привлекать новых.\n",
    "Нужно спрогнозировать, уйдёт клиент из банка в ближайшее время или нет. Вам предоставлены исторические данные о поведении клиентов и расторжении договоров с банком.\n",
    "Постройте модель с предельно большим значением F1-меры. Чтобы сдать проект успешно, нужно довести метрику до 0.59. Проверьте F1-меру на тестовой выборке самостоятельно.\n",
    "Дополнительно измеряйте AUC-ROC, сравнивайте её значение с F1-мерой."
   ]
  },
  {
   "cell_type": "markdown",
   "id": "f264d9db",
   "metadata": {},
   "source": [
    "Признаки\n",
    "* RowNumber — индекс строки в данных\n",
    "* CustomerId — уникальный идентификатор клиента\n",
    "* Surname — фамилия\n",
    "* CreditScore — кредитный рейтинг\n",
    "* Geography — страна проживания\n",
    "* Gender — пол\n",
    "* Age — возраст\n",
    "* Tenure — сколько лет человек является клиентом банка\n",
    "* Balance — баланс на счёте\n",
    "* NumOfProducts — количество продуктов банка, используемых клиентом\n",
    "* HasCrCard — наличие кредитной карты\n",
    "* IsActiveMember — активность клиента\n",
    "* EstimatedSalary — предполагаемая зарплата\n",
    "\n",
    "Целевой признак\n",
    "* Exited — факт ухода клиента"
   ]
  },
  {
   "cell_type": "code",
   "execution_count": 1,
   "id": "6be8db02",
   "metadata": {},
   "outputs": [],
   "source": [
    "import pandas as pd\n",
    "\n",
    "from sklearn.model_selection import train_test_split, RandomizedSearchCV, GridSearchCV\n",
    "from sklearn.ensemble import RandomForestClassifier, GradientBoostingClassifier\n",
    "from sklearn.tree import DecisionTreeClassifier\n",
    "from sklearn.preprocessing import StandardScaler\n",
    "from sklearn.metrics import confusion_matrix, f1_score, roc_auc_score\n",
    "from sklearn.utils import shuffle"
   ]
  },
  {
   "cell_type": "markdown",
   "id": "0a4a6263",
   "metadata": {},
   "source": [
    "#### Загрузка, подготовка данных"
   ]
  },
  {
   "cell_type": "code",
   "execution_count": 2,
   "id": "ec46edaa",
   "metadata": {},
   "outputs": [],
   "source": [
    "try:\n",
    "    data=pd.read_csv('Churn.csv')\n",
    "except:\n",
    "    data=pd.read_csv('/datasets/Churn.csv')"
   ]
  },
  {
   "cell_type": "code",
   "execution_count": 3,
   "id": "56cde9de",
   "metadata": {
    "scrolled": false
   },
   "outputs": [
    {
     "data": {
      "text/html": [
       "<div>\n",
       "<style scoped>\n",
       "    .dataframe tbody tr th:only-of-type {\n",
       "        vertical-align: middle;\n",
       "    }\n",
       "\n",
       "    .dataframe tbody tr th {\n",
       "        vertical-align: top;\n",
       "    }\n",
       "\n",
       "    .dataframe thead th {\n",
       "        text-align: right;\n",
       "    }\n",
       "</style>\n",
       "<table border=\"1\" class=\"dataframe\">\n",
       "  <thead>\n",
       "    <tr style=\"text-align: right;\">\n",
       "      <th></th>\n",
       "      <th>RowNumber</th>\n",
       "      <th>CustomerId</th>\n",
       "      <th>Surname</th>\n",
       "      <th>CreditScore</th>\n",
       "      <th>Geography</th>\n",
       "      <th>Gender</th>\n",
       "      <th>Age</th>\n",
       "      <th>Tenure</th>\n",
       "      <th>Balance</th>\n",
       "      <th>NumOfProducts</th>\n",
       "      <th>HasCrCard</th>\n",
       "      <th>IsActiveMember</th>\n",
       "      <th>EstimatedSalary</th>\n",
       "      <th>Exited</th>\n",
       "    </tr>\n",
       "  </thead>\n",
       "  <tbody>\n",
       "    <tr>\n",
       "      <th>0</th>\n",
       "      <td>1</td>\n",
       "      <td>15634602</td>\n",
       "      <td>Hargrave</td>\n",
       "      <td>619</td>\n",
       "      <td>France</td>\n",
       "      <td>Female</td>\n",
       "      <td>42</td>\n",
       "      <td>2.0</td>\n",
       "      <td>0.00</td>\n",
       "      <td>1</td>\n",
       "      <td>1</td>\n",
       "      <td>1</td>\n",
       "      <td>101348.88</td>\n",
       "      <td>1</td>\n",
       "    </tr>\n",
       "    <tr>\n",
       "      <th>1</th>\n",
       "      <td>2</td>\n",
       "      <td>15647311</td>\n",
       "      <td>Hill</td>\n",
       "      <td>608</td>\n",
       "      <td>Spain</td>\n",
       "      <td>Female</td>\n",
       "      <td>41</td>\n",
       "      <td>1.0</td>\n",
       "      <td>83807.86</td>\n",
       "      <td>1</td>\n",
       "      <td>0</td>\n",
       "      <td>1</td>\n",
       "      <td>112542.58</td>\n",
       "      <td>0</td>\n",
       "    </tr>\n",
       "    <tr>\n",
       "      <th>2</th>\n",
       "      <td>3</td>\n",
       "      <td>15619304</td>\n",
       "      <td>Onio</td>\n",
       "      <td>502</td>\n",
       "      <td>France</td>\n",
       "      <td>Female</td>\n",
       "      <td>42</td>\n",
       "      <td>8.0</td>\n",
       "      <td>159660.80</td>\n",
       "      <td>3</td>\n",
       "      <td>1</td>\n",
       "      <td>0</td>\n",
       "      <td>113931.57</td>\n",
       "      <td>1</td>\n",
       "    </tr>\n",
       "    <tr>\n",
       "      <th>3</th>\n",
       "      <td>4</td>\n",
       "      <td>15701354</td>\n",
       "      <td>Boni</td>\n",
       "      <td>699</td>\n",
       "      <td>France</td>\n",
       "      <td>Female</td>\n",
       "      <td>39</td>\n",
       "      <td>1.0</td>\n",
       "      <td>0.00</td>\n",
       "      <td>2</td>\n",
       "      <td>0</td>\n",
       "      <td>0</td>\n",
       "      <td>93826.63</td>\n",
       "      <td>0</td>\n",
       "    </tr>\n",
       "    <tr>\n",
       "      <th>4</th>\n",
       "      <td>5</td>\n",
       "      <td>15737888</td>\n",
       "      <td>Mitchell</td>\n",
       "      <td>850</td>\n",
       "      <td>Spain</td>\n",
       "      <td>Female</td>\n",
       "      <td>43</td>\n",
       "      <td>2.0</td>\n",
       "      <td>125510.82</td>\n",
       "      <td>1</td>\n",
       "      <td>1</td>\n",
       "      <td>1</td>\n",
       "      <td>79084.10</td>\n",
       "      <td>0</td>\n",
       "    </tr>\n",
       "  </tbody>\n",
       "</table>\n",
       "</div>"
      ],
      "text/plain": [
       "   RowNumber  CustomerId   Surname  CreditScore Geography  Gender  Age  \\\n",
       "0          1    15634602  Hargrave          619    France  Female   42   \n",
       "1          2    15647311      Hill          608     Spain  Female   41   \n",
       "2          3    15619304      Onio          502    France  Female   42   \n",
       "3          4    15701354      Boni          699    France  Female   39   \n",
       "4          5    15737888  Mitchell          850     Spain  Female   43   \n",
       "\n",
       "   Tenure    Balance  NumOfProducts  HasCrCard  IsActiveMember  \\\n",
       "0     2.0       0.00              1          1               1   \n",
       "1     1.0   83807.86              1          0               1   \n",
       "2     8.0  159660.80              3          1               0   \n",
       "3     1.0       0.00              2          0               0   \n",
       "4     2.0  125510.82              1          1               1   \n",
       "\n",
       "   EstimatedSalary  Exited  \n",
       "0        101348.88       1  \n",
       "1        112542.58       0  \n",
       "2        113931.57       1  \n",
       "3         93826.63       0  \n",
       "4         79084.10       0  "
      ]
     },
     "execution_count": 3,
     "metadata": {},
     "output_type": "execute_result"
    }
   ],
   "source": [
    "data.head()"
   ]
  },
  {
   "cell_type": "code",
   "execution_count": 4,
   "id": "f77bf484",
   "metadata": {},
   "outputs": [],
   "source": [
    "data.columns = ['row_number', 'customer_id', 'surname', 'credit_score', 'geography', 'gender', 'age',\n",
    "                            'tenure', 'balance', 'num_of_products', 'has_cr_card', 'is_active_member', 'estimated_salary', 'exited']"
   ]
  },
  {
   "cell_type": "code",
   "execution_count": 5,
   "id": "740aa1e9",
   "metadata": {
    "scrolled": false
   },
   "outputs": [
    {
     "name": "stdout",
     "output_type": "stream",
     "text": [
      "<class 'pandas.core.frame.DataFrame'>\n",
      "RangeIndex: 10000 entries, 0 to 9999\n",
      "Data columns (total 14 columns):\n",
      " #   Column            Non-Null Count  Dtype  \n",
      "---  ------            --------------  -----  \n",
      " 0   row_number        10000 non-null  int64  \n",
      " 1   customer_id       10000 non-null  int64  \n",
      " 2   surname           10000 non-null  object \n",
      " 3   credit_score      10000 non-null  int64  \n",
      " 4   geography         10000 non-null  object \n",
      " 5   gender            10000 non-null  object \n",
      " 6   age               10000 non-null  int64  \n",
      " 7   tenure            9091 non-null   float64\n",
      " 8   balance           10000 non-null  float64\n",
      " 9   num_of_products   10000 non-null  int64  \n",
      " 10  has_cr_card       10000 non-null  int64  \n",
      " 11  is_active_member  10000 non-null  int64  \n",
      " 12  estimated_salary  10000 non-null  float64\n",
      " 13  exited            10000 non-null  int64  \n",
      "dtypes: float64(3), int64(8), object(3)\n",
      "memory usage: 1.1+ MB\n"
     ]
    }
   ],
   "source": [
    "data.info()"
   ]
  },
  {
   "cell_type": "code",
   "execution_count": 6,
   "id": "53185ad5",
   "metadata": {},
   "outputs": [],
   "source": [
    "#замена пропусков в tenure на медианное значение\n",
    "data['tenure'] = data['tenure'].fillna(data['tenure'].median())"
   ]
  },
  {
   "cell_type": "code",
   "execution_count": 7,
   "id": "e8126f75",
   "metadata": {},
   "outputs": [],
   "source": [
    "# удалим ненужные признаки\n",
    "data = data.drop(['row_number', 'customer_id', 'surname'], axis=1)"
   ]
  },
  {
   "cell_type": "code",
   "execution_count": 8,
   "id": "3a61b094",
   "metadata": {
    "scrolled": false
   },
   "outputs": [
    {
     "data": {
      "text/html": [
       "<div>\n",
       "<style scoped>\n",
       "    .dataframe tbody tr th:only-of-type {\n",
       "        vertical-align: middle;\n",
       "    }\n",
       "\n",
       "    .dataframe tbody tr th {\n",
       "        vertical-align: top;\n",
       "    }\n",
       "\n",
       "    .dataframe thead th {\n",
       "        text-align: right;\n",
       "    }\n",
       "</style>\n",
       "<table border=\"1\" class=\"dataframe\">\n",
       "  <thead>\n",
       "    <tr style=\"text-align: right;\">\n",
       "      <th></th>\n",
       "      <th>credit_score</th>\n",
       "      <th>age</th>\n",
       "      <th>tenure</th>\n",
       "      <th>balance</th>\n",
       "      <th>num_of_products</th>\n",
       "      <th>has_cr_card</th>\n",
       "      <th>is_active_member</th>\n",
       "      <th>estimated_salary</th>\n",
       "      <th>exited</th>\n",
       "    </tr>\n",
       "  </thead>\n",
       "  <tbody>\n",
       "    <tr>\n",
       "      <th>credit_score</th>\n",
       "      <td>1.000000</td>\n",
       "      <td>-0.003965</td>\n",
       "      <td>-0.000060</td>\n",
       "      <td>0.006268</td>\n",
       "      <td>0.012238</td>\n",
       "      <td>-0.005458</td>\n",
       "      <td>0.025651</td>\n",
       "      <td>-0.001384</td>\n",
       "      <td>-0.027094</td>\n",
       "    </tr>\n",
       "    <tr>\n",
       "      <th>age</th>\n",
       "      <td>-0.003965</td>\n",
       "      <td>1.000000</td>\n",
       "      <td>-0.012606</td>\n",
       "      <td>0.028308</td>\n",
       "      <td>-0.030680</td>\n",
       "      <td>-0.011721</td>\n",
       "      <td>0.085472</td>\n",
       "      <td>-0.007201</td>\n",
       "      <td>0.285323</td>\n",
       "    </tr>\n",
       "    <tr>\n",
       "      <th>tenure</th>\n",
       "      <td>-0.000060</td>\n",
       "      <td>-0.012606</td>\n",
       "      <td>1.000000</td>\n",
       "      <td>-0.007535</td>\n",
       "      <td>0.011409</td>\n",
       "      <td>0.025979</td>\n",
       "      <td>-0.030681</td>\n",
       "      <td>0.010049</td>\n",
       "      <td>-0.015989</td>\n",
       "    </tr>\n",
       "    <tr>\n",
       "      <th>balance</th>\n",
       "      <td>0.006268</td>\n",
       "      <td>0.028308</td>\n",
       "      <td>-0.007535</td>\n",
       "      <td>1.000000</td>\n",
       "      <td>-0.304180</td>\n",
       "      <td>-0.014858</td>\n",
       "      <td>-0.010084</td>\n",
       "      <td>0.012797</td>\n",
       "      <td>0.118533</td>\n",
       "    </tr>\n",
       "    <tr>\n",
       "      <th>num_of_products</th>\n",
       "      <td>0.012238</td>\n",
       "      <td>-0.030680</td>\n",
       "      <td>0.011409</td>\n",
       "      <td>-0.304180</td>\n",
       "      <td>1.000000</td>\n",
       "      <td>0.003183</td>\n",
       "      <td>0.009612</td>\n",
       "      <td>0.014204</td>\n",
       "      <td>-0.047820</td>\n",
       "    </tr>\n",
       "    <tr>\n",
       "      <th>has_cr_card</th>\n",
       "      <td>-0.005458</td>\n",
       "      <td>-0.011721</td>\n",
       "      <td>0.025979</td>\n",
       "      <td>-0.014858</td>\n",
       "      <td>0.003183</td>\n",
       "      <td>1.000000</td>\n",
       "      <td>-0.011866</td>\n",
       "      <td>-0.009933</td>\n",
       "      <td>-0.007138</td>\n",
       "    </tr>\n",
       "    <tr>\n",
       "      <th>is_active_member</th>\n",
       "      <td>0.025651</td>\n",
       "      <td>0.085472</td>\n",
       "      <td>-0.030681</td>\n",
       "      <td>-0.010084</td>\n",
       "      <td>0.009612</td>\n",
       "      <td>-0.011866</td>\n",
       "      <td>1.000000</td>\n",
       "      <td>-0.011421</td>\n",
       "      <td>-0.156128</td>\n",
       "    </tr>\n",
       "    <tr>\n",
       "      <th>estimated_salary</th>\n",
       "      <td>-0.001384</td>\n",
       "      <td>-0.007201</td>\n",
       "      <td>0.010049</td>\n",
       "      <td>0.012797</td>\n",
       "      <td>0.014204</td>\n",
       "      <td>-0.009933</td>\n",
       "      <td>-0.011421</td>\n",
       "      <td>1.000000</td>\n",
       "      <td>0.012097</td>\n",
       "    </tr>\n",
       "    <tr>\n",
       "      <th>exited</th>\n",
       "      <td>-0.027094</td>\n",
       "      <td>0.285323</td>\n",
       "      <td>-0.015989</td>\n",
       "      <td>0.118533</td>\n",
       "      <td>-0.047820</td>\n",
       "      <td>-0.007138</td>\n",
       "      <td>-0.156128</td>\n",
       "      <td>0.012097</td>\n",
       "      <td>1.000000</td>\n",
       "    </tr>\n",
       "  </tbody>\n",
       "</table>\n",
       "</div>"
      ],
      "text/plain": [
       "                  credit_score       age    tenure   balance  num_of_products  \\\n",
       "credit_score          1.000000 -0.003965 -0.000060  0.006268         0.012238   \n",
       "age                  -0.003965  1.000000 -0.012606  0.028308        -0.030680   \n",
       "tenure               -0.000060 -0.012606  1.000000 -0.007535         0.011409   \n",
       "balance               0.006268  0.028308 -0.007535  1.000000        -0.304180   \n",
       "num_of_products       0.012238 -0.030680  0.011409 -0.304180         1.000000   \n",
       "has_cr_card          -0.005458 -0.011721  0.025979 -0.014858         0.003183   \n",
       "is_active_member      0.025651  0.085472 -0.030681 -0.010084         0.009612   \n",
       "estimated_salary     -0.001384 -0.007201  0.010049  0.012797         0.014204   \n",
       "exited               -0.027094  0.285323 -0.015989  0.118533        -0.047820   \n",
       "\n",
       "                  has_cr_card  is_active_member  estimated_salary    exited  \n",
       "credit_score        -0.005458          0.025651         -0.001384 -0.027094  \n",
       "age                 -0.011721          0.085472         -0.007201  0.285323  \n",
       "tenure               0.025979         -0.030681          0.010049 -0.015989  \n",
       "balance             -0.014858         -0.010084          0.012797  0.118533  \n",
       "num_of_products      0.003183          0.009612          0.014204 -0.047820  \n",
       "has_cr_card          1.000000         -0.011866         -0.009933 -0.007138  \n",
       "is_active_member    -0.011866          1.000000         -0.011421 -0.156128  \n",
       "estimated_salary    -0.009933         -0.011421          1.000000  0.012097  \n",
       "exited              -0.007138         -0.156128          0.012097  1.000000  "
      ]
     },
     "execution_count": 8,
     "metadata": {},
     "output_type": "execute_result"
    }
   ],
   "source": [
    "#матрица корреляции. Проверка на мультиколлинеарность\n",
    "data.corr()"
   ]
  },
  {
   "cell_type": "code",
   "execution_count": 9,
   "id": "44a47334",
   "metadata": {},
   "outputs": [],
   "source": [
    "#One-Hot Encoding\n",
    "data = pd.get_dummies(data, drop_first=True)"
   ]
  },
  {
   "cell_type": "markdown",
   "id": "611cc891",
   "metadata": {},
   "source": [
    "#### Исследование баланса классов. Обучение модели без учета дисбаланса."
   ]
  },
  {
   "cell_type": "code",
   "execution_count": 22,
   "id": "8947953e",
   "metadata": {
    "scrolled": true
   },
   "outputs": [
    {
     "name": "stdout",
     "output_type": "stream",
     "text": [
      "Доля класса 0: 79.63%\n",
      "Доля класса 1: 20.37%\n"
     ]
    }
   ],
   "source": [
    "print(f'Доля класса 0: {(data[\"exited\"].value_counts(normalize=True)*100)[0]:.2f}%')\n",
    "print(f'Доля класса 1: {(data[\"exited\"].value_counts(normalize=True)*100)[1]:.2f}%')"
   ]
  },
  {
   "cell_type": "markdown",
   "id": "b68beb9b",
   "metadata": {},
   "source": [
    "Имеем дисбаланс классов"
   ]
  },
  {
   "cell_type": "markdown",
   "id": "b10b9e51",
   "metadata": {},
   "source": [
    "#### Разбиение на train и test"
   ]
  },
  {
   "cell_type": "code",
   "execution_count": 11,
   "id": "656aa82a",
   "metadata": {},
   "outputs": [],
   "source": [
    "features = data.drop(['exited'], axis=1)\n",
    "targets = data['exited']"
   ]
  },
  {
   "cell_type": "code",
   "execution_count": 12,
   "id": "ff3e97b2",
   "metadata": {},
   "outputs": [],
   "source": [
    "features_train, features_test, target_train, target_test = train_test_split(features, targets, \n",
    "                                                                            test_size=0.4, random_state=54321, stratify=targets)"
   ]
  },
  {
   "cell_type": "code",
   "execution_count": 13,
   "id": "1bb1997a",
   "metadata": {},
   "outputs": [
    {
     "name": "stdout",
     "output_type": "stream",
     "text": [
      "(6000, 11)\n",
      "(6000,)\n",
      "(4000, 11)\n",
      "(4000,)\n"
     ]
    }
   ],
   "source": [
    "print(features_train.shape)\n",
    "print(target_train.shape)\n",
    "print(features_test.shape)\n",
    "print(target_test.shape)"
   ]
  },
  {
   "cell_type": "code",
   "execution_count": 14,
   "id": "a4e9d809",
   "metadata": {},
   "outputs": [],
   "source": [
    "# функция для определения параметров\n",
    "def get_main_parameters(model):\n",
    "    \n",
    "    #predictions\n",
    "    predictions_test = model.predict(features_test)\n",
    "    \n",
    "    #матрица ошибок для тестовой выборки\n",
    "    tn_test, fp_test, fn_test, tp_test = confusion_matrix(target_test, predictions_test, labels=[0, 1]).ravel()\n",
    "    confusion_matrix_test = [tn_test, fp_test, fn_test, tp_test]\n",
    "    \n",
    "    #f1-мера для тестовой выборки при average=weighted\n",
    "    f1_test_weighted = f1_score(target_test, predictions_test, average=\"weighted\")\n",
    "    \n",
    "    #f1-мера для тестовой выборки при average=macro\n",
    "    f1_test_macro = f1_score(target_test, predictions_test, average=\"macro\")\n",
    "    \n",
    "    #f1-мера для валидационной и тестовой выборки\n",
    "    f1_test = f1_score(target_test, predictions_test)\n",
    "    \n",
    "    #ROC-AUC для валидационной и тестовой выборки\n",
    "    proba_test = model.predict_proba(features_test)\n",
    "    roc_auc_test = roc_auc_score(target_test, proba_test[:,1])\n",
    "    \n",
    "    return {\n",
    "        'confusion_matrix_test': confusion_matrix_test,\n",
    "        'f1_test_weighted': f1_test_weighted,\n",
    "        'f1_test_macro': f1_test_macro,\n",
    "        'f1_test': f1_test,\n",
    "        'roc_auc_test': roc_auc_test\n",
    "           }"
   ]
  },
  {
   "cell_type": "code",
   "execution_count": 15,
   "id": "f5597c81",
   "metadata": {},
   "outputs": [
    {
     "name": "stdout",
     "output_type": "stream",
     "text": [
      "RandomForestClassifier(criterion='entropy', max_depth=10, n_estimators=160,\n",
      "                       random_state=54321)\n"
     ]
    }
   ],
   "source": [
    "# подбор гиперпараметров случайного леса\n",
    "criterion = ['gini', 'entropy']\n",
    "n_estimators = [x for x in range(10, 1001, 50)]\n",
    "max_depth = [x for x in range(2, 11)]\n",
    "hyperparameter_grid = {'criterion': criterion,\n",
    "    'n_estimators': n_estimators,\n",
    "    'max_depth': max_depth\n",
    "                      }\n",
    "\n",
    "model = RandomForestClassifier(random_state = 54321)\n",
    "random_cv = RandomizedSearchCV(estimator=model,\n",
    "    param_distributions=hyperparameter_grid,\n",
    "    return_train_score = True,\n",
    "    random_state=54321, scoring='f1',\n",
    "    n_jobs=-1\n",
    "                              )\n",
    "random_cv.fit(features_train, target_train)\n",
    "best_random_forest = random_cv.best_estimator_\n",
    "print(best_random_forest)"
   ]
  },
  {
   "cell_type": "code",
   "execution_count": 16,
   "id": "58c04c39",
   "metadata": {},
   "outputs": [
    {
     "data": {
      "text/plain": [
       "{'confusion_matrix_test': [3102, 83, 441, 374],\n",
       " 'f1_test_weighted': 0.854050536946881,\n",
       " 'f1_test_macro': 0.7550834212041668,\n",
       " 'f1_test': 0.5880503144654088,\n",
       " 'roc_auc_test': 0.8567402798778785}"
      ]
     },
     "execution_count": 16,
     "metadata": {},
     "output_type": "execute_result"
    }
   ],
   "source": [
    "random_forest_results = get_main_parameters(best_random_forest)\n",
    "random_forest_results"
   ]
  },
  {
   "cell_type": "markdown",
   "id": "dc7df8bb",
   "metadata": {},
   "source": [
    "### Улучшение качества модели, учитывая дисбаланс классов. Вариации моделей."
   ]
  },
  {
   "cell_type": "code",
   "execution_count": 21,
   "id": "59a719ec",
   "metadata": {},
   "outputs": [],
   "source": [
    "def upsample(features, target, repeat):\n",
    "    features_zeros = features[target == 0]\n",
    "    features_ones = features[target == 1]\n",
    "    target_zeros = target[target == 0]\n",
    "    target_ones = target[target == 1]\n",
    "\n",
    "    features_upsampled = pd.concat([features_zeros] + [features_ones] * repeat)\n",
    "    target_upsampled = pd.concat([target_zeros] + [target_ones] * repeat)\n",
    "    \n",
    "    features_upsampled, target_upsampled = shuffle(\n",
    "        features_upsampled, target_upsampled, random_state=54321)\n",
    "    \n",
    "    return features_upsampled, target_upsampled"
   ]
  },
  {
   "cell_type": "code",
   "execution_count": 22,
   "id": "d0a0b11a",
   "metadata": {},
   "outputs": [],
   "source": [
    "#upsampling\n",
    "features_train_upsampled, target_train_upsampled = upsample(features_train, target_train, 4)"
   ]
  },
  {
   "cell_type": "markdown",
   "id": "fb1018c6",
   "metadata": {},
   "source": [
    "#### Случайный лес"
   ]
  },
  {
   "cell_type": "code",
   "execution_count": 23,
   "id": "138271cb",
   "metadata": {},
   "outputs": [
    {
     "name": "stdout",
     "output_type": "stream",
     "text": [
      "RandomForestClassifier(criterion='entropy', max_depth=10, n_estimators=160,\n",
      "                       random_state=54321)\n"
     ]
    }
   ],
   "source": [
    "# подбор гиперпараметров случайного леса на новых данных\n",
    "criterion = ['gini', 'entropy']\n",
    "n_estimators = [x for x in range(10, 1001, 50)]\n",
    "max_depth = [x for x in range(2, 11)]\n",
    "hyperparameter_grid = {'criterion': criterion,\n",
    "    'n_estimators': n_estimators,\n",
    "    'max_depth': max_depth\n",
    "                      }\n",
    "\n",
    "model = RandomForestClassifier(random_state = 54321)\n",
    "random_cv = RandomizedSearchCV(estimator=model,\n",
    "    param_distributions=hyperparameter_grid,\n",
    "    return_train_score = True,\n",
    "    random_state=54321,\n",
    "    scoring='f1',\n",
    "    n_jobs=-1\n",
    "    )\n",
    "random_cv.fit(features_train_upsampled, target_train_upsampled)\n",
    "upsampled_best_random_forest = random_cv.best_estimator_\n",
    "print(upsampled_best_random_forest)"
   ]
  },
  {
   "cell_type": "code",
   "execution_count": 24,
   "id": "4c673a1d",
   "metadata": {},
   "outputs": [
    {
     "data": {
      "text/plain": [
       "{'confusion_matrix_test': [2763, 422, 254, 561],\n",
       " 'f1_test_weighted': 0.8366065003251669,\n",
       " 'f1_test_macro': 0.7575147993094195,\n",
       " 'f1_test': 0.6240266963292548,\n",
       " 'roc_auc_test': 0.8593945931369243}"
      ]
     },
     "execution_count": 24,
     "metadata": {},
     "output_type": "execute_result"
    }
   ],
   "source": [
    "upsampled_random_forest_results = get_main_parameters(upsampled_best_random_forest)\n",
    "upsampled_random_forest_results"
   ]
  },
  {
   "cell_type": "markdown",
   "id": "b1ada2b8",
   "metadata": {},
   "source": [
    "#### Градиентный бустинг"
   ]
  },
  {
   "cell_type": "code",
   "execution_count": 25,
   "id": "b59a9231",
   "metadata": {},
   "outputs": [
    {
     "name": "stdout",
     "output_type": "stream",
     "text": [
      "GradientBoostingClassifier(loss='exponential', max_depth=10,\n",
      "                           max_features='log2', min_samples_leaf=3,\n",
      "                           min_samples_split=5, n_estimators=1050,\n",
      "                           random_state=54321)\n"
     ]
    }
   ],
   "source": [
    "loss = ['deviance', 'exponential']\n",
    "n_estimators = [x for x in range(100, 1501, 50)]\n",
    "max_depth = [x for x in range(1, 11)]\n",
    "min_samples_leaf = [x for x in range(1, 6)]\n",
    "min_samples_split = [x for x in range(2, 6)]\n",
    "max_features = ['auto', 'sqrt', 'log2', None]\n",
    "hyperparameter_grid = {'loss': loss,\n",
    "    'n_estimators': n_estimators,\n",
    "    'max_depth': max_depth,\n",
    "    'min_samples_leaf': min_samples_leaf,\n",
    "    'min_samples_split': min_samples_split,\n",
    "    'max_features': max_features,\n",
    "    }\n",
    "\n",
    "model = GradientBoostingClassifier(random_state = 54321)\n",
    "random_cv = RandomizedSearchCV(estimator=model,\n",
    "    param_distributions=hyperparameter_grid,\n",
    "    return_train_score = True,\n",
    "    random_state=54321,\n",
    "    n_jobs=-1\n",
    "    )\n",
    "random_cv.fit(features_train_upsampled, target_train_upsampled)\n",
    "boosting_model = random_cv.best_estimator_\n",
    "print(boosting_model)"
   ]
  },
  {
   "cell_type": "code",
   "execution_count": 26,
   "id": "9eb07b14",
   "metadata": {},
   "outputs": [
    {
     "data": {
      "text/plain": [
       "{'confusion_matrix_test': [3032, 153, 429, 386],\n",
       " 'f1_test_weighted': 0.8426918213818821,\n",
       " 'f1_test_macro': 0.7412955049871737,\n",
       " 'f1_test': 0.5701624815361891,\n",
       " 'roc_auc_test': 0.8382550490701236}"
      ]
     },
     "execution_count": 26,
     "metadata": {},
     "output_type": "execute_result"
    }
   ],
   "source": [
    "upsampled_boosting_results = get_main_parameters(boosting_model)\n",
    "upsampled_boosting_results"
   ]
  },
  {
   "cell_type": "markdown",
   "id": "fc749a7b",
   "metadata": {},
   "source": [
    "#### Дерево решений"
   ]
  },
  {
   "cell_type": "code",
   "execution_count": 27,
   "id": "8ad5fc25",
   "metadata": {},
   "outputs": [
    {
     "name": "stdout",
     "output_type": "stream",
     "text": [
      "DecisionTreeClassifier(criterion='entropy', max_depth=10, random_state=54321,\n",
      "                       splitter='random')\n"
     ]
    }
   ],
   "source": [
    "criterion = ['gini', 'entropy']\n",
    "splitter = ['best', 'random'] \n",
    "max_depth = [x for x in range(2, 11)]\n",
    "hyperparameter_grid = {'criterion': criterion,\n",
    "    'splitter': splitter,\n",
    "    'max_depth': max_depth\n",
    "                      }\n",
    "\n",
    "model = DecisionTreeClassifier(random_state = 54321)\n",
    "random_cv = RandomizedSearchCV(estimator=model,\n",
    "    param_distributions=hyperparameter_grid,\n",
    "    return_train_score = True,\n",
    "    random_state=54321,\n",
    "    n_jobs=-1\n",
    "      )\n",
    "random_cv.fit(features_train_upsampled, target_train_upsampled)\n",
    "upsampled_tree_model = random_cv.best_estimator_\n",
    "print(upsampled_tree_model)"
   ]
  },
  {
   "cell_type": "code",
   "execution_count": 28,
   "id": "48f1e5e3",
   "metadata": {
    "scrolled": true
   },
   "outputs": [
    {
     "data": {
      "text/plain": [
       "{'confusion_matrix_test': [2534, 651, 264, 551],\n",
       " 'f1_test_weighted': 0.7857968808252036,\n",
       " 'f1_test_macro': 0.696711331585584,\n",
       " 'f1_test': 0.5463559742191373,\n",
       " 'roc_auc_test': 0.7844495381918695}"
      ]
     },
     "execution_count": 28,
     "metadata": {},
     "output_type": "execute_result"
    }
   ],
   "source": [
    "upsampled_tree_results = get_main_parameters(upsampled_tree_model)\n",
    "upsampled_tree_results"
   ]
  },
  {
   "cell_type": "markdown",
   "id": "3de5f534",
   "metadata": {},
   "source": [
    "### Улучшение модели при помощи стандартизации."
   ]
  },
  {
   "cell_type": "code",
   "execution_count": 29,
   "id": "f19b78dd",
   "metadata": {
    "scrolled": true
   },
   "outputs": [
    {
     "name": "stderr",
     "output_type": "stream",
     "text": [
      "C:\\Users\\Kirill\\anaconda3\\lib\\site-packages\\pandas\\core\\frame.py:3678: SettingWithCopyWarning: \n",
      "A value is trying to be set on a copy of a slice from a DataFrame.\n",
      "Try using .loc[row_indexer,col_indexer] = value instead\n",
      "\n",
      "See the caveats in the documentation: https://pandas.pydata.org/pandas-docs/stable/user_guide/indexing.html#returning-a-view-versus-a-copy\n",
      "  self[col] = igetitem(value, i)\n"
     ]
    }
   ],
   "source": [
    "# Стандартизация\n",
    "numeric = ['credit_score', 'age', 'tenure', 'balance', 'num_of_products', 'estimated_salary']\n",
    "scaler = StandardScaler()\n",
    "scaler.fit(features_train_upsampled[numeric])\n",
    "features_train_upsampled[numeric] = scaler.transform(features_train_upsampled[numeric])\n",
    "features_test[numeric] = scaler.transform(features_test[numeric])"
   ]
  },
  {
   "cell_type": "markdown",
   "id": "6081f428",
   "metadata": {},
   "source": [
    "#### Случайный лес"
   ]
  },
  {
   "cell_type": "code",
   "execution_count": 31,
   "id": "c20aec20",
   "metadata": {},
   "outputs": [
    {
     "name": "stdout",
     "output_type": "stream",
     "text": [
      "RandomForestClassifier(criterion='entropy', max_depth=10, n_estimators=160,\n",
      "                       random_state=54321)\n"
     ]
    }
   ],
   "source": [
    "# подбор гиперпараметров случайного леса на стандартизаированных данных\n",
    "criterion = ['gini', 'entropy']\n",
    "n_estimators = [x for x in range(10, 1001, 50)]\n",
    "max_depth = [x for x in range(2, 11)]\n",
    "hyperparameter_grid = {'criterion': criterion,\n",
    "    'n_estimators': n_estimators,\n",
    "    'max_depth': max_depth\n",
    "                      }\n",
    "\n",
    "model = RandomForestClassifier(random_state = 54321)\n",
    "random_cv = RandomizedSearchCV(estimator=model,\n",
    "    param_distributions=hyperparameter_grid,\n",
    "    return_train_score = True,\n",
    "    random_state=54321,\n",
    "    n_jobs=-1)\n",
    "random_cv.fit(features_train_upsampled, target_train_upsampled)\n",
    "scalered_random_forest = random_cv.best_estimator_\n",
    "print(scalered_random_forest)"
   ]
  },
  {
   "cell_type": "code",
   "execution_count": 32,
   "id": "732155a7",
   "metadata": {},
   "outputs": [
    {
     "data": {
      "text/plain": [
       "{'confusion_matrix_test': [2762, 423, 253, 562],\n",
       " 'f1_test_weighted': 0.8366636200716845,\n",
       " 'f1_test_macro': 0.7577060931899641,\n",
       " 'f1_test': 0.6244444444444444,\n",
       " 'roc_auc_test': 0.8593845768604752}"
      ]
     },
     "execution_count": 32,
     "metadata": {},
     "output_type": "execute_result"
    }
   ],
   "source": [
    "scalered_random_forest_results = get_main_parameters(scalered_random_forest)\n",
    "scalered_random_forest_results"
   ]
  },
  {
   "cell_type": "markdown",
   "id": "c5e8cf01",
   "metadata": {},
   "source": [
    "#### Градиентный бустинг"
   ]
  },
  {
   "cell_type": "code",
   "execution_count": 33,
   "id": "eae656a4",
   "metadata": {},
   "outputs": [
    {
     "name": "stdout",
     "output_type": "stream",
     "text": [
      "GradientBoostingClassifier(max_depth=10, n_estimators=750, random_state=54321)\n"
     ]
    }
   ],
   "source": [
    "loss = ['deviance', 'exponential']\n",
    "n_estimators = [x for x in range(100, 1501, 50)]\n",
    "max_depth = [x for x in range(1, 21)]\n",
    "hyperparameter_grid = {'loss': loss,\n",
    "    'n_estimators': n_estimators,\n",
    "    'max_depth': max_depth,\n",
    "                      }\n",
    "\n",
    "model = GradientBoostingClassifier(random_state = 54321)\n",
    "random_cv = RandomizedSearchCV(estimator=model,\n",
    "    param_distributions=hyperparameter_grid,\n",
    "    return_train_score = True,\n",
    "    n_jobs=-1,\n",
    "    random_state=54321)\n",
    "random_cv.fit(features_train_upsampled, target_train_upsampled)\n",
    "scalered_boosting_model = random_cv.best_estimator_\n",
    "print(scalered_boosting_model)"
   ]
  },
  {
   "cell_type": "code",
   "execution_count": 34,
   "id": "930259df",
   "metadata": {},
   "outputs": [
    {
     "data": {
      "text/plain": [
       "{'confusion_matrix_test': [3031, 154, 429, 386],\n",
       " 'f1_test_weighted': 0.8424757662587913,\n",
       " 'f1_test_macro': 0.7410032791072831,\n",
       " 'f1_test': 0.5697416974169741,\n",
       " 'roc_auc_test': 0.8352403424796062}"
      ]
     },
     "execution_count": 34,
     "metadata": {},
     "output_type": "execute_result"
    }
   ],
   "source": [
    "scalered_boosting_results = get_main_parameters(scalered_boosting_model)\n",
    "scalered_boosting_results"
   ]
  },
  {
   "cell_type": "markdown",
   "id": "a5143710",
   "metadata": {},
   "source": [
    "#### Дерево решений"
   ]
  },
  {
   "cell_type": "code",
   "execution_count": 35,
   "id": "abcb872f",
   "metadata": {},
   "outputs": [
    {
     "name": "stdout",
     "output_type": "stream",
     "text": [
      "DecisionTreeClassifier(max_depth=20, random_state=54321)\n"
     ]
    }
   ],
   "source": [
    "criterion = ['gini', 'entropy']\n",
    "splitter = ['best', 'random'] \n",
    "max_depth = [x for x in range(2, 21)]\n",
    "hyperparameter_grid = {'criterion': criterion,\n",
    "    'splitter': splitter,\n",
    "    'max_depth': max_depth\n",
    "                      }\n",
    "\n",
    "model = DecisionTreeClassifier(random_state = 54321)\n",
    "random_cv = RandomizedSearchCV(estimator=model,\n",
    "    param_distributions=hyperparameter_grid,\n",
    "    return_train_score = True,\n",
    "    random_state=54321,\n",
    "    n_jobs=-1)\n",
    "random_cv.fit(features_train_upsampled, target_train_upsampled)\n",
    "scalered_tree_model = random_cv.best_estimator_\n",
    "print(scalered_tree_model)"
   ]
  },
  {
   "cell_type": "code",
   "execution_count": 36,
   "id": "93ebb3e1",
   "metadata": {},
   "outputs": [
    {
     "data": {
      "text/plain": [
       "{'confusion_matrix_test': [2768, 417, 386, 429],\n",
       " 'f1_test_weighted': 0.8006324743598182,\n",
       " 'f1_test_macro': 0.6949400797543641,\n",
       " 'f1_test': 0.5165562913907285,\n",
       " 'roc_auc_test': 0.6986780441294026}"
      ]
     },
     "execution_count": 36,
     "metadata": {},
     "output_type": "execute_result"
    }
   ],
   "source": [
    "scalered_tree_results = get_main_parameters(scalered_tree_model)\n",
    "scalered_tree_results"
   ]
  },
  {
   "cell_type": "markdown",
   "id": "04d73f5b",
   "metadata": {},
   "source": [
    "### Улучшение модели при помощи downsampling"
   ]
  },
  {
   "cell_type": "code",
   "execution_count": 37,
   "id": "719e58e4",
   "metadata": {},
   "outputs": [],
   "source": [
    "def downsample(features, target, fraction):\n",
    "    features_zeros = features[target == 0]\n",
    "    features_ones = features[target == 1]\n",
    "    target_zeros = target[target == 0]\n",
    "    target_ones = target[target == 1]\n",
    "\n",
    "    features_downsampled = pd.concat(\n",
    "        [features_zeros.sample(frac=fraction, random_state=54321)] + [features_ones])\n",
    "    target_downsampled = pd.concat(\n",
    "        [target_zeros.sample(frac=fraction, random_state=54321)] + [target_ones])\n",
    "    \n",
    "    features_downsampled, target_downsampled = shuffle(\n",
    "        features_downsampled, target_downsampled, random_state=54321)\n",
    "    \n",
    "    return features_downsampled, target_downsampled"
   ]
  },
  {
   "cell_type": "code",
   "execution_count": 38,
   "id": "c024d289",
   "metadata": {},
   "outputs": [
    {
     "name": "stdout",
     "output_type": "stream",
     "text": [
      "(3630, 11)\n",
      "(3630,)\n"
     ]
    }
   ],
   "source": [
    "features_downsampled, target_downsampled = downsample(features, targets, 0.2)\n",
    "print(features_downsampled.shape)\n",
    "print(target_downsampled.shape)"
   ]
  },
  {
   "cell_type": "code",
   "execution_count": 39,
   "id": "e27bf33e",
   "metadata": {},
   "outputs": [],
   "source": [
    "features_train_downsampled, features_test_downsampled, target_train_downsampled, target_test_downsampled = train_test_split(features_downsampled, target_downsampled, \n",
    "                                                                            test_size=0.4, random_state=54321, stratify=target_downsampled)"
   ]
  },
  {
   "cell_type": "code",
   "execution_count": 40,
   "id": "eb0a7f9b",
   "metadata": {},
   "outputs": [
    {
     "name": "stdout",
     "output_type": "stream",
     "text": [
      "(2178, 11)\n",
      "(1452, 11)\n",
      "(2178,)\n",
      "(1452,)\n"
     ]
    }
   ],
   "source": [
    "print(features_train_downsampled.shape)\n",
    "print(features_test_downsampled.shape)\n",
    "print(target_train_downsampled.shape)\n",
    "print(target_test_downsampled.shape)"
   ]
  },
  {
   "cell_type": "code",
   "execution_count": 41,
   "id": "f74c9b80",
   "metadata": {},
   "outputs": [],
   "source": [
    "# функция для определения параметров\n",
    "def get_main_parameters_downsampled(model):\n",
    "    \n",
    "    #predictions\n",
    "    predictions_test = model.predict(features_test_downsampled)\n",
    "    \n",
    "    #матрица ошибок для тестовой выборки\n",
    "    tn_test, fp_test, fn_test, tp_test = confusion_matrix(target_test_downsampled, predictions_test, labels=[0, 1]).ravel()\n",
    "    confusion_matrix_test = [tn_test, fp_test, fn_test, tp_test]\n",
    "    \n",
    "    #f1-мера для тестовой выборки при average=weighted\n",
    "    f1_test_weighted = f1_score(target_test_downsampled, predictions_test, average=\"weighted\")\n",
    "    \n",
    "    #f1-мера для тестовой выборки при average=macro\n",
    "    f1_test_macro = f1_score(target_test_downsampled, predictions_test, average=\"macro\")\n",
    "    \n",
    "    #f1-мера для валидационной и тестовой выборки\n",
    "    f1_test = f1_score(target_test_downsampled, predictions_test)\n",
    "    \n",
    "    #ROC-AUC для валидационной и тестовой выборки\n",
    "    proba_test = model.predict_proba(features_test_downsampled)\n",
    "    roc_auc_test = roc_auc_score(target_test_downsampled, proba_test[:,1])\n",
    "    \n",
    "    return {\n",
    "        'confusion_matrix_test': confusion_matrix_test,\n",
    "        'f1_test_weighted': f1_test_weighted,\n",
    "        'f1_test_macro': f1_test_macro,\n",
    "        'f1_test': f1_test,\n",
    "        'roc_auc_test': roc_auc_test\n",
    "           }"
   ]
  },
  {
   "cell_type": "markdown",
   "id": "c345f65a",
   "metadata": {},
   "source": [
    "#### Случайный лес"
   ]
  },
  {
   "cell_type": "code",
   "execution_count": 42,
   "id": "415222ed",
   "metadata": {},
   "outputs": [
    {
     "name": "stdout",
     "output_type": "stream",
     "text": [
      "RandomForestClassifier(criterion='entropy', max_depth=10, n_estimators=160,\n",
      "                       random_state=54321)\n"
     ]
    }
   ],
   "source": [
    "criterion = ['gini', 'entropy']\n",
    "n_estimators = [x for x in range(10, 1001, 50)]\n",
    "max_depth = [x for x in range(2, 11)]\n",
    "hyperparameter_grid = {'criterion': criterion,\n",
    "    'n_estimators': n_estimators,\n",
    "    'max_depth': max_depth\n",
    "                      }\n",
    "\n",
    "model = RandomForestClassifier(random_state = 54321)\n",
    "random_cv = RandomizedSearchCV(estimator=model,\n",
    "    param_distributions=hyperparameter_grid,\n",
    "    return_train_score = True,\n",
    "    random_state=54321,\n",
    "    n_jobs=-1, scoring='f1')\n",
    "random_cv.fit(features_train_downsampled, target_train_downsampled)\n",
    "downsampled_random_forest = random_cv.best_estimator_\n",
    "print(scalered_random_forest)"
   ]
  },
  {
   "cell_type": "code",
   "execution_count": 43,
   "id": "5105345c",
   "metadata": {},
   "outputs": [
    {
     "data": {
      "text/plain": [
       "0.8051044574275578"
      ]
     },
     "execution_count": 43,
     "metadata": {},
     "output_type": "execute_result"
    }
   ],
   "source": [
    "random_cv.best_score_"
   ]
  },
  {
   "cell_type": "code",
   "execution_count": 44,
   "id": "ff1e893b",
   "metadata": {},
   "outputs": [
    {
     "data": {
      "text/plain": [
       "{'confusion_matrix_test': [468, 169, 158, 657],\n",
       " 'f1_test_weighted': 0.7745674845477583,\n",
       " 'f1_test_macro': 0.7709119490027663,\n",
       " 'f1_test': 0.8007312614259599,\n",
       " 'roc_auc_test': 0.8511850988625748}"
      ]
     },
     "execution_count": 44,
     "metadata": {},
     "output_type": "execute_result"
    }
   ],
   "source": [
    "downsampled_random_forest_results = get_main_parameters_downsampled(downsampled_random_forest)\n",
    "downsampled_random_forest_results"
   ]
  },
  {
   "cell_type": "markdown",
   "id": "dae2133b",
   "metadata": {},
   "source": [
    "#### Градиентный бустинг"
   ]
  },
  {
   "cell_type": "code",
   "execution_count": 45,
   "id": "8e1d5cd2",
   "metadata": {},
   "outputs": [
    {
     "name": "stdout",
     "output_type": "stream",
     "text": [
      "GradientBoostingClassifier(loss='exponential', n_estimators=150,\n",
      "                           random_state=54321)\n"
     ]
    }
   ],
   "source": [
    "loss = ['deviance', 'exponential']\n",
    "n_estimators = [x for x in range(100, 1501, 50)]\n",
    "max_depth = [x for x in range(1, 21)]\n",
    "hyperparameter_grid = {'loss': loss,\n",
    "    'n_estimators': n_estimators,\n",
    "    'max_depth': max_depth,\n",
    "                      }\n",
    "\n",
    "model = GradientBoostingClassifier(random_state = 54321)\n",
    "random_cv = RandomizedSearchCV(estimator=model,\n",
    "    param_distributions=hyperparameter_grid,\n",
    "    return_train_score = True,\n",
    "    n_jobs=-1,\n",
    "    random_state=54321, scoring='f1')\n",
    "random_cv.fit(features_train_downsampled, target_train_downsampled)\n",
    "downsampled_boosting_model = random_cv.best_estimator_\n",
    "print(downsampled_boosting_model)"
   ]
  },
  {
   "cell_type": "code",
   "execution_count": 46,
   "id": "3bee1f40",
   "metadata": {},
   "outputs": [
    {
     "data": {
      "text/plain": [
       "0.8046641408015353"
      ]
     },
     "execution_count": 46,
     "metadata": {},
     "output_type": "execute_result"
    }
   ],
   "source": [
    "random_cv.best_score_"
   ]
  },
  {
   "cell_type": "code",
   "execution_count": 47,
   "id": "5cc07348",
   "metadata": {},
   "outputs": [
    {
     "data": {
      "text/plain": [
       "{'confusion_matrix_test': [466, 171, 153, 662],\n",
       " 'f1_test_weighted': 0.7764791745349673,\n",
       " 'f1_test_macro': 0.7727181374064683,\n",
       " 'f1_test': 0.8033980582524272,\n",
       " 'roc_auc_test': 0.8528724562028682}"
      ]
     },
     "execution_count": 47,
     "metadata": {},
     "output_type": "execute_result"
    }
   ],
   "source": [
    "downsampled_boosting_results = get_main_parameters_downsampled(downsampled_boosting_model)\n",
    "downsampled_boosting_results"
   ]
  },
  {
   "cell_type": "markdown",
   "id": "bdf9546d",
   "metadata": {},
   "source": [
    "## Вывод\n",
    "\n",
    "Лучший результат получился у модели градиентного бустинга после downsampling:\n",
    "* F1-мера 0.8033980582524272\n",
    "* ROC-AUC 0.8528724562028682\n",
    "* Количество TP 466\n",
    "* Количество FN  171\n",
    "* Количество TN 153\n",
    "* Количество FP 662\n",
    "\n",
    "Можно сказать, что downsampling данных улучшил модель градиентного бустинга, т.к. согласно ТЗ для банка удержать старых клиентов (т.е. правильно спрогнозировать отток), т.е. получить больше предсказаний класса 1."
   ]
  }
 ],
 "metadata": {
  "ExecuteTimeLog": [
   {
    "duration": 1915,
    "start_time": "2022-04-30T07:12:46.560Z"
   },
   {
    "duration": 147,
    "start_time": "2022-04-30T07:12:48.477Z"
   },
   {
    "duration": 22,
    "start_time": "2022-04-30T07:12:48.626Z"
   },
   {
    "duration": 6,
    "start_time": "2022-04-30T07:12:48.651Z"
   },
   {
    "duration": 36,
    "start_time": "2022-04-30T07:12:48.659Z"
   },
   {
    "duration": 5,
    "start_time": "2022-04-30T07:12:48.697Z"
   },
   {
    "duration": 18,
    "start_time": "2022-04-30T07:12:48.704Z"
   },
   {
    "duration": 33,
    "start_time": "2022-04-30T07:12:48.724Z"
   },
   {
    "duration": 13,
    "start_time": "2022-04-30T07:12:48.759Z"
   },
   {
    "duration": 23,
    "start_time": "2022-04-30T07:12:48.775Z"
   },
   {
    "duration": 7,
    "start_time": "2022-04-30T07:12:48.800Z"
   },
   {
    "duration": 26,
    "start_time": "2022-04-30T07:12:48.809Z"
   },
   {
    "duration": 10,
    "start_time": "2022-04-30T07:12:48.837Z"
   },
   {
    "duration": 17,
    "start_time": "2022-04-30T07:12:48.849Z"
   },
   {
    "duration": 21,
    "start_time": "2022-04-30T07:12:48.868Z"
   },
   {
    "duration": 1955,
    "start_time": "2022-04-30T07:13:28.141Z"
   },
   {
    "duration": 128,
    "start_time": "2022-04-30T07:13:30.098Z"
   },
   {
    "duration": 17,
    "start_time": "2022-04-30T07:13:30.228Z"
   },
   {
    "duration": 3,
    "start_time": "2022-04-30T07:13:30.247Z"
   },
   {
    "duration": 30,
    "start_time": "2022-04-30T07:13:30.251Z"
   },
   {
    "duration": 4,
    "start_time": "2022-04-30T07:13:30.283Z"
   },
   {
    "duration": 16,
    "start_time": "2022-04-30T07:13:30.289Z"
   },
   {
    "duration": 24,
    "start_time": "2022-04-30T07:13:30.306Z"
   },
   {
    "duration": 12,
    "start_time": "2022-04-30T07:13:30.332Z"
   },
   {
    "duration": 21,
    "start_time": "2022-04-30T07:13:30.347Z"
   },
   {
    "duration": 4,
    "start_time": "2022-04-30T07:13:30.370Z"
   },
   {
    "duration": 19,
    "start_time": "2022-04-30T07:13:30.376Z"
   },
   {
    "duration": 6,
    "start_time": "2022-04-30T07:13:30.396Z"
   },
   {
    "duration": 8,
    "start_time": "2022-04-30T07:13:30.404Z"
   },
   {
    "duration": 17,
    "start_time": "2022-04-30T07:13:30.414Z"
   },
   {
    "duration": 120204,
    "start_time": "2022-04-30T07:13:30.432Z"
   },
   {
    "duration": 659,
    "start_time": "2022-04-30T07:15:30.639Z"
   },
   {
    "duration": 6,
    "start_time": "2022-04-30T07:15:31.300Z"
   },
   {
    "duration": 18,
    "start_time": "2022-04-30T07:15:31.307Z"
   },
   {
    "duration": 16,
    "start_time": "2022-04-30T07:15:31.326Z"
   },
   {
    "duration": 172215,
    "start_time": "2022-04-30T07:15:31.344Z"
   },
   {
    "duration": 476,
    "start_time": "2022-04-30T07:18:23.561Z"
   },
   {
    "duration": 479688,
    "start_time": "2022-04-30T07:18:24.039Z"
   },
   {
    "duration": 239,
    "start_time": "2022-04-30T07:26:23.728Z"
   },
   {
    "duration": 1218,
    "start_time": "2022-04-30T07:26:23.969Z"
   },
   {
    "duration": 21,
    "start_time": "2022-04-30T07:26:25.189Z"
   },
   {
    "duration": 26,
    "start_time": "2022-04-30T07:26:25.222Z"
   },
   {
    "duration": 158729,
    "start_time": "2022-04-30T07:26:25.251Z"
   },
   {
    "duration": 476,
    "start_time": "2022-04-30T07:29:03.981Z"
   },
   {
    "duration": 421414,
    "start_time": "2022-04-30T07:29:04.459Z"
   },
   {
    "duration": 230,
    "start_time": "2022-04-30T07:36:05.874Z"
   },
   {
    "duration": 1197,
    "start_time": "2022-04-30T07:36:06.105Z"
   },
   {
    "duration": 31,
    "start_time": "2022-04-30T07:36:07.303Z"
   },
   {
    "duration": 98,
    "start_time": "2022-04-30T07:37:39.155Z"
   },
   {
    "duration": 3,
    "start_time": "2022-04-30T07:38:50.590Z"
   }
  ],
  "kernelspec": {
   "display_name": "Python 3 (ipykernel)",
   "language": "python",
   "name": "python3"
  },
  "language_info": {
   "codemirror_mode": {
    "name": "ipython",
    "version": 3
   },
   "file_extension": ".py",
   "mimetype": "text/x-python",
   "name": "python",
   "nbconvert_exporter": "python",
   "pygments_lexer": "ipython3",
   "version": "3.7.8"
  },
  "toc": {
   "base_numbering": 1,
   "nav_menu": {},
   "number_sections": true,
   "sideBar": true,
   "skip_h1_title": false,
   "title_cell": "Table of Contents",
   "title_sidebar": "Contents",
   "toc_cell": false,
   "toc_position": {},
   "toc_section_display": true,
   "toc_window_display": true
  }
 },
 "nbformat": 4,
 "nbformat_minor": 5
}
