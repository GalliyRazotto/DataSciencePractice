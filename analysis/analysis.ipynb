{
 "cells": [
  {
   "cell_type": "markdown",
   "id": "abb28e97",
   "metadata": {},
   "source": [
    "# Описание проекта\n",
    "Вы аналитик компании «Мегалайн» — федерального оператора сотовой связи. Клиентам предлагают два тарифных плана: «Смарт» и «Ультра». Чтобы скорректировать рекламный бюджет, коммерческий департамент хочет понять, какой тариф приносит больше денег.\n",
    "Вам предстоит сделать предварительный анализ тарифов на небольшой выборке клиентов. В вашем распоряжении данные 500 пользователей «Мегалайна»: кто они, откуда, каким тарифом пользуются, сколько звонков и сообщений каждый отправил за 2018 год. Нужно проанализировать поведение клиентов и сделать вывод — какой тариф лучше."
   ]
  },
  {
   "cell_type": "code",
   "execution_count": 1,
   "id": "f5362d50",
   "metadata": {},
   "outputs": [
    {
     "name": "stdout",
     "output_type": "stream",
     "text": [
      "1.3.5\n",
      "1.21.6\n",
      "0.11.2\n"
     ]
    }
   ],
   "source": [
    "# импорт библиотек\n",
    "import pandas as pd\n",
    "print(pd.__version__)\n",
    "import numpy as np\n",
    "print(np.__version__)\n",
    "import seaborn as sns\n",
    "print(sns.__version__)\n",
    "from scipy import stats as st\n",
    "from matplotlib import pyplot as plt"
   ]
  },
  {
   "cell_type": "code",
   "execution_count": 55,
   "id": "353b6ef7",
   "metadata": {},
   "outputs": [],
   "source": [
    "try:\n",
    "    data_calls = pd.read_csv('calls.csv')\n",
    "    data_internet = pd.read_csv('internet.csv', index_col=0)\n",
    "    data_messages = pd.read_csv('messages.csv')\n",
    "    data_tariffs = pd.read_csv('tariffs.csv')\n",
    "    data_users = pd.read_csv('users.csv')\n",
    "except:\n",
    "    data_calls = pd.read_csv('/datasets/calls.csv')\n",
    "    data_internet = pd.read_csv('/datasets/internet.csv', index_col=0)\n",
    "    data_messages = pd.read_csv('/datasets/messages.csv')\n",
    "    data_tariffs = pd.read_csv('/datasets/tariffs.csv')\n",
    "    data_users = pd.read_csv('/datasets/users.csv')"
   ]
  },
  {
   "cell_type": "markdown",
   "id": "5991762d",
   "metadata": {},
   "source": [
    "### Проверка data_calls"
   ]
  },
  {
   "cell_type": "code",
   "execution_count": 38,
   "id": "f978dc8f",
   "metadata": {
    "scrolled": true
   },
   "outputs": [
    {
     "data": {
      "text/html": [
       "<div>\n",
       "<style scoped>\n",
       "    .dataframe tbody tr th:only-of-type {\n",
       "        vertical-align: middle;\n",
       "    }\n",
       "\n",
       "    .dataframe tbody tr th {\n",
       "        vertical-align: top;\n",
       "    }\n",
       "\n",
       "    .dataframe thead th {\n",
       "        text-align: right;\n",
       "    }\n",
       "</style>\n",
       "<table border=\"1\" class=\"dataframe\">\n",
       "  <thead>\n",
       "    <tr style=\"text-align: right;\">\n",
       "      <th></th>\n",
       "      <th>id</th>\n",
       "      <th>call_date</th>\n",
       "      <th>duration</th>\n",
       "      <th>user_id</th>\n",
       "    </tr>\n",
       "  </thead>\n",
       "  <tbody>\n",
       "    <tr>\n",
       "      <th>0</th>\n",
       "      <td>1000_0</td>\n",
       "      <td>2018-07-25</td>\n",
       "      <td>0.00</td>\n",
       "      <td>1000</td>\n",
       "    </tr>\n",
       "    <tr>\n",
       "      <th>1</th>\n",
       "      <td>1000_1</td>\n",
       "      <td>2018-08-17</td>\n",
       "      <td>0.00</td>\n",
       "      <td>1000</td>\n",
       "    </tr>\n",
       "    <tr>\n",
       "      <th>2</th>\n",
       "      <td>1000_2</td>\n",
       "      <td>2018-06-11</td>\n",
       "      <td>2.85</td>\n",
       "      <td>1000</td>\n",
       "    </tr>\n",
       "    <tr>\n",
       "      <th>3</th>\n",
       "      <td>1000_3</td>\n",
       "      <td>2018-09-21</td>\n",
       "      <td>13.80</td>\n",
       "      <td>1000</td>\n",
       "    </tr>\n",
       "    <tr>\n",
       "      <th>4</th>\n",
       "      <td>1000_4</td>\n",
       "      <td>2018-12-15</td>\n",
       "      <td>5.18</td>\n",
       "      <td>1000</td>\n",
       "    </tr>\n",
       "  </tbody>\n",
       "</table>\n",
       "</div>"
      ],
      "text/plain": [
       "       id   call_date  duration  user_id\n",
       "0  1000_0  2018-07-25      0.00     1000\n",
       "1  1000_1  2018-08-17      0.00     1000\n",
       "2  1000_2  2018-06-11      2.85     1000\n",
       "3  1000_3  2018-09-21     13.80     1000\n",
       "4  1000_4  2018-12-15      5.18     1000"
      ]
     },
     "execution_count": 38,
     "metadata": {},
     "output_type": "execute_result"
    }
   ],
   "source": [
    "data_calls.head()"
   ]
  },
  {
   "cell_type": "code",
   "execution_count": 4,
   "id": "745d3907",
   "metadata": {
    "scrolled": false
   },
   "outputs": [
    {
     "name": "stdout",
     "output_type": "stream",
     "text": [
      "<class 'pandas.core.frame.DataFrame'>\n",
      "RangeIndex: 202607 entries, 0 to 202606\n",
      "Data columns (total 4 columns):\n",
      " #   Column     Non-Null Count   Dtype  \n",
      "---  ------     --------------   -----  \n",
      " 0   id         202607 non-null  object \n",
      " 1   call_date  202607 non-null  object \n",
      " 2   duration   202607 non-null  float64\n",
      " 3   user_id    202607 non-null  int64  \n",
      "dtypes: float64(1), int64(1), object(2)\n",
      "memory usage: 6.2+ MB\n"
     ]
    }
   ],
   "source": [
    "data_calls.info()"
   ]
  },
  {
   "cell_type": "code",
   "execution_count": 10,
   "id": "4d561d69",
   "metadata": {},
   "outputs": [
    {
     "data": {
      "text/html": [
       "<div>\n",
       "<style scoped>\n",
       "    .dataframe tbody tr th:only-of-type {\n",
       "        vertical-align: middle;\n",
       "    }\n",
       "\n",
       "    .dataframe tbody tr th {\n",
       "        vertical-align: top;\n",
       "    }\n",
       "\n",
       "    .dataframe thead th {\n",
       "        text-align: right;\n",
       "    }\n",
       "</style>\n",
       "<table border=\"1\" class=\"dataframe\">\n",
       "  <thead>\n",
       "    <tr style=\"text-align: right;\">\n",
       "      <th></th>\n",
       "      <th>duration</th>\n",
       "      <th>user_id</th>\n",
       "    </tr>\n",
       "  </thead>\n",
       "  <tbody>\n",
       "    <tr>\n",
       "      <th>count</th>\n",
       "      <td>202607.000000</td>\n",
       "      <td>202607.000000</td>\n",
       "    </tr>\n",
       "    <tr>\n",
       "      <th>mean</th>\n",
       "      <td>6.755887</td>\n",
       "      <td>1253.940619</td>\n",
       "    </tr>\n",
       "    <tr>\n",
       "      <th>std</th>\n",
       "      <td>5.843365</td>\n",
       "      <td>144.722751</td>\n",
       "    </tr>\n",
       "    <tr>\n",
       "      <th>min</th>\n",
       "      <td>0.000000</td>\n",
       "      <td>1000.000000</td>\n",
       "    </tr>\n",
       "    <tr>\n",
       "      <th>25%</th>\n",
       "      <td>1.300000</td>\n",
       "      <td>1126.000000</td>\n",
       "    </tr>\n",
       "    <tr>\n",
       "      <th>50%</th>\n",
       "      <td>6.000000</td>\n",
       "      <td>1260.000000</td>\n",
       "    </tr>\n",
       "    <tr>\n",
       "      <th>75%</th>\n",
       "      <td>10.700000</td>\n",
       "      <td>1379.000000</td>\n",
       "    </tr>\n",
       "    <tr>\n",
       "      <th>max</th>\n",
       "      <td>38.000000</td>\n",
       "      <td>1499.000000</td>\n",
       "    </tr>\n",
       "  </tbody>\n",
       "</table>\n",
       "</div>"
      ],
      "text/plain": [
       "            duration        user_id\n",
       "count  202607.000000  202607.000000\n",
       "mean        6.755887    1253.940619\n",
       "std         5.843365     144.722751\n",
       "min         0.000000    1000.000000\n",
       "25%         1.300000    1126.000000\n",
       "50%         6.000000    1260.000000\n",
       "75%        10.700000    1379.000000\n",
       "max        38.000000    1499.000000"
      ]
     },
     "execution_count": 10,
     "metadata": {},
     "output_type": "execute_result"
    }
   ],
   "source": [
    "data_calls.describe()"
   ]
  },
  {
   "cell_type": "code",
   "execution_count": 67,
   "id": "315359dc",
   "metadata": {
    "scrolled": false
   },
   "outputs": [
    {
     "name": "stdout",
     "output_type": "stream",
     "text": [
      "Найдено дубликатов: 0\n"
     ]
    }
   ],
   "source": [
    "# проверка на дубликаты\n",
    "print(f'Найдено дубликатов: {data_calls.duplicated().sum()}')"
   ]
  },
  {
   "cell_type": "code",
   "execution_count": 68,
   "id": "27496fb7",
   "metadata": {},
   "outputs": [],
   "source": [
    "# приведение типов данных\n",
    "# call_date to datatime\n",
    "DATA = '%Y-%m-%d'\n",
    "data_calls.call_date = pd.to_datetime(data_calls.call_date, format=DATA)\n",
    "\n",
    "# duration to int\n",
    "data_calls.duration = np.ceil(data_calls.duration).astype('int64')\n",
    "\n",
    "#Создание нового признака - месяц\n",
    "data_calls['call_month'] = pd.DatetimeIndex(data_calls['call_date']).month"
   ]
  },
  {
   "cell_type": "code",
   "execution_count": 69,
   "id": "cdd91f75",
   "metadata": {
    "scrolled": false
   },
   "outputs": [
    {
     "data": {
      "image/png": "[encoded data removed]",
      "text/plain": [
       "<Figure size 720x432 with 1 Axes>"
      ]
     },
     "metadata": {
      "needs_background": "light"
     },
     "output_type": "display_data"
    }
   ],
   "source": [
    "plt.figure(figsize=(10, 6))\n",
    "plt.title('Распределение длительности звонков', fontsize=20)\n",
    "plt.xlabel('Длинтельность звонка', fontsize=15)\n",
    "plt.ylabel('Количество звонков', fontsize=15)\n",
    "sns.histplot(data=data_calls.duration, binwidth=1, color='forestgreen')\n",
    "plt.show()"
   ]
  },
  {
   "cell_type": "markdown",
   "id": "e2dae2d5",
   "metadata": {},
   "source": [
    "На графике видно ~40 тысяч звонков длительностью 0 мин. Это пропущенные вызовы. Поэтому не будем их считать за аномалии."
   ]
  },
  {
   "cell_type": "markdown",
   "id": "5a449e48",
   "metadata": {},
   "source": [
    "### Проверка data_internet"
   ]
  },
  {
   "cell_type": "code",
   "execution_count": 44,
   "id": "b073a3a5",
   "metadata": {
    "scrolled": false
   },
   "outputs": [
    {
     "data": {
      "text/html": [
       "<div>\n",
       "<style scoped>\n",
       "    .dataframe tbody tr th:only-of-type {\n",
       "        vertical-align: middle;\n",
       "    }\n",
       "\n",
       "    .dataframe tbody tr th {\n",
       "        vertical-align: top;\n",
       "    }\n",
       "\n",
       "    .dataframe thead th {\n",
       "        text-align: right;\n",
       "    }\n",
       "</style>\n",
       "<table border=\"1\" class=\"dataframe\">\n",
       "  <thead>\n",
       "    <tr style=\"text-align: right;\">\n",
       "      <th></th>\n",
       "      <th>id</th>\n",
       "      <th>mb_used</th>\n",
       "      <th>session_date</th>\n",
       "      <th>user_id</th>\n",
       "      <th>session_month</th>\n",
       "    </tr>\n",
       "  </thead>\n",
       "  <tbody>\n",
       "    <tr>\n",
       "      <th>0</th>\n",
       "      <td>1000_0</td>\n",
       "      <td>112.95</td>\n",
       "      <td>2018-11-25</td>\n",
       "      <td>1000</td>\n",
       "      <td>11</td>\n",
       "    </tr>\n",
       "    <tr>\n",
       "      <th>1</th>\n",
       "      <td>1000_1</td>\n",
       "      <td>1052.81</td>\n",
       "      <td>2018-09-07</td>\n",
       "      <td>1000</td>\n",
       "      <td>9</td>\n",
       "    </tr>\n",
       "    <tr>\n",
       "      <th>2</th>\n",
       "      <td>1000_2</td>\n",
       "      <td>1197.26</td>\n",
       "      <td>2018-06-25</td>\n",
       "      <td>1000</td>\n",
       "      <td>6</td>\n",
       "    </tr>\n",
       "    <tr>\n",
       "      <th>3</th>\n",
       "      <td>1000_3</td>\n",
       "      <td>550.27</td>\n",
       "      <td>2018-08-22</td>\n",
       "      <td>1000</td>\n",
       "      <td>8</td>\n",
       "    </tr>\n",
       "    <tr>\n",
       "      <th>4</th>\n",
       "      <td>1000_4</td>\n",
       "      <td>302.56</td>\n",
       "      <td>2018-09-24</td>\n",
       "      <td>1000</td>\n",
       "      <td>9</td>\n",
       "    </tr>\n",
       "  </tbody>\n",
       "</table>\n",
       "</div>"
      ],
      "text/plain": [
       "       id  mb_used session_date  user_id  session_month\n",
       "0  1000_0   112.95   2018-11-25     1000             11\n",
       "1  1000_1  1052.81   2018-09-07     1000              9\n",
       "2  1000_2  1197.26   2018-06-25     1000              6\n",
       "3  1000_3   550.27   2018-08-22     1000              8\n",
       "4  1000_4   302.56   2018-09-24     1000              9"
      ]
     },
     "execution_count": 44,
     "metadata": {},
     "output_type": "execute_result"
    }
   ],
   "source": [
    "data_internet.head()"
   ]
  },
  {
   "cell_type": "code",
   "execution_count": 45,
   "id": "1242d191",
   "metadata": {
    "scrolled": false
   },
   "outputs": [
    {
     "name": "stdout",
     "output_type": "stream",
     "text": [
      "<class 'pandas.core.frame.DataFrame'>\n",
      "Int64Index: 149396 entries, 0 to 149395\n",
      "Data columns (total 5 columns):\n",
      " #   Column         Non-Null Count   Dtype         \n",
      "---  ------         --------------   -----         \n",
      " 0   id             149396 non-null  object        \n",
      " 1   mb_used        149396 non-null  float64       \n",
      " 2   session_date   149396 non-null  datetime64[ns]\n",
      " 3   user_id        149396 non-null  int64         \n",
      " 4   session_month  149396 non-null  int64         \n",
      "dtypes: datetime64[ns](1), float64(1), int64(2), object(1)\n",
      "memory usage: 6.8+ MB\n"
     ]
    }
   ],
   "source": [
    "data_internet.info()"
   ]
  },
  {
   "cell_type": "code",
   "execution_count": 46,
   "id": "6c8fb237",
   "metadata": {
    "scrolled": false
   },
   "outputs": [
    {
     "name": "stdout",
     "output_type": "stream",
     "text": [
      "Найдено дубликатов: 0\n"
     ]
    }
   ],
   "source": [
    "# проверка на дубликаты\n",
    "print(f'Найдено дубликатов: {data_internet.duplicated().sum()}')"
   ]
  },
  {
   "cell_type": "code",
   "execution_count": 76,
   "id": "c6e663ac",
   "metadata": {},
   "outputs": [],
   "source": [
    "# приведение типов данных\n",
    "# data_internet to datetime\n",
    "data_internet.session_date = pd.to_datetime(data_internet.session_date, format=DATA)\n",
    "data_internet['session_month'] = pd.DatetimeIndex(data_internet['session_date']).month"
   ]
  },
  {
   "cell_type": "code",
   "execution_count": 52,
   "id": "7c450b6d",
   "metadata": {
    "scrolled": false
   },
   "outputs": [
    {
     "data": {
      "image/png": "[encoded data removed]",
      "text/plain": [
       "<Figure size 720x432 with 1 Axes>"
      ]
     },
     "metadata": {
      "needs_background": "light"
     },
     "output_type": "display_data"
    }
   ],
   "source": [
    "# Проверка на аномалии\n",
    "plt.figure(figsize=(10, 6))\n",
    "plt.title('Распределение длительности сессии', fontsize=20)\n",
    "plt.xlabel('Длинтельность сессии', fontsize=15)\n",
    "plt.ylabel('Количество сессий', fontsize=15)\n",
    "sns.histplot(data=data_internet.mb_used, color='forestgreen')\n",
    "plt.show()"
   ]
  },
  {
   "cell_type": "markdown",
   "id": "83583323",
   "metadata": {},
   "source": [
    "### Проверка data_message"
   ]
  },
  {
   "cell_type": "code",
   "execution_count": 56,
   "id": "c00c3d87",
   "metadata": {
    "scrolled": false
   },
   "outputs": [
    {
     "data": {
      "text/html": [
       "<div>\n",
       "<style scoped>\n",
       "    .dataframe tbody tr th:only-of-type {\n",
       "        vertical-align: middle;\n",
       "    }\n",
       "\n",
       "    .dataframe tbody tr th {\n",
       "        vertical-align: top;\n",
       "    }\n",
       "\n",
       "    .dataframe thead th {\n",
       "        text-align: right;\n",
       "    }\n",
       "</style>\n",
       "<table border=\"1\" class=\"dataframe\">\n",
       "  <thead>\n",
       "    <tr style=\"text-align: right;\">\n",
       "      <th></th>\n",
       "      <th>id</th>\n",
       "      <th>message_date</th>\n",
       "      <th>user_id</th>\n",
       "    </tr>\n",
       "  </thead>\n",
       "  <tbody>\n",
       "    <tr>\n",
       "      <th>0</th>\n",
       "      <td>1000_0</td>\n",
       "      <td>2018-06-27</td>\n",
       "      <td>1000</td>\n",
       "    </tr>\n",
       "    <tr>\n",
       "      <th>1</th>\n",
       "      <td>1000_1</td>\n",
       "      <td>2018-10-08</td>\n",
       "      <td>1000</td>\n",
       "    </tr>\n",
       "    <tr>\n",
       "      <th>2</th>\n",
       "      <td>1000_2</td>\n",
       "      <td>2018-08-04</td>\n",
       "      <td>1000</td>\n",
       "    </tr>\n",
       "    <tr>\n",
       "      <th>3</th>\n",
       "      <td>1000_3</td>\n",
       "      <td>2018-06-16</td>\n",
       "      <td>1000</td>\n",
       "    </tr>\n",
       "    <tr>\n",
       "      <th>4</th>\n",
       "      <td>1000_4</td>\n",
       "      <td>2018-12-05</td>\n",
       "      <td>1000</td>\n",
       "    </tr>\n",
       "  </tbody>\n",
       "</table>\n",
       "</div>"
      ],
      "text/plain": [
       "       id message_date  user_id\n",
       "0  1000_0   2018-06-27     1000\n",
       "1  1000_1   2018-10-08     1000\n",
       "2  1000_2   2018-08-04     1000\n",
       "3  1000_3   2018-06-16     1000\n",
       "4  1000_4   2018-12-05     1000"
      ]
     },
     "execution_count": 56,
     "metadata": {},
     "output_type": "execute_result"
    }
   ],
   "source": [
    "data_messages.head()"
   ]
  },
  {
   "cell_type": "code",
   "execution_count": 57,
   "id": "e67acdf4",
   "metadata": {
    "scrolled": true
   },
   "outputs": [
    {
     "name": "stdout",
     "output_type": "stream",
     "text": [
      "<class 'pandas.core.frame.DataFrame'>\n",
      "RangeIndex: 123036 entries, 0 to 123035\n",
      "Data columns (total 3 columns):\n",
      " #   Column        Non-Null Count   Dtype \n",
      "---  ------        --------------   ----- \n",
      " 0   id            123036 non-null  object\n",
      " 1   message_date  123036 non-null  object\n",
      " 2   user_id       123036 non-null  int64 \n",
      "dtypes: int64(1), object(2)\n",
      "memory usage: 2.8+ MB\n"
     ]
    }
   ],
   "source": [
    "data_messages.info()"
   ]
  },
  {
   "cell_type": "code",
   "execution_count": 58,
   "id": "b50bf125",
   "metadata": {
    "scrolled": true
   },
   "outputs": [
    {
     "name": "stdout",
     "output_type": "stream",
     "text": [
      "Найдено дубликатов: 0\n"
     ]
    }
   ],
   "source": [
    "# проверка на дубликаты\n",
    "print(f'Найдено дубликатов: {data_messages.duplicated().sum()}')"
   ]
  },
  {
   "cell_type": "code",
   "execution_count": 59,
   "id": "2bae2250",
   "metadata": {},
   "outputs": [],
   "source": [
    "# приведение типов данных\n",
    "# data_internet to datetime\n",
    "data_messages.message_date = pd.to_datetime(data_messages.message_date, format=DATA)\n",
    "data_messages['message_month'] = pd.DatetimeIndex(data_messages['message_date']).month"
   ]
  },
  {
   "cell_type": "markdown",
   "id": "80c66420",
   "metadata": {},
   "source": [
    "### Проверка data_tariffs"
   ]
  },
  {
   "cell_type": "code",
   "execution_count": 60,
   "id": "1338ffcb",
   "metadata": {
    "scrolled": false
   },
   "outputs": [
    {
     "data": {
      "text/html": [
       "<div>\n",
       "<style scoped>\n",
       "    .dataframe tbody tr th:only-of-type {\n",
       "        vertical-align: middle;\n",
       "    }\n",
       "\n",
       "    .dataframe tbody tr th {\n",
       "        vertical-align: top;\n",
       "    }\n",
       "\n",
       "    .dataframe thead th {\n",
       "        text-align: right;\n",
       "    }\n",
       "</style>\n",
       "<table border=\"1\" class=\"dataframe\">\n",
       "  <thead>\n",
       "    <tr style=\"text-align: right;\">\n",
       "      <th></th>\n",
       "      <th>messages_included</th>\n",
       "      <th>mb_per_month_included</th>\n",
       "      <th>minutes_included</th>\n",
       "      <th>rub_monthly_fee</th>\n",
       "      <th>rub_per_gb</th>\n",
       "      <th>rub_per_message</th>\n",
       "      <th>rub_per_minute</th>\n",
       "      <th>tariff_name</th>\n",
       "    </tr>\n",
       "  </thead>\n",
       "  <tbody>\n",
       "    <tr>\n",
       "      <th>0</th>\n",
       "      <td>50</td>\n",
       "      <td>15360</td>\n",
       "      <td>500</td>\n",
       "      <td>550</td>\n",
       "      <td>200</td>\n",
       "      <td>3</td>\n",
       "      <td>3</td>\n",
       "      <td>smart</td>\n",
       "    </tr>\n",
       "    <tr>\n",
       "      <th>1</th>\n",
       "      <td>1000</td>\n",
       "      <td>30720</td>\n",
       "      <td>3000</td>\n",
       "      <td>1950</td>\n",
       "      <td>150</td>\n",
       "      <td>1</td>\n",
       "      <td>1</td>\n",
       "      <td>ultra</td>\n",
       "    </tr>\n",
       "  </tbody>\n",
       "</table>\n",
       "</div>"
      ],
      "text/plain": [
       "   messages_included  mb_per_month_included  minutes_included  \\\n",
       "0                 50                  15360               500   \n",
       "1               1000                  30720              3000   \n",
       "\n",
       "   rub_monthly_fee  rub_per_gb  rub_per_message  rub_per_minute tariff_name  \n",
       "0              550         200                3               3       smart  \n",
       "1             1950         150                1               1       ultra  "
      ]
     },
     "execution_count": 60,
     "metadata": {},
     "output_type": "execute_result"
    }
   ],
   "source": [
    "data_tariffs.head()"
   ]
  },
  {
   "cell_type": "markdown",
   "id": "9b1d3d54",
   "metadata": {},
   "source": [
    "### Проверка data_users"
   ]
  },
  {
   "cell_type": "code",
   "execution_count": 61,
   "id": "de83df66",
   "metadata": {
    "scrolled": true
   },
   "outputs": [
    {
     "data": {
      "text/html": [
       "<div>\n",
       "<style scoped>\n",
       "    .dataframe tbody tr th:only-of-type {\n",
       "        vertical-align: middle;\n",
       "    }\n",
       "\n",
       "    .dataframe tbody tr th {\n",
       "        vertical-align: top;\n",
       "    }\n",
       "\n",
       "    .dataframe thead th {\n",
       "        text-align: right;\n",
       "    }\n",
       "</style>\n",
       "<table border=\"1\" class=\"dataframe\">\n",
       "  <thead>\n",
       "    <tr style=\"text-align: right;\">\n",
       "      <th></th>\n",
       "      <th>user_id</th>\n",
       "      <th>age</th>\n",
       "      <th>churn_date</th>\n",
       "      <th>city</th>\n",
       "      <th>first_name</th>\n",
       "      <th>last_name</th>\n",
       "      <th>reg_date</th>\n",
       "      <th>tariff</th>\n",
       "    </tr>\n",
       "  </thead>\n",
       "  <tbody>\n",
       "    <tr>\n",
       "      <th>0</th>\n",
       "      <td>1000</td>\n",
       "      <td>52</td>\n",
       "      <td>NaN</td>\n",
       "      <td>Краснодар</td>\n",
       "      <td>Рафаил</td>\n",
       "      <td>Верещагин</td>\n",
       "      <td>2018-05-25</td>\n",
       "      <td>ultra</td>\n",
       "    </tr>\n",
       "    <tr>\n",
       "      <th>1</th>\n",
       "      <td>1001</td>\n",
       "      <td>41</td>\n",
       "      <td>NaN</td>\n",
       "      <td>Москва</td>\n",
       "      <td>Иван</td>\n",
       "      <td>Ежов</td>\n",
       "      <td>2018-11-01</td>\n",
       "      <td>smart</td>\n",
       "    </tr>\n",
       "    <tr>\n",
       "      <th>2</th>\n",
       "      <td>1002</td>\n",
       "      <td>59</td>\n",
       "      <td>NaN</td>\n",
       "      <td>Стерлитамак</td>\n",
       "      <td>Евгений</td>\n",
       "      <td>Абрамович</td>\n",
       "      <td>2018-06-17</td>\n",
       "      <td>smart</td>\n",
       "    </tr>\n",
       "    <tr>\n",
       "      <th>3</th>\n",
       "      <td>1003</td>\n",
       "      <td>23</td>\n",
       "      <td>NaN</td>\n",
       "      <td>Москва</td>\n",
       "      <td>Белла</td>\n",
       "      <td>Белякова</td>\n",
       "      <td>2018-08-17</td>\n",
       "      <td>ultra</td>\n",
       "    </tr>\n",
       "    <tr>\n",
       "      <th>4</th>\n",
       "      <td>1004</td>\n",
       "      <td>68</td>\n",
       "      <td>NaN</td>\n",
       "      <td>Новокузнецк</td>\n",
       "      <td>Татьяна</td>\n",
       "      <td>Авдеенко</td>\n",
       "      <td>2018-05-14</td>\n",
       "      <td>ultra</td>\n",
       "    </tr>\n",
       "  </tbody>\n",
       "</table>\n",
       "</div>"
      ],
      "text/plain": [
       "   user_id  age churn_date         city first_name  last_name    reg_date  \\\n",
       "0     1000   52        NaN    Краснодар     Рафаил  Верещагин  2018-05-25   \n",
       "1     1001   41        NaN       Москва       Иван       Ежов  2018-11-01   \n",
       "2     1002   59        NaN  Стерлитамак    Евгений  Абрамович  2018-06-17   \n",
       "3     1003   23        NaN       Москва      Белла   Белякова  2018-08-17   \n",
       "4     1004   68        NaN  Новокузнецк    Татьяна   Авдеенко  2018-05-14   \n",
       "\n",
       "  tariff  \n",
       "0  ultra  \n",
       "1  smart  \n",
       "2  smart  \n",
       "3  ultra  \n",
       "4  ultra  "
      ]
     },
     "execution_count": 61,
     "metadata": {},
     "output_type": "execute_result"
    }
   ],
   "source": [
    "data_users.head()"
   ]
  },
  {
   "cell_type": "code",
   "execution_count": 62,
   "id": "ef9a8ab4",
   "metadata": {},
   "outputs": [
    {
     "name": "stdout",
     "output_type": "stream",
     "text": [
      "Количество пользователей, сменивших тариф: 0\n"
     ]
    }
   ],
   "source": [
    "# Проверяем, переходил ли абонент на другой тариф\n",
    "print(f'Количество пользователей, сменивших тариф: {data_users.user_id.duplicated().sum()}')"
   ]
  },
  {
   "cell_type": "code",
   "execution_count": 63,
   "id": "f9dc3521",
   "metadata": {
    "scrolled": true
   },
   "outputs": [
    {
     "name": "stdout",
     "output_type": "stream",
     "text": [
      "Найдено дубликатов: 0\n"
     ]
    }
   ],
   "source": [
    "print(f'Найдено дубликатов: {data_users.duplicated().sum()}')"
   ]
  },
  {
   "cell_type": "code",
   "execution_count": 64,
   "id": "956cc3b2",
   "metadata": {},
   "outputs": [],
   "source": [
    "# data_internet to datetime\n",
    "data_users.reg_date = pd.to_datetime(data_users.reg_date, format=DATA)\n",
    "data_users['reg_month'] = pd.DatetimeIndex(data_users['reg_date']).month"
   ]
  },
  {
   "cell_type": "markdown",
   "id": "2c1dc3f1",
   "metadata": {},
   "source": [
    "### Посчитаем для каждого пользователя:\n",
    "#### Колиство сделанных звонков и израсходованных минут разговора по месяцам"
   ]
  },
  {
   "cell_type": "code",
   "execution_count": 93,
   "id": "87b0a681",
   "metadata": {},
   "outputs": [
    {
     "data": {
      "text/html": [
       "<div>\n",
       "<style scoped>\n",
       "    .dataframe tbody tr th:only-of-type {\n",
       "        vertical-align: middle;\n",
       "    }\n",
       "\n",
       "    .dataframe tbody tr th {\n",
       "        vertical-align: top;\n",
       "    }\n",
       "\n",
       "    .dataframe thead th {\n",
       "        text-align: right;\n",
       "    }\n",
       "</style>\n",
       "<table border=\"1\" class=\"dataframe\">\n",
       "  <thead>\n",
       "    <tr style=\"text-align: right;\">\n",
       "      <th></th>\n",
       "      <th></th>\n",
       "      <th>duration_count</th>\n",
       "      <th>duration_sum</th>\n",
       "    </tr>\n",
       "    <tr>\n",
       "      <th>user_id</th>\n",
       "      <th>call_month</th>\n",
       "      <th></th>\n",
       "      <th></th>\n",
       "    </tr>\n",
       "  </thead>\n",
       "  <tbody>\n",
       "    <tr>\n",
       "      <th rowspan=\"5\" valign=\"top\">1000</th>\n",
       "      <th>5</th>\n",
       "      <td>22</td>\n",
       "      <td>159</td>\n",
       "    </tr>\n",
       "    <tr>\n",
       "      <th>6</th>\n",
       "      <td>43</td>\n",
       "      <td>172</td>\n",
       "    </tr>\n",
       "    <tr>\n",
       "      <th>7</th>\n",
       "      <td>47</td>\n",
       "      <td>340</td>\n",
       "    </tr>\n",
       "    <tr>\n",
       "      <th>8</th>\n",
       "      <td>52</td>\n",
       "      <td>408</td>\n",
       "    </tr>\n",
       "    <tr>\n",
       "      <th>9</th>\n",
       "      <td>58</td>\n",
       "      <td>466</td>\n",
       "    </tr>\n",
       "  </tbody>\n",
       "</table>\n",
       "</div>"
      ],
      "text/plain": [
       "                    duration_count  duration_sum\n",
       "user_id call_month                              \n",
       "1000    5                       22           159\n",
       "        6                       43           172\n",
       "        7                       47           340\n",
       "        8                       52           408\n",
       "        9                       58           466"
      ]
     },
     "execution_count": 93,
     "metadata": {},
     "output_type": "execute_result"
    }
   ],
   "source": [
    "data_calls_pivot = data_calls.pivot_table(index=['user_id', 'call_month'], values='duration', aggfunc=['count', 'sum'])\n",
    "data_calls_pivot.columns = ['duration_count', 'duration_sum']\n",
    "data_calls_pivot.head()"
   ]
  },
  {
   "cell_type": "markdown",
   "id": "bd986604",
   "metadata": {},
   "source": [
    "#### Количество отправленных сообщений по месяцам"
   ]
  },
  {
   "cell_type": "code",
   "execution_count": 91,
   "id": "5c5027c7",
   "metadata": {},
   "outputs": [
    {
     "data": {
      "text/html": [
       "<div>\n",
       "<style scoped>\n",
       "    .dataframe tbody tr th:only-of-type {\n",
       "        vertical-align: middle;\n",
       "    }\n",
       "\n",
       "    .dataframe tbody tr th {\n",
       "        vertical-align: top;\n",
       "    }\n",
       "\n",
       "    .dataframe thead th {\n",
       "        text-align: right;\n",
       "    }\n",
       "</style>\n",
       "<table border=\"1\" class=\"dataframe\">\n",
       "  <thead>\n",
       "    <tr style=\"text-align: right;\">\n",
       "      <th></th>\n",
       "      <th></th>\n",
       "      <th>message_count</th>\n",
       "    </tr>\n",
       "    <tr>\n",
       "      <th>user_id</th>\n",
       "      <th>message_month</th>\n",
       "      <th></th>\n",
       "    </tr>\n",
       "  </thead>\n",
       "  <tbody>\n",
       "    <tr>\n",
       "      <th rowspan=\"5\" valign=\"top\">1000</th>\n",
       "      <th>5</th>\n",
       "      <td>22</td>\n",
       "    </tr>\n",
       "    <tr>\n",
       "      <th>6</th>\n",
       "      <td>60</td>\n",
       "    </tr>\n",
       "    <tr>\n",
       "      <th>7</th>\n",
       "      <td>75</td>\n",
       "    </tr>\n",
       "    <tr>\n",
       "      <th>8</th>\n",
       "      <td>81</td>\n",
       "    </tr>\n",
       "    <tr>\n",
       "      <th>9</th>\n",
       "      <td>57</td>\n",
       "    </tr>\n",
       "  </tbody>\n",
       "</table>\n",
       "</div>"
      ],
      "text/plain": [
       "                       message_count\n",
       "user_id message_month               \n",
       "1000    5                         22\n",
       "        6                         60\n",
       "        7                         75\n",
       "        8                         81\n",
       "        9                         57"
      ]
     },
     "execution_count": 91,
     "metadata": {},
     "output_type": "execute_result"
    }
   ],
   "source": [
    "data_messages_pivot = data_messages.pivot_table(index=['user_id', 'message_month'], values='id', aggfunc='count')\n",
    "data_messages_pivot.columns = ['message_count']\n",
    "data_messages_pivot.head()"
   ]
  },
  {
   "cell_type": "markdown",
   "id": "46be9a71",
   "metadata": {},
   "source": [
    "#### Объем израсходованного интернет-трафика по месяцам"
   ]
  },
  {
   "cell_type": "code",
   "execution_count": 92,
   "id": "21db8f50",
   "metadata": {
    "scrolled": true
   },
   "outputs": [
    {
     "data": {
      "text/html": [
       "<div>\n",
       "<style scoped>\n",
       "    .dataframe tbody tr th:only-of-type {\n",
       "        vertical-align: middle;\n",
       "    }\n",
       "\n",
       "    .dataframe tbody tr th {\n",
       "        vertical-align: top;\n",
       "    }\n",
       "\n",
       "    .dataframe thead th {\n",
       "        text-align: right;\n",
       "    }\n",
       "</style>\n",
       "<table border=\"1\" class=\"dataframe\">\n",
       "  <thead>\n",
       "    <tr style=\"text-align: right;\">\n",
       "      <th></th>\n",
       "      <th></th>\n",
       "      <th>Gb_used</th>\n",
       "    </tr>\n",
       "    <tr>\n",
       "      <th>user_id</th>\n",
       "      <th>session_month</th>\n",
       "      <th></th>\n",
       "    </tr>\n",
       "  </thead>\n",
       "  <tbody>\n",
       "    <tr>\n",
       "      <th rowspan=\"5\" valign=\"top\">1000</th>\n",
       "      <th>5</th>\n",
       "      <td>3</td>\n",
       "    </tr>\n",
       "    <tr>\n",
       "      <th>6</th>\n",
       "      <td>23</td>\n",
       "    </tr>\n",
       "    <tr>\n",
       "      <th>7</th>\n",
       "      <td>14</td>\n",
       "    </tr>\n",
       "    <tr>\n",
       "      <th>8</th>\n",
       "      <td>14</td>\n",
       "    </tr>\n",
       "    <tr>\n",
       "      <th>9</th>\n",
       "      <td>15</td>\n",
       "    </tr>\n",
       "  </tbody>\n",
       "</table>\n",
       "</div>"
      ],
      "text/plain": [
       "                       Gb_used\n",
       "user_id session_month         \n",
       "1000    5                    3\n",
       "        6                   23\n",
       "        7                   14\n",
       "        8                   14\n",
       "        9                   15"
      ]
     },
     "execution_count": 92,
     "metadata": {},
     "output_type": "execute_result"
    }
   ],
   "source": [
    "data_internet_pivot = data_internet.pivot_table(index=['user_id', 'session_month'], values='mb_used', aggfunc='sum')\n",
    "data_internet_pivot.mb_used = np.ceil(data_internet_pivot.mb_used/1024).astype('int64')\n",
    "data_internet_pivot.columns = ['Gb_used']\n",
    "data_internet_pivot.head()"
   ]
  },
  {
   "cell_type": "markdown",
   "id": "f3854596",
   "metadata": {},
   "source": [
    "#### Помесячная выручка с каждого пользователя"
   ]
  },
  {
   "cell_type": "markdown",
   "id": "dcb04aa0",
   "metadata": {},
   "source": [
    "Сделаем общую таблицу. Объеддиним data_calls_pivot, data_internet_pivot, data_messages_pivot"
   ]
  },
  {
   "cell_type": "code",
   "execution_count": 95,
   "id": "19de2991",
   "metadata": {},
   "outputs": [],
   "source": [
    "data = data_calls_pivot.join([data_internet_pivot, data_messages_pivot], how='outer').reset_index()\n",
    "data = data.rename(columns={'level_1': 'month'})"
   ]
  },
  {
   "cell_type": "code",
   "execution_count": 96,
   "id": "71635078",
   "metadata": {},
   "outputs": [
    {
     "data": {
      "text/html": [
       "<div>\n",
       "<style scoped>\n",
       "    .dataframe tbody tr th:only-of-type {\n",
       "        vertical-align: middle;\n",
       "    }\n",
       "\n",
       "    .dataframe tbody tr th {\n",
       "        vertical-align: top;\n",
       "    }\n",
       "\n",
       "    .dataframe thead th {\n",
       "        text-align: right;\n",
       "    }\n",
       "</style>\n",
       "<table border=\"1\" class=\"dataframe\">\n",
       "  <thead>\n",
       "    <tr style=\"text-align: right;\">\n",
       "      <th></th>\n",
       "      <th>user_id</th>\n",
       "      <th>month</th>\n",
       "      <th>duration_count</th>\n",
       "      <th>duration_sum</th>\n",
       "      <th>Gb_used</th>\n",
       "      <th>message_count</th>\n",
       "      <th>age</th>\n",
       "      <th>churn_date</th>\n",
       "      <th>city</th>\n",
       "      <th>first_name</th>\n",
       "      <th>...</th>\n",
       "      <th>reg_date</th>\n",
       "      <th>tariff</th>\n",
       "      <th>reg_month</th>\n",
       "      <th>messages_included</th>\n",
       "      <th>mb_per_month_included</th>\n",
       "      <th>minutes_included</th>\n",
       "      <th>rub_monthly_fee</th>\n",
       "      <th>rub_per_gb</th>\n",
       "      <th>rub_per_message</th>\n",
       "      <th>rub_per_minute</th>\n",
       "    </tr>\n",
       "  </thead>\n",
       "  <tbody>\n",
       "    <tr>\n",
       "      <th>0</th>\n",
       "      <td>1000</td>\n",
       "      <td>5.0</td>\n",
       "      <td>22.0</td>\n",
       "      <td>159.0</td>\n",
       "      <td>3.0</td>\n",
       "      <td>22.0</td>\n",
       "      <td>52</td>\n",
       "      <td>NaN</td>\n",
       "      <td>Краснодар</td>\n",
       "      <td>Рафаил</td>\n",
       "      <td>...</td>\n",
       "      <td>2018-05-25</td>\n",
       "      <td>ultra</td>\n",
       "      <td>5</td>\n",
       "      <td>1000</td>\n",
       "      <td>30720</td>\n",
       "      <td>3000</td>\n",
       "      <td>1950</td>\n",
       "      <td>150</td>\n",
       "      <td>1</td>\n",
       "      <td>1</td>\n",
       "    </tr>\n",
       "    <tr>\n",
       "      <th>1</th>\n",
       "      <td>1000</td>\n",
       "      <td>6.0</td>\n",
       "      <td>43.0</td>\n",
       "      <td>172.0</td>\n",
       "      <td>23.0</td>\n",
       "      <td>60.0</td>\n",
       "      <td>52</td>\n",
       "      <td>NaN</td>\n",
       "      <td>Краснодар</td>\n",
       "      <td>Рафаил</td>\n",
       "      <td>...</td>\n",
       "      <td>2018-05-25</td>\n",
       "      <td>ultra</td>\n",
       "      <td>5</td>\n",
       "      <td>1000</td>\n",
       "      <td>30720</td>\n",
       "      <td>3000</td>\n",
       "      <td>1950</td>\n",
       "      <td>150</td>\n",
       "      <td>1</td>\n",
       "      <td>1</td>\n",
       "    </tr>\n",
       "    <tr>\n",
       "      <th>2</th>\n",
       "      <td>1000</td>\n",
       "      <td>7.0</td>\n",
       "      <td>47.0</td>\n",
       "      <td>340.0</td>\n",
       "      <td>14.0</td>\n",
       "      <td>75.0</td>\n",
       "      <td>52</td>\n",
       "      <td>NaN</td>\n",
       "      <td>Краснодар</td>\n",
       "      <td>Рафаил</td>\n",
       "      <td>...</td>\n",
       "      <td>2018-05-25</td>\n",
       "      <td>ultra</td>\n",
       "      <td>5</td>\n",
       "      <td>1000</td>\n",
       "      <td>30720</td>\n",
       "      <td>3000</td>\n",
       "      <td>1950</td>\n",
       "      <td>150</td>\n",
       "      <td>1</td>\n",
       "      <td>1</td>\n",
       "    </tr>\n",
       "    <tr>\n",
       "      <th>3</th>\n",
       "      <td>1000</td>\n",
       "      <td>8.0</td>\n",
       "      <td>52.0</td>\n",
       "      <td>408.0</td>\n",
       "      <td>14.0</td>\n",
       "      <td>81.0</td>\n",
       "      <td>52</td>\n",
       "      <td>NaN</td>\n",
       "      <td>Краснодар</td>\n",
       "      <td>Рафаил</td>\n",
       "      <td>...</td>\n",
       "      <td>2018-05-25</td>\n",
       "      <td>ultra</td>\n",
       "      <td>5</td>\n",
       "      <td>1000</td>\n",
       "      <td>30720</td>\n",
       "      <td>3000</td>\n",
       "      <td>1950</td>\n",
       "      <td>150</td>\n",
       "      <td>1</td>\n",
       "      <td>1</td>\n",
       "    </tr>\n",
       "    <tr>\n",
       "      <th>4</th>\n",
       "      <td>1000</td>\n",
       "      <td>9.0</td>\n",
       "      <td>58.0</td>\n",
       "      <td>466.0</td>\n",
       "      <td>15.0</td>\n",
       "      <td>57.0</td>\n",
       "      <td>52</td>\n",
       "      <td>NaN</td>\n",
       "      <td>Краснодар</td>\n",
       "      <td>Рафаил</td>\n",
       "      <td>...</td>\n",
       "      <td>2018-05-25</td>\n",
       "      <td>ultra</td>\n",
       "      <td>5</td>\n",
       "      <td>1000</td>\n",
       "      <td>30720</td>\n",
       "      <td>3000</td>\n",
       "      <td>1950</td>\n",
       "      <td>150</td>\n",
       "      <td>1</td>\n",
       "      <td>1</td>\n",
       "    </tr>\n",
       "  </tbody>\n",
       "</table>\n",
       "<p>5 rows × 21 columns</p>\n",
       "</div>"
      ],
      "text/plain": [
       "   user_id  month  duration_count  duration_sum  Gb_used  message_count  age  \\\n",
       "0     1000    5.0            22.0         159.0      3.0           22.0   52   \n",
       "1     1000    6.0            43.0         172.0     23.0           60.0   52   \n",
       "2     1000    7.0            47.0         340.0     14.0           75.0   52   \n",
       "3     1000    8.0            52.0         408.0     14.0           81.0   52   \n",
       "4     1000    9.0            58.0         466.0     15.0           57.0   52   \n",
       "\n",
       "  churn_date       city first_name  ...   reg_date tariff reg_month  \\\n",
       "0        NaN  Краснодар     Рафаил  ... 2018-05-25  ultra         5   \n",
       "1        NaN  Краснодар     Рафаил  ... 2018-05-25  ultra         5   \n",
       "2        NaN  Краснодар     Рафаил  ... 2018-05-25  ultra         5   \n",
       "3        NaN  Краснодар     Рафаил  ... 2018-05-25  ultra         5   \n",
       "4        NaN  Краснодар     Рафаил  ... 2018-05-25  ultra         5   \n",
       "\n",
       "   messages_included  mb_per_month_included  minutes_included  \\\n",
       "0               1000                  30720              3000   \n",
       "1               1000                  30720              3000   \n",
       "2               1000                  30720              3000   \n",
       "3               1000                  30720              3000   \n",
       "4               1000                  30720              3000   \n",
       "\n",
       "   rub_monthly_fee  rub_per_gb  rub_per_message  rub_per_minute  \n",
       "0             1950         150                1               1  \n",
       "1             1950         150                1               1  \n",
       "2             1950         150                1               1  \n",
       "3             1950         150                1               1  \n",
       "4             1950         150                1               1  \n",
       "\n",
       "[5 rows x 21 columns]"
      ]
     },
     "execution_count": 96,
     "metadata": {},
     "output_type": "execute_result"
    }
   ],
   "source": [
    "# Переименуем столбец tariff_name в таблице с тарифами, чтобы слить с data\n",
    "data_tariffs = data_tariffs.rename(columns={'tariff_name': 'tariff'})\n",
    "data = data.merge(data_users, on='user_id', how='outer')\n",
    "data = data.merge(data_tariffs, on='tariff')\n",
    "data.head()"
   ]
  },
  {
   "cell_type": "markdown",
   "id": "a53b01bb",
   "metadata": {
    "scrolled": false
   },
   "source": [
    "В результате мы получили одну таблицу - \"помесячная статистика клиента\". В ней можно найти всю информацию:\n",
    "- месяц пользования\n",
    "- суммарная длинтельность звонков\n",
    "- количество звонков за месяц\n",
    "- количество израссходованного трафика и др"
   ]
  },
  {
   "cell_type": "markdown",
   "id": "eeba5628",
   "metadata": {},
   "source": [
    "#### Найдем суммарные выручки каждого тарифа и их разность"
   ]
  },
  {
   "cell_type": "code",
   "execution_count": 97,
   "id": "a6d42520",
   "metadata": {},
   "outputs": [],
   "source": [
    "def get_profit(row):\n",
    "    profit_message = 0\n",
    "    profit_duration = 0\n",
    "    profit_traffic = 0\n",
    "    if row['messages_included'] < row['message_count']:\n",
    "        profit_message = (row['message_count'] - row['messages_included']) * row['rub_per_message']\n",
    "    if row['minutes_included'] < row['duration_sum']:\n",
    "        profit_duration = (row['duration_sum'] - row['minutes_included']) * row['rub_per_minute']\n",
    "    if row['mb_per_month_included'] < row['Gb_used']*1024:\n",
    "        profit_traffic = (row['Gb_used']*1024 - row['mb_per_month_included'])/1024 * row['rub_per_gb']\n",
    "    return profit_duration + profit_message + profit_traffic + row['rub_monthly_fee']"
   ]
  },
  {
   "cell_type": "code",
   "execution_count": 98,
   "id": "51fc13b8",
   "metadata": {},
   "outputs": [],
   "source": [
    "data['profit'] = data.apply(get_profit, axis=1)"
   ]
  },
  {
   "cell_type": "code",
   "execution_count": 101,
   "id": "366416b1",
   "metadata": {},
   "outputs": [
    {
     "name": "stdout",
     "output_type": "stream",
     "text": [
      "Выручка от тарифа Smart: 2875901.0\n",
      "Выручка от тарифа Ultra: 2041050.0\n",
      "\n",
      "Выручка тарифа smart больше на 834851.0\n"
     ]
    }
   ],
   "source": [
    "smart_profit = data.query('tariff == \"smart\"')['profit'].sum()\n",
    "ultra_profit = data.query('tariff == \"ultra\"')['profit'].sum()\n",
    "print(f'Выручка от тарифа Smart: {smart_profit}')\n",
    "print(f'Выручка от тарифа Ultra: {ultra_profit}')\n",
    "print()\n",
    "if smart_profit > ultra_profit:\n",
    "    print(f'Выручка тарифа smart больше на {smart_profit-ultra_profit}')\n",
    "else:\n",
    "    print(f'Выручка тарифа ultra больше на {ultra_profit-smart_profit}')    "
   ]
  },
  {
   "cell_type": "markdown",
   "id": "d7d38a97",
   "metadata": {},
   "source": [
    "### Анализ данных\n",
    "#### Расчет среднего, дисперсии, стандартного отклонения для минут разгоровора, сообщений, трафика для каждого тарифа. Графики."
   ]
  },
  {
   "cell_type": "code",
   "execution_count": 102,
   "id": "a2f47590",
   "metadata": {},
   "outputs": [],
   "source": [
    "data_monthly = data.pivot_table(index=['tariff'],\n",
    "                              values=['duration_sum', 'Gb_used', 'message_count'],\n",
    "                              aggfunc=['mean', 'std', 'var'])"
   ]
  },
  {
   "cell_type": "code",
   "execution_count": 103,
   "id": "46f66cc1",
   "metadata": {},
   "outputs": [],
   "source": [
    "data_monthly.columns = ['mean_gb_used', 'mean_duration_sum', 'mean_message_count',\n",
    "                      'std_gb_used', 'std_duration_sum', 'std_message_count',\n",
    "                      'var_gb_used', 'var_duration_sum', 'var_message_count']"
   ]
  },
  {
   "cell_type": "code",
   "execution_count": 104,
   "id": "6f4daf9a",
   "metadata": {
    "scrolled": true
   },
   "outputs": [],
   "source": [
    "# Расчет среднего, дисперсии, стандартного отклонения\n",
    "data_monthly = data_monthly.reset_index()"
   ]
  },
  {
   "cell_type": "code",
   "execution_count": 105,
   "id": "1a9bc871",
   "metadata": {
    "scrolled": true
   },
   "outputs": [
    {
     "data": {
      "text/html": [
       "<div>\n",
       "<style scoped>\n",
       "    .dataframe tbody tr th:only-of-type {\n",
       "        vertical-align: middle;\n",
       "    }\n",
       "\n",
       "    .dataframe tbody tr th {\n",
       "        vertical-align: top;\n",
       "    }\n",
       "\n",
       "    .dataframe thead th {\n",
       "        text-align: right;\n",
       "    }\n",
       "</style>\n",
       "<table border=\"1\" class=\"dataframe\">\n",
       "  <thead>\n",
       "    <tr style=\"text-align: right;\">\n",
       "      <th></th>\n",
       "      <th>tariff</th>\n",
       "      <th>mean_gb_used</th>\n",
       "      <th>mean_duration_sum</th>\n",
       "      <th>mean_message_count</th>\n",
       "      <th>std_gb_used</th>\n",
       "      <th>std_duration_sum</th>\n",
       "      <th>std_message_count</th>\n",
       "      <th>var_gb_used</th>\n",
       "      <th>var_duration_sum</th>\n",
       "      <th>var_message_count</th>\n",
       "    </tr>\n",
       "  </thead>\n",
       "  <tbody>\n",
       "    <tr>\n",
       "      <th>0</th>\n",
       "      <td>smart</td>\n",
       "      <td>16.336176</td>\n",
       "      <td>419.062978</td>\n",
       "      <td>38.716441</td>\n",
       "      <td>5.737923</td>\n",
       "      <td>189.325618</td>\n",
       "      <td>26.787949</td>\n",
       "      <td>32.923756</td>\n",
       "      <td>35844.189551</td>\n",
       "      <td>717.594201</td>\n",
       "    </tr>\n",
       "    <tr>\n",
       "      <th>1</th>\n",
       "      <td>ultra</td>\n",
       "      <td>19.694359</td>\n",
       "      <td>545.451104</td>\n",
       "      <td>61.161006</td>\n",
       "      <td>9.702924</td>\n",
       "      <td>306.925754</td>\n",
       "      <td>45.931026</td>\n",
       "      <td>94.146734</td>\n",
       "      <td>94203.418396</td>\n",
       "      <td>2109.659183</td>\n",
       "    </tr>\n",
       "  </tbody>\n",
       "</table>\n",
       "</div>"
      ],
      "text/plain": [
       "  tariff  mean_gb_used  mean_duration_sum  mean_message_count  std_gb_used  \\\n",
       "0  smart     16.336176         419.062978           38.716441     5.737923   \n",
       "1  ultra     19.694359         545.451104           61.161006     9.702924   \n",
       "\n",
       "   std_duration_sum  std_message_count  var_gb_used  var_duration_sum  \\\n",
       "0        189.325618          26.787949    32.923756      35844.189551   \n",
       "1        306.925754          45.931026    94.146734      94203.418396   \n",
       "\n",
       "   var_message_count  \n",
       "0         717.594201  \n",
       "1        2109.659183  "
      ]
     },
     "execution_count": 105,
     "metadata": {},
     "output_type": "execute_result"
    }
   ],
   "source": [
    "data_monthly"
   ]
  },
  {
   "cell_type": "markdown",
   "id": "9ee6bf46",
   "metadata": {},
   "source": [
    "#### Построим диаграммы размаха"
   ]
  },
  {
   "cell_type": "code",
   "execution_count": 109,
   "id": "e45dad8f",
   "metadata": {
    "scrolled": false
   },
   "outputs": [
    {
     "data": {
      "image/png": "[encoded data removed]",
      "text/plain": [
       "<Figure size 1800x720 with 4 Axes>"
      ]
     },
     "metadata": {
      "needs_background": "light"
     },
     "output_type": "display_data"
    }
   ],
   "source": [
    "fig, (ax1, ax2, ax3, ax4) = plt.subplots(1, 4, figsize=(25, 10))\n",
    "sns.boxplot(data=data, x='tariff', y='duration_sum', ax=ax1)\n",
    "ax1.set_title('Продолжительность звонков', fontsize=15)\n",
    "ax1.grid(axis='y')\n",
    "ax1.set_xlabel('Тариф', fontsize=15)\n",
    "ax1.set_ylabel('Минуты', fontsize=15)\n",
    "sns.boxplot(data=data, x='tariff', y='Gb_used', ax=ax2)\n",
    "ax2.set_title('Расход трафика', fontsize=15)\n",
    "ax2.grid(axis='y')\n",
    "ax2.set_xlabel('Тариф', fontsize=15)\n",
    "ax2.set_ylabel('Гигабайты', fontsize=15)\n",
    "sns.boxplot(data=data, x='tariff', y='message_count', ax=ax3)\n",
    "ax3.set_title('Количество потраченных сообщений', fontsize=15)\n",
    "ax3.grid(axis='y')\n",
    "ax3.set_xlabel('Тариф', fontsize=15)\n",
    "ax3.set_ylabel('Сообщения', fontsize=15)\n",
    "sns.boxplot(data=data, x='tariff', y='profit', ax=ax4)\n",
    "ax4.set_title('Доходность', fontsize=15)\n",
    "ax4.grid(axis='y')\n",
    "ax4.set_xlabel('Тариф', fontsize=15)\n",
    "ax4.set_ylabel('Доходность', fontsize=15)\n",
    "plt.show()"
   ]
  },
  {
   "cell_type": "markdown",
   "id": "5aa6be2b",
   "metadata": {},
   "source": [
    "Из графиков видно, что пользователи тарифа smart очень в среднем разговаривают несильно меньше пользователей тарифа ultra, поэтому пользователи smart часто переплачивают за дополнительные минуты разговора.То же самое касается и расхода трафика, и расхода sms сообщений. Кроме того, на последнем графике видно, что единичные пользователи тарифа ultra выходят за пределы абонентской платы. А вот пользователи тарифа smart наоборот - делают это очень часто. В среднем каждый пользователь тратит по 1000 руб. в месяц, что почти в 2 раза больше месчного платежа."
   ]
  },
  {
   "cell_type": "markdown",
   "id": "1dd53f60",
   "metadata": {},
   "source": [
    "### Проверка гипотез"
   ]
  },
  {
   "cell_type": "markdown",
   "id": "28d5ff8d",
   "metadata": {},
   "source": [
    "#### Выручка по тарифам"
   ]
  },
  {
   "cell_type": "markdown",
   "id": "a69b5837",
   "metadata": {},
   "source": [
    "1. Нулевая гипотеза: средняя выручка пользователей тарифов не отличается.\n",
    "2. Альтернативная гипотеза: средняя выручка пользователей тарифов отличается"
   ]
  },
  {
   "cell_type": "code",
   "execution_count": 115,
   "id": "9b50b2b6",
   "metadata": {},
   "outputs": [
    {
     "name": "stdout",
     "output_type": "stream",
     "text": [
      "pvalue = 1.927011394420941e-250\n",
      "Отвергаем гипотезу\n"
     ]
    }
   ],
   "source": [
    "# Пороговое значение\n",
    "alpha = .05\n",
    "profit_smart = data.query('tariff == \"smart\"')['profit']\n",
    "profit_ultra = data.query('tariff == \"ultra\"')['profit']\n",
    "# проверка гипотезы о равенстве средних\n",
    "results = st.ttest_ind(profit_smart, profit_ultra, equal_var = False)\n",
    "print(f'pvalue = {results.pvalue}')\n",
    "if results.pvalue < alpha:\n",
    "    print('Отвергаем гипотезу')\n",
    "else:\n",
    "    print('Не отвергаем гипотезу')"
   ]
  },
  {
   "cell_type": "markdown",
   "id": "9cc3ce48",
   "metadata": {},
   "source": [
    "#### Выручка по Москве и другим городам"
   ]
  },
  {
   "cell_type": "markdown",
   "id": "01423439",
   "metadata": {},
   "source": [
    "1. Нулевая гипотеза: средние выручки пользователей из Москвы и других городов не отличаются.\n",
    "2. Альтернативная гипотеза: средние выручки пользователей из Москвы и других городов отличаются."
   ]
  },
  {
   "cell_type": "code",
   "execution_count": 116,
   "id": "f4d84ef0",
   "metadata": {},
   "outputs": [
    {
     "name": "stdout",
     "output_type": "stream",
     "text": [
      "pvalue = 0.5216952110000278\n",
      "Не отвергаем гипотезу\n"
     ]
    }
   ],
   "source": [
    "profit_moscow = data.query('city == \"Москва\"')['profit']\n",
    "profit_other = data.query('city != \"Москва\"')['profit']\n",
    "# проверка гипотезы\n",
    "results = st.ttest_ind(profit_moscow, profit_other, equal_var = False)\n",
    "print(f'pvalue = {results.pvalue}')\n",
    "if results.pvalue < alpha:\n",
    "    print('Отвергаем гипотезу')\n",
    "else:\n",
    "    print('Не отвергаем гипотезу')"
   ]
  },
  {
   "cell_type": "markdown",
   "id": "9421ceef",
   "metadata": {},
   "source": [
    "### Вывод.\n",
    "Исследовав предоставленные данные можно сказать, что:\n",
    "1. Примерно 25% пользователей тарифа smart выходят за лимиты предоставленных 550 минут. В то время, как клиенты тарифа ultra вообще не пересекают предел.\n",
    "2. Примерно 75% пользователей тарифа smart выходят за лимит предоставленного трафика в 15Гб. В среднем в месяц расходуется 17-18Гб. Основная же масса клиентов тарифа ultra не выходят за предоставленный предел в 30Гб. В среднем в месяц расходуется 18-19Гб.\n",
    "3. Чуть более 25% пользователей тарифа smart выходят за лимит предоставленных sms сообщений. В среднем в месяц расзодуют 30-35. В то время как пользователи тарифа ultra не превышают лимита. Для тарифа ultra среднее значение израсходованных сообщений - 50.\n",
    "4. Пользователи тарифа ultra в основном не тратят больше абонентской платы. А вот средний месячных платеж пользователя тарифа smart - 1000руб, что почти в 2 раза превосходит абонентскую плату. А за счет большого количества пользователей тарифа smart, доходность одноименного тарифа выше.\n",
    "5. Пользователи Москвы приносят примерно столько же дохода сколько и пользователи остальных регионов вместе взятых."
   ]
  }
 ],
 "metadata": {
  "ExecuteTimeLog": [
   {
    "duration": 115,
    "start_time": "2022-04-01T21:33:42.667Z"
   },
   {
    "duration": 113,
    "start_time": "2022-04-01T21:37:22.059Z"
   },
   {
    "duration": 118,
    "start_time": "2022-04-01T21:38:49.835Z"
   },
   {
    "duration": 1389,
    "start_time": "2022-04-01T21:44:25.438Z"
   },
   {
    "duration": 589,
    "start_time": "2022-04-01T21:44:26.832Z"
   },
   {
    "duration": 17,
    "start_time": "2022-04-01T21:44:27.423Z"
   },
   {
    "duration": 42,
    "start_time": "2022-04-01T21:44:27.443Z"
   },
   {
    "duration": 181,
    "start_time": "2022-04-01T21:44:27.488Z"
   },
   {
    "duration": 37,
    "start_time": "2022-04-01T21:44:27.672Z"
   },
   {
    "duration": 22,
    "start_time": "2022-04-01T21:44:27.711Z"
   },
   {
    "duration": 22,
    "start_time": "2022-04-01T21:44:27.734Z"
   },
   {
    "duration": 18,
    "start_time": "2022-04-01T21:44:27.758Z"
   },
   {
    "duration": 8,
    "start_time": "2022-04-01T21:44:27.778Z"
   },
   {
    "duration": 45,
    "start_time": "2022-04-01T21:44:27.788Z"
   },
   {
    "duration": 78,
    "start_time": "2022-04-01T21:44:27.835Z"
   },
   {
    "duration": 33,
    "start_time": "2022-04-01T21:44:27.915Z"
   },
   {
    "duration": 9,
    "start_time": "2022-04-01T21:44:27.949Z"
   },
   {
    "duration": 20,
    "start_time": "2022-04-01T21:44:27.960Z"
   },
   {
    "duration": 16,
    "start_time": "2022-04-01T21:44:27.982Z"
   },
   {
    "duration": 7,
    "start_time": "2022-04-01T21:44:27.999Z"
   },
   {
    "duration": 44,
    "start_time": "2022-04-01T21:44:28.007Z"
   },
   {
    "duration": 56,
    "start_time": "2022-04-01T21:44:28.053Z"
   },
   {
    "duration": 38,
    "start_time": "2022-04-01T21:44:28.111Z"
   },
   {
    "duration": 14,
    "start_time": "2022-04-01T21:44:28.151Z"
   },
   {
    "duration": 15,
    "start_time": "2022-04-01T21:44:28.167Z"
   },
   {
    "duration": 7,
    "start_time": "2022-04-01T21:44:28.184Z"
   },
   {
    "duration": 44,
    "start_time": "2022-04-01T21:44:28.193Z"
   },
   {
    "duration": 6,
    "start_time": "2022-04-01T21:44:28.239Z"
   },
   {
    "duration": 6,
    "start_time": "2022-04-01T21:44:28.247Z"
   },
   {
    "duration": 4,
    "start_time": "2022-04-01T21:44:28.254Z"
   },
   {
    "duration": 4,
    "start_time": "2022-04-01T21:44:28.262Z"
   },
   {
    "duration": 84,
    "start_time": "2022-04-01T21:44:28.268Z"
   },
   {
    "duration": 3,
    "start_time": "2022-04-01T21:44:28.353Z"
   },
   {
    "duration": 14,
    "start_time": "2022-04-01T21:44:28.358Z"
   },
   {
    "duration": 27,
    "start_time": "2022-04-01T21:44:28.373Z"
   },
   {
    "duration": 3,
    "start_time": "2022-04-01T21:44:28.402Z"
   },
   {
    "duration": 29,
    "start_time": "2022-04-01T21:44:28.406Z"
   },
   {
    "duration": 22,
    "start_time": "2022-04-01T21:44:28.437Z"
   },
   {
    "duration": 4,
    "start_time": "2022-04-01T21:44:28.460Z"
   },
   {
    "duration": 5,
    "start_time": "2022-04-01T21:44:28.465Z"
   },
   {
    "duration": 12,
    "start_time": "2022-04-01T21:44:28.471Z"
   },
   {
    "duration": 21,
    "start_time": "2022-04-01T21:44:28.485Z"
   },
   {
    "duration": 4,
    "start_time": "2022-04-01T21:44:28.532Z"
   },
   {
    "duration": 15,
    "start_time": "2022-04-01T21:44:28.538Z"
   },
   {
    "duration": 13,
    "start_time": "2022-04-01T21:44:28.555Z"
   },
   {
    "duration": 4,
    "start_time": "2022-04-01T21:44:28.570Z"
   },
   {
    "duration": 9,
    "start_time": "2022-04-01T21:44:28.576Z"
   },
   {
    "duration": 6,
    "start_time": "2022-04-01T21:44:28.587Z"
   },
   {
    "duration": 49,
    "start_time": "2022-04-01T21:44:28.595Z"
   },
   {
    "duration": 5,
    "start_time": "2022-04-01T21:44:28.645Z"
   },
   {
    "duration": 116,
    "start_time": "2022-04-01T21:44:28.651Z"
   },
   {
    "duration": 11,
    "start_time": "2022-04-01T21:44:28.769Z"
   },
   {
    "duration": 18,
    "start_time": "2022-04-01T21:44:28.782Z"
   },
   {
    "duration": 3,
    "start_time": "2022-04-01T21:44:28.801Z"
   },
   {
    "duration": 9,
    "start_time": "2022-04-01T21:44:28.805Z"
   },
   {
    "duration": 11,
    "start_time": "2022-04-01T21:44:28.832Z"
   },
   {
    "duration": 461,
    "start_time": "2022-04-01T21:44:28.845Z"
   },
   {
    "duration": 172,
    "start_time": "2022-04-01T21:44:29.307Z"
   },
   {
    "duration": 176,
    "start_time": "2022-04-01T21:44:29.480Z"
   },
   {
    "duration": 159,
    "start_time": "2022-04-01T21:44:29.658Z"
   },
   {
    "duration": 226,
    "start_time": "2022-04-01T21:44:29.819Z"
   },
   {
    "duration": 153,
    "start_time": "2022-04-01T21:44:30.047Z"
   },
   {
    "duration": 150,
    "start_time": "2022-04-01T21:44:30.202Z"
   },
   {
    "duration": 172,
    "start_time": "2022-04-01T21:44:30.353Z"
   },
   {
    "duration": 9,
    "start_time": "2022-04-01T21:44:30.527Z"
   },
   {
    "duration": 137,
    "start_time": "2022-04-01T21:44:30.538Z"
   },
   {
    "duration": 6,
    "start_time": "2022-04-01T21:44:30.677Z"
   },
   {
    "duration": 5,
    "start_time": "2022-04-01T21:44:30.685Z"
   },
   {
    "duration": 14,
    "start_time": "2022-04-01T21:44:30.692Z"
   },
   {
    "duration": 14,
    "start_time": "2022-04-01T21:44:30.708Z"
   },
   {
    "duration": 18,
    "start_time": "2022-04-01T21:44:30.732Z"
   },
   {
    "duration": 10,
    "start_time": "2022-04-01T21:44:30.752Z"
   },
   {
    "duration": 23,
    "start_time": "2022-04-01T21:44:30.764Z"
   },
   {
    "duration": 195,
    "start_time": "2022-04-03T20:13:54.354Z"
   },
   {
    "duration": 206,
    "start_time": "2022-04-03T20:16:16.208Z"
   },
   {
    "duration": 190,
    "start_time": "2022-04-03T20:33:07.556Z"
   },
   {
    "duration": 179,
    "start_time": "2022-04-03T20:40:03.316Z"
   },
   {
    "duration": 1127,
    "start_time": "2022-04-03T20:42:04.723Z"
   },
   {
    "duration": 474,
    "start_time": "2022-04-03T20:42:05.851Z"
   },
   {
    "duration": 10,
    "start_time": "2022-04-03T20:42:06.327Z"
   },
   {
    "duration": 23,
    "start_time": "2022-04-03T20:42:06.338Z"
   },
   {
    "duration": 97,
    "start_time": "2022-04-03T20:42:06.363Z"
   },
   {
    "duration": 33,
    "start_time": "2022-04-03T20:42:06.461Z"
   },
   {
    "duration": 4,
    "start_time": "2022-04-03T20:42:06.496Z"
   },
   {
    "duration": 28,
    "start_time": "2022-04-03T20:42:06.502Z"
   },
   {
    "duration": 17,
    "start_time": "2022-04-03T20:42:06.531Z"
   },
   {
    "duration": 327,
    "start_time": "2022-04-03T20:42:06.550Z"
   },
   {
    "duration": 4,
    "start_time": "2022-04-03T20:42:06.880Z"
   },
   {
    "duration": 8,
    "start_time": "2022-04-03T20:42:06.886Z"
   },
   {
    "duration": 19,
    "start_time": "2022-04-03T20:42:06.895Z"
   },
   {
    "duration": 87,
    "start_time": "2022-04-03T20:42:06.917Z"
   },
   {
    "duration": 21,
    "start_time": "2022-04-03T20:42:07.005Z"
   },
   {
    "duration": 9,
    "start_time": "2022-04-03T20:42:07.027Z"
   },
   {
    "duration": 18,
    "start_time": "2022-04-03T20:42:07.037Z"
   },
   {
    "duration": 33,
    "start_time": "2022-04-03T20:42:07.056Z"
   },
   {
    "duration": 300,
    "start_time": "2022-04-03T20:42:07.090Z"
   },
   {
    "duration": 5,
    "start_time": "2022-04-03T20:42:07.392Z"
   },
   {
    "duration": 8,
    "start_time": "2022-04-03T20:42:07.399Z"
   },
   {
    "duration": 18,
    "start_time": "2022-04-03T20:42:07.408Z"
   },
   {
    "duration": 66,
    "start_time": "2022-04-03T20:42:07.428Z"
   },
   {
    "duration": 17,
    "start_time": "2022-04-03T20:42:07.496Z"
   },
   {
    "duration": 13,
    "start_time": "2022-04-03T20:42:07.514Z"
   },
   {
    "duration": 13,
    "start_time": "2022-04-03T20:42:07.529Z"
   },
   {
    "duration": 4,
    "start_time": "2022-04-03T20:42:07.544Z"
   },
   {
    "duration": 32,
    "start_time": "2022-04-03T20:42:07.549Z"
   },
   {
    "duration": 8,
    "start_time": "2022-04-03T20:42:07.583Z"
   },
   {
    "duration": 6,
    "start_time": "2022-04-03T20:42:07.592Z"
   },
   {
    "duration": 6,
    "start_time": "2022-04-03T20:42:07.600Z"
   },
   {
    "duration": 3,
    "start_time": "2022-04-03T20:42:07.607Z"
   },
   {
    "duration": 5,
    "start_time": "2022-04-03T20:42:07.612Z"
   },
   {
    "duration": 6,
    "start_time": "2022-04-03T20:42:07.618Z"
   },
   {
    "duration": 68,
    "start_time": "2022-04-03T20:42:07.625Z"
   },
   {
    "duration": 3,
    "start_time": "2022-04-03T20:42:07.694Z"
   },
   {
    "duration": 13,
    "start_time": "2022-04-03T20:42:07.698Z"
   },
   {
    "duration": 26,
    "start_time": "2022-04-03T20:42:07.712Z"
   },
   {
    "duration": 3,
    "start_time": "2022-04-03T20:42:07.739Z"
   },
   {
    "duration": 12,
    "start_time": "2022-04-03T20:42:07.743Z"
   },
   {
    "duration": 37,
    "start_time": "2022-04-03T20:42:07.759Z"
   },
   {
    "duration": 4,
    "start_time": "2022-04-03T20:42:07.797Z"
   },
   {
    "duration": 5,
    "start_time": "2022-04-03T20:42:07.802Z"
   },
   {
    "duration": 10,
    "start_time": "2022-04-03T20:42:07.808Z"
   },
   {
    "duration": 19,
    "start_time": "2022-04-03T20:42:07.820Z"
   },
   {
    "duration": 2,
    "start_time": "2022-04-03T20:42:07.841Z"
   },
   {
    "duration": 14,
    "start_time": "2022-04-03T20:42:07.845Z"
   },
   {
    "duration": 9,
    "start_time": "2022-04-03T20:42:07.880Z"
   },
   {
    "duration": 4,
    "start_time": "2022-04-03T20:42:07.891Z"
   },
   {
    "duration": 9,
    "start_time": "2022-04-03T20:42:07.897Z"
   },
   {
    "duration": 4,
    "start_time": "2022-04-03T20:42:07.907Z"
   },
   {
    "duration": 7,
    "start_time": "2022-04-03T20:42:07.912Z"
   },
   {
    "duration": 17,
    "start_time": "2022-04-03T20:42:07.920Z"
   },
   {
    "duration": 3,
    "start_time": "2022-04-03T20:42:07.939Z"
   },
   {
    "duration": 121,
    "start_time": "2022-04-03T20:42:07.943Z"
   },
   {
    "duration": 18,
    "start_time": "2022-04-03T20:42:08.066Z"
   },
   {
    "duration": 16,
    "start_time": "2022-04-03T20:42:08.086Z"
   },
   {
    "duration": 2,
    "start_time": "2022-04-03T20:42:08.104Z"
   },
   {
    "duration": 6,
    "start_time": "2022-04-03T20:42:08.107Z"
   },
   {
    "duration": 12,
    "start_time": "2022-04-03T20:42:08.115Z"
   },
   {
    "duration": 476,
    "start_time": "2022-04-03T20:42:08.128Z"
   },
   {
    "duration": 149,
    "start_time": "2022-04-03T20:42:08.605Z"
   },
   {
    "duration": 158,
    "start_time": "2022-04-03T20:42:08.755Z"
   },
   {
    "duration": 141,
    "start_time": "2022-04-03T20:42:08.914Z"
   },
   {
    "duration": 127,
    "start_time": "2022-04-03T20:42:09.056Z"
   },
   {
    "duration": 146,
    "start_time": "2022-04-03T20:42:09.184Z"
   },
   {
    "duration": 133,
    "start_time": "2022-04-03T20:42:09.332Z"
   },
   {
    "duration": 156,
    "start_time": "2022-04-03T20:42:09.466Z"
   },
   {
    "duration": 6,
    "start_time": "2022-04-03T20:42:09.624Z"
   },
   {
    "duration": 126,
    "start_time": "2022-04-03T20:42:09.632Z"
   },
   {
    "duration": 6,
    "start_time": "2022-04-03T20:42:09.760Z"
   },
   {
    "duration": 13,
    "start_time": "2022-04-03T20:42:09.768Z"
   },
   {
    "duration": 9,
    "start_time": "2022-04-03T20:42:09.782Z"
   },
   {
    "duration": 5,
    "start_time": "2022-04-03T20:42:09.792Z"
   },
   {
    "duration": 8,
    "start_time": "2022-04-03T20:42:09.799Z"
   },
   {
    "duration": 4,
    "start_time": "2022-04-03T20:42:09.808Z"
   },
   {
    "duration": 6,
    "start_time": "2022-04-03T20:42:09.814Z"
   },
   {
    "duration": 12,
    "start_time": "2022-04-03T20:42:09.821Z"
   },
   {
    "duration": 50,
    "start_time": "2022-04-03T20:42:09.835Z"
   },
   {
    "duration": 159,
    "start_time": "2022-04-03T20:42:09.886Z"
   },
   {
    "duration": 354,
    "start_time": "2022-04-03T20:42:10.046Z"
   },
   {
    "duration": 3,
    "start_time": "2022-04-03T20:42:10.401Z"
   },
   {
    "duration": 7,
    "start_time": "2022-04-03T20:42:10.405Z"
   },
   {
    "duration": 20,
    "start_time": "2022-04-03T20:42:10.413Z"
   },
   {
    "duration": 10,
    "start_time": "2022-04-03T20:42:10.434Z"
   },
   {
    "duration": 4,
    "start_time": "2022-04-03T20:42:10.445Z"
   },
   {
    "duration": 31,
    "start_time": "2022-04-03T20:42:10.451Z"
   },
   {
    "duration": 114,
    "start_time": "2022-04-03T20:42:10.483Z"
   },
   {
    "duration": 119,
    "start_time": "2022-04-03T20:42:10.598Z"
   },
   {
    "duration": 125,
    "start_time": "2022-04-03T20:42:10.718Z"
   },
   {
    "duration": 26,
    "start_time": "2022-04-03T20:45:02.227Z"
   },
   {
    "duration": 4,
    "start_time": "2022-04-03T20:45:13.402Z"
   },
   {
    "duration": 1260,
    "start_time": "2022-04-03T20:45:47.021Z"
   },
   {
    "duration": 1383,
    "start_time": "2022-04-03T20:46:05.998Z"
   },
   {
    "duration": 119,
    "start_time": "2022-04-03T20:47:26.873Z"
   },
   {
    "duration": 87,
    "start_time": "2022-04-03T20:47:58.618Z"
   },
   {
    "duration": 126,
    "start_time": "2022-04-03T20:48:11.155Z"
   },
   {
    "duration": 116,
    "start_time": "2022-04-03T20:48:37.883Z"
   },
   {
    "duration": 144,
    "start_time": "2022-04-03T20:52:38.965Z"
   },
   {
    "duration": 134,
    "start_time": "2022-04-03T20:52:56.909Z"
   },
   {
    "duration": 116,
    "start_time": "2022-04-03T20:53:02.830Z"
   },
   {
    "duration": 1486,
    "start_time": "2022-04-03T20:53:13.046Z"
   },
   {
    "duration": 1355,
    "start_time": "2022-04-03T20:53:25.253Z"
   },
   {
    "duration": 116,
    "start_time": "2022-04-03T20:53:33.406Z"
   },
   {
    "duration": 1383,
    "start_time": "2022-04-03T20:53:43.214Z"
   },
   {
    "duration": 1355,
    "start_time": "2022-04-03T20:53:54.727Z"
   },
   {
    "duration": 1354,
    "start_time": "2022-04-03T20:54:01.919Z"
   },
   {
    "duration": 110,
    "start_time": "2022-04-03T20:54:06.440Z"
   },
   {
    "duration": 113,
    "start_time": "2022-04-03T20:54:21.456Z"
   },
   {
    "duration": 121,
    "start_time": "2022-04-03T20:54:25.784Z"
   },
   {
    "duration": 114,
    "start_time": "2022-04-03T20:54:30.744Z"
   },
   {
    "duration": 113,
    "start_time": "2022-04-03T20:54:35.057Z"
   },
   {
    "duration": 120,
    "start_time": "2022-04-03T20:54:39.272Z"
   },
   {
    "duration": 202,
    "start_time": "2022-04-03T20:55:43.899Z"
   },
   {
    "duration": 1274,
    "start_time": "2022-04-03T20:55:57.308Z"
   },
   {
    "duration": 1432,
    "start_time": "2022-04-03T20:56:09.035Z"
   },
   {
    "duration": 42,
    "start_time": "2022-04-03T20:56:23.085Z"
   },
   {
    "duration": 150,
    "start_time": "2022-04-03T20:57:09.758Z"
   },
   {
    "duration": 139,
    "start_time": "2022-04-03T20:57:54.264Z"
   },
   {
    "duration": 150,
    "start_time": "2022-04-03T20:57:55.646Z"
   },
   {
    "duration": 1202,
    "start_time": "2022-04-03T21:01:54.412Z"
   },
   {
    "duration": 689,
    "start_time": "2022-04-03T21:01:55.616Z"
   },
   {
    "duration": 15,
    "start_time": "2022-04-03T21:01:56.306Z"
   },
   {
    "duration": 25,
    "start_time": "2022-04-03T21:01:56.323Z"
   },
   {
    "duration": 110,
    "start_time": "2022-04-03T21:01:56.350Z"
   },
   {
    "duration": 50,
    "start_time": "2022-04-03T21:01:56.462Z"
   },
   {
    "duration": 5,
    "start_time": "2022-04-03T21:01:56.514Z"
   },
   {
    "duration": 23,
    "start_time": "2022-04-03T21:01:56.521Z"
   },
   {
    "duration": 18,
    "start_time": "2022-04-03T21:01:56.545Z"
   },
   {
    "duration": 384,
    "start_time": "2022-04-03T21:01:56.581Z"
   },
   {
    "duration": 16,
    "start_time": "2022-04-03T21:01:56.966Z"
   },
   {
    "duration": 12,
    "start_time": "2022-04-03T21:01:56.984Z"
   },
   {
    "duration": 23,
    "start_time": "2022-04-03T21:01:56.998Z"
   },
   {
    "duration": 98,
    "start_time": "2022-04-03T21:01:57.024Z"
   },
   {
    "duration": 22,
    "start_time": "2022-04-03T21:01:57.123Z"
   },
   {
    "duration": 8,
    "start_time": "2022-04-03T21:01:57.146Z"
   },
   {
    "duration": 35,
    "start_time": "2022-04-03T21:01:57.156Z"
   },
   {
    "duration": 16,
    "start_time": "2022-04-03T21:01:57.194Z"
   },
   {
    "duration": 338,
    "start_time": "2022-04-03T21:01:57.211Z"
   },
   {
    "duration": 5,
    "start_time": "2022-04-03T21:01:57.550Z"
   },
   {
    "duration": 8,
    "start_time": "2022-04-03T21:01:57.556Z"
   },
   {
    "duration": 37,
    "start_time": "2022-04-03T21:01:57.566Z"
   },
   {
    "duration": 45,
    "start_time": "2022-04-03T21:01:57.605Z"
   },
   {
    "duration": 44,
    "start_time": "2022-04-03T21:01:57.652Z"
   },
   {
    "duration": 15,
    "start_time": "2022-04-03T21:01:57.698Z"
   },
   {
    "duration": 15,
    "start_time": "2022-04-03T21:01:57.714Z"
   },
   {
    "duration": 5,
    "start_time": "2022-04-03T21:01:57.730Z"
   },
   {
    "duration": 12,
    "start_time": "2022-04-03T21:01:57.736Z"
   },
   {
    "duration": 32,
    "start_time": "2022-04-03T21:01:57.749Z"
   },
   {
    "duration": 18,
    "start_time": "2022-04-03T21:01:57.783Z"
   },
   {
    "duration": 9,
    "start_time": "2022-04-03T21:01:57.803Z"
   },
   {
    "duration": 4,
    "start_time": "2022-04-03T21:01:57.813Z"
   },
   {
    "duration": 6,
    "start_time": "2022-04-03T21:01:57.818Z"
   },
   {
    "duration": 6,
    "start_time": "2022-04-03T21:01:57.825Z"
   },
   {
    "duration": 73,
    "start_time": "2022-04-03T21:01:57.832Z"
   },
   {
    "duration": 4,
    "start_time": "2022-04-03T21:01:57.907Z"
   },
   {
    "duration": 13,
    "start_time": "2022-04-03T21:01:57.912Z"
   },
   {
    "duration": 24,
    "start_time": "2022-04-03T21:01:57.927Z"
   },
   {
    "duration": 2,
    "start_time": "2022-04-03T21:01:57.953Z"
   },
   {
    "duration": 32,
    "start_time": "2022-04-03T21:01:57.957Z"
   },
   {
    "duration": 24,
    "start_time": "2022-04-03T21:01:57.996Z"
   },
   {
    "duration": 4,
    "start_time": "2022-04-03T21:01:58.021Z"
   },
   {
    "duration": 5,
    "start_time": "2022-04-03T21:01:58.027Z"
   },
   {
    "duration": 14,
    "start_time": "2022-04-03T21:01:58.033Z"
   },
   {
    "duration": 49,
    "start_time": "2022-04-03T21:01:58.048Z"
   },
   {
    "duration": 3,
    "start_time": "2022-04-03T21:01:58.098Z"
   },
   {
    "duration": 16,
    "start_time": "2022-04-03T21:01:58.103Z"
   },
   {
    "duration": 9,
    "start_time": "2022-04-03T21:01:58.120Z"
   },
   {
    "duration": 4,
    "start_time": "2022-04-03T21:01:58.131Z"
   },
   {
    "duration": 8,
    "start_time": "2022-04-03T21:01:58.136Z"
   },
   {
    "duration": 5,
    "start_time": "2022-04-03T21:01:58.145Z"
   },
   {
    "duration": 34,
    "start_time": "2022-04-03T21:01:58.151Z"
   },
   {
    "duration": 21,
    "start_time": "2022-04-03T21:01:58.187Z"
   },
   {
    "duration": 3,
    "start_time": "2022-04-03T21:01:58.210Z"
   },
   {
    "duration": 126,
    "start_time": "2022-04-03T21:01:58.215Z"
   },
   {
    "duration": 12,
    "start_time": "2022-04-03T21:01:58.343Z"
   },
   {
    "duration": 36,
    "start_time": "2022-04-03T21:01:58.357Z"
   },
   {
    "duration": 2,
    "start_time": "2022-04-03T21:01:58.397Z"
   },
   {
    "duration": 12,
    "start_time": "2022-04-03T21:01:58.401Z"
   },
   {
    "duration": 13,
    "start_time": "2022-04-03T21:01:58.414Z"
   },
   {
    "duration": 513,
    "start_time": "2022-04-03T21:01:58.428Z"
   },
   {
    "duration": 166,
    "start_time": "2022-04-03T21:01:58.942Z"
   },
   {
    "duration": 176,
    "start_time": "2022-04-03T21:01:59.110Z"
   },
   {
    "duration": 153,
    "start_time": "2022-04-03T21:01:59.288Z"
   },
   {
    "duration": 139,
    "start_time": "2022-04-03T21:01:59.442Z"
   },
   {
    "duration": 143,
    "start_time": "2022-04-03T21:01:59.583Z"
   },
   {
    "duration": 132,
    "start_time": "2022-04-03T21:01:59.728Z"
   },
   {
    "duration": 160,
    "start_time": "2022-04-03T21:01:59.862Z"
   },
   {
    "duration": 7,
    "start_time": "2022-04-03T21:02:00.023Z"
   },
   {
    "duration": 122,
    "start_time": "2022-04-03T21:02:00.031Z"
   },
   {
    "duration": 7,
    "start_time": "2022-04-03T21:02:00.154Z"
   },
   {
    "duration": 8,
    "start_time": "2022-04-03T21:02:00.162Z"
   },
   {
    "duration": 23,
    "start_time": "2022-04-03T21:02:00.171Z"
   },
   {
    "duration": 7,
    "start_time": "2022-04-03T21:02:00.196Z"
   },
   {
    "duration": 14,
    "start_time": "2022-04-03T21:02:00.205Z"
   },
   {
    "duration": 3,
    "start_time": "2022-04-03T21:02:00.221Z"
   },
   {
    "duration": 13,
    "start_time": "2022-04-03T21:02:00.226Z"
   },
   {
    "duration": 19,
    "start_time": "2022-04-03T21:02:00.240Z"
   },
   {
    "duration": 19,
    "start_time": "2022-04-03T21:02:00.261Z"
   },
   {
    "duration": 160,
    "start_time": "2022-04-03T21:02:00.283Z"
   },
   {
    "duration": 375,
    "start_time": "2022-04-03T21:02:00.445Z"
   },
   {
    "duration": 3,
    "start_time": "2022-04-03T21:02:00.822Z"
   },
   {
    "duration": 22,
    "start_time": "2022-04-03T21:02:00.826Z"
   },
   {
    "duration": 28,
    "start_time": "2022-04-03T21:02:00.849Z"
   },
   {
    "duration": 34,
    "start_time": "2022-04-03T21:02:00.879Z"
   },
   {
    "duration": 4,
    "start_time": "2022-04-03T21:02:00.914Z"
   },
   {
    "duration": 20,
    "start_time": "2022-04-03T21:02:00.920Z"
   },
   {
    "duration": 121,
    "start_time": "2022-04-03T21:02:00.942Z"
   },
   {
    "duration": 123,
    "start_time": "2022-04-03T21:02:01.065Z"
   },
   {
    "duration": 141,
    "start_time": "2022-04-03T21:02:01.190Z"
   },
   {
    "duration": 1372,
    "start_time": "2022-04-03T21:02:01.333Z"
   },
   {
    "duration": 4,
    "start_time": "2022-04-03T21:02:02.707Z"
   },
   {
    "duration": 159,
    "start_time": "2022-04-03T21:02:02.712Z"
   },
   {
    "duration": 154,
    "start_time": "2022-04-03T21:02:02.880Z"
   },
   {
    "duration": 166,
    "start_time": "2022-04-03T21:02:03.035Z"
   },
   {
    "duration": 134,
    "start_time": "2022-04-03T21:02:03.203Z"
   },
   {
    "duration": 8,
    "start_time": "2022-04-03T21:11:34.439Z"
   },
   {
    "duration": 19,
    "start_time": "2022-04-03T21:12:24.996Z"
   },
   {
    "duration": 31,
    "start_time": "2022-04-03T21:12:31.921Z"
   },
   {
    "duration": 34,
    "start_time": "2022-04-03T21:13:06.372Z"
   },
   {
    "duration": 37,
    "start_time": "2022-04-03T21:14:27.262Z"
   },
   {
    "duration": 33,
    "start_time": "2022-04-03T21:15:20.424Z"
   },
   {
    "duration": 32,
    "start_time": "2022-04-03T21:18:39.663Z"
   },
   {
    "duration": 34,
    "start_time": "2022-04-03T21:18:52.685Z"
   },
   {
    "duration": 327,
    "start_time": "2022-04-03T21:20:08.201Z"
   },
   {
    "duration": 1220,
    "start_time": "2022-04-03T21:21:03.041Z"
   },
   {
    "duration": 509,
    "start_time": "2022-04-03T21:21:04.263Z"
   },
   {
    "duration": 12,
    "start_time": "2022-04-03T21:21:04.774Z"
   },
   {
    "duration": 24,
    "start_time": "2022-04-03T21:21:04.787Z"
   },
   {
    "duration": 136,
    "start_time": "2022-04-03T21:21:04.814Z"
   },
   {
    "duration": 43,
    "start_time": "2022-04-03T21:21:04.952Z"
   },
   {
    "duration": 5,
    "start_time": "2022-04-03T21:21:04.997Z"
   },
   {
    "duration": 25,
    "start_time": "2022-04-03T21:21:05.004Z"
   },
   {
    "duration": 18,
    "start_time": "2022-04-03T21:21:05.031Z"
   },
   {
    "duration": 375,
    "start_time": "2022-04-03T21:21:05.051Z"
   },
   {
    "duration": 6,
    "start_time": "2022-04-03T21:21:05.428Z"
   },
   {
    "duration": 10,
    "start_time": "2022-04-03T21:21:05.436Z"
   },
   {
    "duration": 41,
    "start_time": "2022-04-03T21:21:05.447Z"
   },
   {
    "duration": 78,
    "start_time": "2022-04-03T21:21:05.492Z"
   },
   {
    "duration": 33,
    "start_time": "2022-04-03T21:21:05.571Z"
   },
   {
    "duration": 8,
    "start_time": "2022-04-03T21:21:05.606Z"
   },
   {
    "duration": 28,
    "start_time": "2022-04-03T21:21:05.615Z"
   },
   {
    "duration": 16,
    "start_time": "2022-04-03T21:21:05.644Z"
   },
   {
    "duration": 320,
    "start_time": "2022-04-03T21:21:05.661Z"
   },
   {
    "duration": 10,
    "start_time": "2022-04-03T21:21:05.983Z"
   },
   {
    "duration": 11,
    "start_time": "2022-04-03T21:21:05.995Z"
   },
   {
    "duration": 19,
    "start_time": "2022-04-03T21:21:06.007Z"
   },
   {
    "duration": 60,
    "start_time": "2022-04-03T21:21:06.028Z"
   },
   {
    "duration": 26,
    "start_time": "2022-04-03T21:21:06.091Z"
   },
   {
    "duration": 13,
    "start_time": "2022-04-03T21:21:06.118Z"
   },
   {
    "duration": 13,
    "start_time": "2022-04-03T21:21:06.133Z"
   },
   {
    "duration": 4,
    "start_time": "2022-04-03T21:21:06.148Z"
   },
   {
    "duration": 32,
    "start_time": "2022-04-03T21:21:06.153Z"
   },
   {
    "duration": 23,
    "start_time": "2022-04-03T21:21:06.187Z"
   },
   {
    "duration": 6,
    "start_time": "2022-04-03T21:21:06.212Z"
   },
   {
    "duration": 9,
    "start_time": "2022-04-03T21:21:06.220Z"
   },
   {
    "duration": 3,
    "start_time": "2022-04-03T21:21:06.230Z"
   },
   {
    "duration": 5,
    "start_time": "2022-04-03T21:21:06.235Z"
   },
   {
    "duration": 5,
    "start_time": "2022-04-03T21:21:06.242Z"
   },
   {
    "duration": 83,
    "start_time": "2022-04-03T21:21:06.249Z"
   },
   {
    "duration": 3,
    "start_time": "2022-04-03T21:21:06.334Z"
   },
   {
    "duration": 13,
    "start_time": "2022-04-03T21:21:06.339Z"
   },
   {
    "duration": 49,
    "start_time": "2022-04-03T21:21:06.354Z"
   },
   {
    "duration": 3,
    "start_time": "2022-04-03T21:21:06.407Z"
   },
   {
    "duration": 13,
    "start_time": "2022-04-03T21:21:06.411Z"
   },
   {
    "duration": 18,
    "start_time": "2022-04-03T21:21:06.429Z"
   },
   {
    "duration": 4,
    "start_time": "2022-04-03T21:21:06.448Z"
   },
   {
    "duration": 4,
    "start_time": "2022-04-03T21:21:06.454Z"
   },
   {
    "duration": 30,
    "start_time": "2022-04-03T21:21:06.460Z"
   },
   {
    "duration": 30,
    "start_time": "2022-04-03T21:21:06.493Z"
   },
   {
    "duration": 3,
    "start_time": "2022-04-03T21:21:06.525Z"
   },
   {
    "duration": 15,
    "start_time": "2022-04-03T21:21:06.529Z"
   },
   {
    "duration": 9,
    "start_time": "2022-04-03T21:21:06.545Z"
   },
   {
    "duration": 25,
    "start_time": "2022-04-03T21:21:06.556Z"
   },
   {
    "duration": 11,
    "start_time": "2022-04-03T21:21:06.582Z"
   },
   {
    "duration": 10,
    "start_time": "2022-04-03T21:21:06.595Z"
   },
   {
    "duration": 8,
    "start_time": "2022-04-03T21:21:06.606Z"
   },
   {
    "duration": 23,
    "start_time": "2022-04-03T21:21:06.615Z"
   },
   {
    "duration": 3,
    "start_time": "2022-04-03T21:21:06.640Z"
   },
   {
    "duration": 121,
    "start_time": "2022-04-03T21:21:06.644Z"
   },
   {
    "duration": 17,
    "start_time": "2022-04-03T21:21:06.767Z"
   },
   {
    "duration": 22,
    "start_time": "2022-04-03T21:21:06.785Z"
   },
   {
    "duration": 2,
    "start_time": "2022-04-03T21:21:06.809Z"
   },
   {
    "duration": 11,
    "start_time": "2022-04-03T21:21:06.813Z"
   },
   {
    "duration": 16,
    "start_time": "2022-04-03T21:21:06.825Z"
   },
   {
    "duration": 527,
    "start_time": "2022-04-03T21:21:06.842Z"
   },
   {
    "duration": 168,
    "start_time": "2022-04-03T21:21:07.370Z"
   },
   {
    "duration": 167,
    "start_time": "2022-04-03T21:21:07.539Z"
   },
   {
    "duration": 173,
    "start_time": "2022-04-03T21:21:07.708Z"
   },
   {
    "duration": 132,
    "start_time": "2022-04-03T21:21:07.884Z"
   },
   {
    "duration": 163,
    "start_time": "2022-04-03T21:21:08.018Z"
   },
   {
    "duration": 138,
    "start_time": "2022-04-03T21:21:08.183Z"
   },
   {
    "duration": 151,
    "start_time": "2022-04-03T21:21:08.323Z"
   },
   {
    "duration": 8,
    "start_time": "2022-04-03T21:21:08.480Z"
   },
   {
    "duration": 126,
    "start_time": "2022-04-03T21:21:08.489Z"
   },
   {
    "duration": 7,
    "start_time": "2022-04-03T21:21:08.616Z"
   },
   {
    "duration": 4,
    "start_time": "2022-04-03T21:21:08.624Z"
   },
   {
    "duration": 8,
    "start_time": "2022-04-03T21:21:08.630Z"
   },
   {
    "duration": 4,
    "start_time": "2022-04-03T21:21:08.640Z"
   },
   {
    "duration": 9,
    "start_time": "2022-04-03T21:21:08.645Z"
   },
   {
    "duration": 26,
    "start_time": "2022-04-03T21:21:08.656Z"
   },
   {
    "duration": 16,
    "start_time": "2022-04-03T21:21:08.683Z"
   },
   {
    "duration": 14,
    "start_time": "2022-04-03T21:21:08.700Z"
   },
   {
    "duration": 18,
    "start_time": "2022-04-03T21:21:08.715Z"
   },
   {
    "duration": 162,
    "start_time": "2022-04-03T21:21:08.734Z"
   },
   {
    "duration": 385,
    "start_time": "2022-04-03T21:21:08.898Z"
   },
   {
    "duration": 6,
    "start_time": "2022-04-03T21:21:09.285Z"
   },
   {
    "duration": 19,
    "start_time": "2022-04-03T21:21:09.293Z"
   },
   {
    "duration": 21,
    "start_time": "2022-04-03T21:21:09.314Z"
   },
   {
    "duration": 9,
    "start_time": "2022-04-03T21:21:09.337Z"
   },
   {
    "duration": 5,
    "start_time": "2022-04-03T21:21:09.348Z"
   },
   {
    "duration": 29,
    "start_time": "2022-04-03T21:21:09.354Z"
   },
   {
    "duration": 137,
    "start_time": "2022-04-03T21:21:09.384Z"
   },
   {
    "duration": 128,
    "start_time": "2022-04-03T21:21:09.523Z"
   },
   {
    "duration": 133,
    "start_time": "2022-04-03T21:21:09.652Z"
   },
   {
    "duration": 37,
    "start_time": "2022-04-03T21:21:09.787Z"
   },
   {
    "duration": 1382,
    "start_time": "2022-04-03T21:21:09.825Z"
   },
   {
    "duration": 4,
    "start_time": "2022-04-03T21:21:11.209Z"
   },
   {
    "duration": 178,
    "start_time": "2022-04-03T21:21:11.214Z"
   },
   {
    "duration": 171,
    "start_time": "2022-04-03T21:21:11.394Z"
   },
   {
    "duration": 170,
    "start_time": "2022-04-03T21:21:11.567Z"
   },
   {
    "duration": 129,
    "start_time": "2022-04-03T21:21:11.739Z"
   },
   {
    "duration": 196,
    "start_time": "2022-04-03T21:22:21.377Z"
   },
   {
    "duration": 126,
    "start_time": "2022-04-04T00:31:37.200Z"
   },
   {
    "duration": 90,
    "start_time": "2022-04-04T01:11:44.610Z"
   },
   {
    "duration": 86,
    "start_time": "2022-04-04T01:17:44.769Z"
   }
  ],
  "kernelspec": {
   "display_name": "Python 3 (ipykernel)",
   "language": "python",
   "name": "python3"
  },
  "language_info": {
   "codemirror_mode": {
    "name": "ipython",
    "version": 3
   },
   "file_extension": ".py",
   "mimetype": "text/x-python",
   "name": "python",
   "nbconvert_exporter": "python",
   "pygments_lexer": "ipython3",
   "version": "3.7.8"
  },
  "toc": {
   "base_numbering": 1,
   "nav_menu": {},
   "number_sections": true,
   "sideBar": true,
   "skip_h1_title": true,
   "title_cell": "Table of Contents",
   "title_sidebar": "Contents",
   "toc_cell": false,
   "toc_position": {
    "height": "calc(100% - 180px)",
    "left": "10px",
    "top": "150px",
    "width": "371.391px"
   },
   "toc_section_display": true,
   "toc_window_display": true
  }
 },
 "nbformat": 4,
 "nbformat_minor": 5
}
