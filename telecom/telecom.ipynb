{
 "cells": [
  {
   "cell_type": "markdown",
   "id": "741e2e73",
   "metadata": {},
   "source": [
    "# Телеком"
   ]
  },
  {
   "cell_type": "markdown",
   "id": "40631712",
   "metadata": {},
   "source": [
    "## Описание задачи\n",
    "Оператор связи «Ниединогоразрыва.ком» хочет научиться прогнозировать отток клиентов. Если выяснится, что пользователь планирует уйти, ему будут предложены промокоды и специальные условия. Команда оператора собрала персональные данные о некоторых клиентах, информацию об их тарифах и договорах."
   ]
  },
  {
   "cell_type": "markdown",
   "id": "176937aa",
   "metadata": {},
   "source": [
    "## План работы\n",
    "1. Разведочный анализ\n",
    "    - загрузка данных\n",
    "    - изучение данных с помощью info, describe\n",
    "    - приведение к нужным типам данных\n",
    "2. Исследовательский анализ\n",
    "    - проверим данные на дубликаты\n",
    "    - проверим данные на пропуски. Проанализируем вариант работы с ними (замена значением, удаление и т.п)\n",
    "    - поосмотрим на распределение количественных признаков\n",
    "    - объединим данные по customerID\n",
    "    - проработаем аномалии и выбросы\n",
    "3. Конструирование признаков\n",
    "    - выделим целевой признак\n",
    "    - посмотрим распределение числовых признаков\n",
    "    - проверим корреляцию признаков\n",
    "    - выделим новый признак \"длительность контракта\"\n",
    "    - разделим данные на train и test\n",
    "    - закодируем категориальные признаки\n",
    "4. Подбор гиперпараметров. Выбор лучшей модели.\n",
    "    - LogisticRegression\n",
    "    - RandomForest\n",
    "    - CatBoostClassifier\n",
    "5. Выбор модели\n",
    "    - проверка модели на test\n",
    "    - кривая ROC-AUC\n",
    "6. Вывод\n",
    "    - результат работы модели\n",
    "7. Отчет\n",
    "    - резюме проделанной работы"
   ]
  },
  {
   "cell_type": "markdown",
   "id": "2618c697",
   "metadata": {},
   "source": [
    "##### Вопросов нет"
   ]
  },
  {
   "cell_type": "markdown",
   "id": "79145440",
   "metadata": {},
   "source": [
    "### Описание данных\n",
    "Данные состоят из файлов, полученных из разных источников:\n",
    "\n",
    "- `contract.csv` — информация о договоре;\n",
    "- `personal.csv` — персональные данные клиента;\n",
    "- `internet.csv` — информация об интернет-услугах;\n",
    "- `phone.csv` — информация об услугах телефонии."
   ]
  },
  {
   "cell_type": "code",
   "execution_count": 1,
   "id": "5ab67227",
   "metadata": {},
   "outputs": [],
   "source": [
    "# import libraries\n",
    "import pandas as pd\n",
    "#from pandas_profiling import ProfileReport\n",
    "import seaborn as sns\n",
    "import matplotlib.pyplot as plt\n",
    "\n",
    "from sklearn.model_selection import train_test_split, GridSearchCV\n",
    "from sklearn.preprocessing import OneHotEncoder, StandardScaler\n",
    "from sklearn.ensemble import RandomForestClassifier\n",
    "from sklearn.metrics import roc_auc_score, roc_curve, confusion_matrix, accuracy_score\n",
    "from sklearn.linear_model import LogisticRegression\n",
    "\n",
    "from catboost import CatBoostClassifier\n",
    "\n",
    "import phik\n",
    "from phik.report import plot_correlation_matrix"
   ]
  },
  {
   "cell_type": "markdown",
   "id": "ba3bf81c",
   "metadata": {},
   "source": [
    "## Разведочный анализ"
   ]
  },
  {
   "cell_type": "code",
   "execution_count": 2,
   "id": "13c9e060",
   "metadata": {},
   "outputs": [],
   "source": [
    "try:\n",
    "    data_contract = pd.read_csv('contract.csv', index_col='customerID')\n",
    "    data_personal = pd.read_csv('personal.csv', index_col='customerID')\n",
    "    data_internet = pd.read_csv('internet.csv', index_col='customerID')    \n",
    "    data_phone = pd.read_csv('phone.csv', index_col='customerID')  \n",
    "except:\n",
    "    data_contract = pd.read_csv('/datasets/final_provider/contract.csv', index_col='customerID')\n",
    "    data_personal = pd.read_csv('/datasets/final_provider/personal.csv', index_col='customerID')\n",
    "    data_internet = pd.read_csv('/datasets/final_provider/internet.csv', index_col='customerID')    \n",
    "    data_phone = pd.read_csv('/datasets/final_provider/phone.csv', index_col='customerID') "
   ]
  },
  {
   "cell_type": "markdown",
   "id": "7dd813aa",
   "metadata": {},
   "source": [
    "### data_contract"
   ]
  },
  {
   "cell_type": "code",
   "execution_count": 3,
   "id": "11bd2871",
   "metadata": {},
   "outputs": [
    {
     "data": {
      "text/html": [
       "<div>\n",
       "<style scoped>\n",
       "    .dataframe tbody tr th:only-of-type {\n",
       "        vertical-align: middle;\n",
       "    }\n",
       "\n",
       "    .dataframe tbody tr th {\n",
       "        vertical-align: top;\n",
       "    }\n",
       "\n",
       "    .dataframe thead th {\n",
       "        text-align: right;\n",
       "    }\n",
       "</style>\n",
       "<table border=\"1\" class=\"dataframe\">\n",
       "  <thead>\n",
       "    <tr style=\"text-align: right;\">\n",
       "      <th></th>\n",
       "      <th>BeginDate</th>\n",
       "      <th>EndDate</th>\n",
       "      <th>Type</th>\n",
       "      <th>PaperlessBilling</th>\n",
       "      <th>PaymentMethod</th>\n",
       "      <th>MonthlyCharges</th>\n",
       "      <th>TotalCharges</th>\n",
       "    </tr>\n",
       "    <tr>\n",
       "      <th>customerID</th>\n",
       "      <th></th>\n",
       "      <th></th>\n",
       "      <th></th>\n",
       "      <th></th>\n",
       "      <th></th>\n",
       "      <th></th>\n",
       "      <th></th>\n",
       "    </tr>\n",
       "  </thead>\n",
       "  <tbody>\n",
       "    <tr>\n",
       "      <th>7590-VHVEG</th>\n",
       "      <td>2020-01-01</td>\n",
       "      <td>No</td>\n",
       "      <td>Month-to-month</td>\n",
       "      <td>Yes</td>\n",
       "      <td>Electronic check</td>\n",
       "      <td>29.85</td>\n",
       "      <td>29.85</td>\n",
       "    </tr>\n",
       "    <tr>\n",
       "      <th>5575-GNVDE</th>\n",
       "      <td>2017-04-01</td>\n",
       "      <td>No</td>\n",
       "      <td>One year</td>\n",
       "      <td>No</td>\n",
       "      <td>Mailed check</td>\n",
       "      <td>56.95</td>\n",
       "      <td>1889.5</td>\n",
       "    </tr>\n",
       "    <tr>\n",
       "      <th>3668-QPYBK</th>\n",
       "      <td>2019-10-01</td>\n",
       "      <td>2019-12-01 00:00:00</td>\n",
       "      <td>Month-to-month</td>\n",
       "      <td>Yes</td>\n",
       "      <td>Mailed check</td>\n",
       "      <td>53.85</td>\n",
       "      <td>108.15</td>\n",
       "    </tr>\n",
       "    <tr>\n",
       "      <th>7795-CFOCW</th>\n",
       "      <td>2016-05-01</td>\n",
       "      <td>No</td>\n",
       "      <td>One year</td>\n",
       "      <td>No</td>\n",
       "      <td>Bank transfer (automatic)</td>\n",
       "      <td>42.30</td>\n",
       "      <td>1840.75</td>\n",
       "    </tr>\n",
       "    <tr>\n",
       "      <th>9237-HQITU</th>\n",
       "      <td>2019-09-01</td>\n",
       "      <td>2019-11-01 00:00:00</td>\n",
       "      <td>Month-to-month</td>\n",
       "      <td>Yes</td>\n",
       "      <td>Electronic check</td>\n",
       "      <td>70.70</td>\n",
       "      <td>151.65</td>\n",
       "    </tr>\n",
       "  </tbody>\n",
       "</table>\n",
       "</div>"
      ],
      "text/plain": [
       "             BeginDate              EndDate            Type PaperlessBilling  \\\n",
       "customerID                                                                     \n",
       "7590-VHVEG  2020-01-01                   No  Month-to-month              Yes   \n",
       "5575-GNVDE  2017-04-01                   No        One year               No   \n",
       "3668-QPYBK  2019-10-01  2019-12-01 00:00:00  Month-to-month              Yes   \n",
       "7795-CFOCW  2016-05-01                   No        One year               No   \n",
       "9237-HQITU  2019-09-01  2019-11-01 00:00:00  Month-to-month              Yes   \n",
       "\n",
       "                        PaymentMethod  MonthlyCharges TotalCharges  \n",
       "customerID                                                          \n",
       "7590-VHVEG           Electronic check           29.85        29.85  \n",
       "5575-GNVDE               Mailed check           56.95       1889.5  \n",
       "3668-QPYBK               Mailed check           53.85       108.15  \n",
       "7795-CFOCW  Bank transfer (automatic)           42.30      1840.75  \n",
       "9237-HQITU           Electronic check           70.70       151.65  "
      ]
     },
     "execution_count": 3,
     "metadata": {},
     "output_type": "execute_result"
    }
   ],
   "source": [
    "data_contract.head()"
   ]
  },
  {
   "cell_type": "code",
   "execution_count": 4,
   "id": "b16f40f3",
   "metadata": {},
   "outputs": [
    {
     "name": "stdout",
     "output_type": "stream",
     "text": [
      "<class 'pandas.core.frame.DataFrame'>\n",
      "Index: 7043 entries, 7590-VHVEG to 3186-AJIEK\n",
      "Data columns (total 7 columns):\n",
      " #   Column            Non-Null Count  Dtype  \n",
      "---  ------            --------------  -----  \n",
      " 0   BeginDate         7043 non-null   object \n",
      " 1   EndDate           7043 non-null   object \n",
      " 2   Type              7043 non-null   object \n",
      " 3   PaperlessBilling  7043 non-null   object \n",
      " 4   PaymentMethod     7043 non-null   object \n",
      " 5   MonthlyCharges    7043 non-null   float64\n",
      " 6   TotalCharges      7043 non-null   object \n",
      "dtypes: float64(1), object(6)\n",
      "memory usage: 440.2+ KB\n"
     ]
    }
   ],
   "source": [
    "data_contract.info()"
   ]
  },
  {
   "cell_type": "code",
   "execution_count": 5,
   "id": "a9077f35",
   "metadata": {},
   "outputs": [
    {
     "data": {
      "text/html": [
       "<div>\n",
       "<style scoped>\n",
       "    .dataframe tbody tr th:only-of-type {\n",
       "        vertical-align: middle;\n",
       "    }\n",
       "\n",
       "    .dataframe tbody tr th {\n",
       "        vertical-align: top;\n",
       "    }\n",
       "\n",
       "    .dataframe thead th {\n",
       "        text-align: right;\n",
       "    }\n",
       "</style>\n",
       "<table border=\"1\" class=\"dataframe\">\n",
       "  <thead>\n",
       "    <tr style=\"text-align: right;\">\n",
       "      <th></th>\n",
       "      <th>BeginDate</th>\n",
       "      <th>EndDate</th>\n",
       "      <th>Type</th>\n",
       "      <th>PaperlessBilling</th>\n",
       "      <th>PaymentMethod</th>\n",
       "      <th>MonthlyCharges</th>\n",
       "      <th>TotalCharges</th>\n",
       "    </tr>\n",
       "    <tr>\n",
       "      <th>customerID</th>\n",
       "      <th></th>\n",
       "      <th></th>\n",
       "      <th></th>\n",
       "      <th></th>\n",
       "      <th></th>\n",
       "      <th></th>\n",
       "      <th></th>\n",
       "    </tr>\n",
       "  </thead>\n",
       "  <tbody>\n",
       "    <tr>\n",
       "      <th>4472-LVYGI</th>\n",
       "      <td>2020-02-01</td>\n",
       "      <td>No</td>\n",
       "      <td>Two year</td>\n",
       "      <td>Yes</td>\n",
       "      <td>Bank transfer (automatic)</td>\n",
       "      <td>52.55</td>\n",
       "      <td></td>\n",
       "    </tr>\n",
       "    <tr>\n",
       "      <th>3115-CZMZD</th>\n",
       "      <td>2020-02-01</td>\n",
       "      <td>No</td>\n",
       "      <td>Two year</td>\n",
       "      <td>No</td>\n",
       "      <td>Mailed check</td>\n",
       "      <td>20.25</td>\n",
       "      <td></td>\n",
       "    </tr>\n",
       "    <tr>\n",
       "      <th>5709-LVOEQ</th>\n",
       "      <td>2020-02-01</td>\n",
       "      <td>No</td>\n",
       "      <td>Two year</td>\n",
       "      <td>No</td>\n",
       "      <td>Mailed check</td>\n",
       "      <td>80.85</td>\n",
       "      <td></td>\n",
       "    </tr>\n",
       "    <tr>\n",
       "      <th>4367-NUYAO</th>\n",
       "      <td>2020-02-01</td>\n",
       "      <td>No</td>\n",
       "      <td>Two year</td>\n",
       "      <td>No</td>\n",
       "      <td>Mailed check</td>\n",
       "      <td>25.75</td>\n",
       "      <td></td>\n",
       "    </tr>\n",
       "    <tr>\n",
       "      <th>1371-DWPAZ</th>\n",
       "      <td>2020-02-01</td>\n",
       "      <td>No</td>\n",
       "      <td>Two year</td>\n",
       "      <td>No</td>\n",
       "      <td>Credit card (automatic)</td>\n",
       "      <td>56.05</td>\n",
       "      <td></td>\n",
       "    </tr>\n",
       "    <tr>\n",
       "      <th>7644-OMVMY</th>\n",
       "      <td>2020-02-01</td>\n",
       "      <td>No</td>\n",
       "      <td>Two year</td>\n",
       "      <td>No</td>\n",
       "      <td>Mailed check</td>\n",
       "      <td>19.85</td>\n",
       "      <td></td>\n",
       "    </tr>\n",
       "    <tr>\n",
       "      <th>3213-VVOLG</th>\n",
       "      <td>2020-02-01</td>\n",
       "      <td>No</td>\n",
       "      <td>Two year</td>\n",
       "      <td>No</td>\n",
       "      <td>Mailed check</td>\n",
       "      <td>25.35</td>\n",
       "      <td></td>\n",
       "    </tr>\n",
       "    <tr>\n",
       "      <th>2520-SGTTA</th>\n",
       "      <td>2020-02-01</td>\n",
       "      <td>No</td>\n",
       "      <td>Two year</td>\n",
       "      <td>No</td>\n",
       "      <td>Mailed check</td>\n",
       "      <td>20.00</td>\n",
       "      <td></td>\n",
       "    </tr>\n",
       "    <tr>\n",
       "      <th>2923-ARZLG</th>\n",
       "      <td>2020-02-01</td>\n",
       "      <td>No</td>\n",
       "      <td>One year</td>\n",
       "      <td>Yes</td>\n",
       "      <td>Mailed check</td>\n",
       "      <td>19.70</td>\n",
       "      <td></td>\n",
       "    </tr>\n",
       "    <tr>\n",
       "      <th>4075-WKNIU</th>\n",
       "      <td>2020-02-01</td>\n",
       "      <td>No</td>\n",
       "      <td>Two year</td>\n",
       "      <td>No</td>\n",
       "      <td>Mailed check</td>\n",
       "      <td>73.35</td>\n",
       "      <td></td>\n",
       "    </tr>\n",
       "    <tr>\n",
       "      <th>2775-SEFEE</th>\n",
       "      <td>2020-02-01</td>\n",
       "      <td>No</td>\n",
       "      <td>Two year</td>\n",
       "      <td>Yes</td>\n",
       "      <td>Bank transfer (automatic)</td>\n",
       "      <td>61.90</td>\n",
       "      <td></td>\n",
       "    </tr>\n",
       "  </tbody>\n",
       "</table>\n",
       "</div>"
      ],
      "text/plain": [
       "             BeginDate EndDate      Type PaperlessBilling  \\\n",
       "customerID                                                  \n",
       "4472-LVYGI  2020-02-01      No  Two year              Yes   \n",
       "3115-CZMZD  2020-02-01      No  Two year               No   \n",
       "5709-LVOEQ  2020-02-01      No  Two year               No   \n",
       "4367-NUYAO  2020-02-01      No  Two year               No   \n",
       "1371-DWPAZ  2020-02-01      No  Two year               No   \n",
       "7644-OMVMY  2020-02-01      No  Two year               No   \n",
       "3213-VVOLG  2020-02-01      No  Two year               No   \n",
       "2520-SGTTA  2020-02-01      No  Two year               No   \n",
       "2923-ARZLG  2020-02-01      No  One year              Yes   \n",
       "4075-WKNIU  2020-02-01      No  Two year               No   \n",
       "2775-SEFEE  2020-02-01      No  Two year              Yes   \n",
       "\n",
       "                        PaymentMethod  MonthlyCharges TotalCharges  \n",
       "customerID                                                          \n",
       "4472-LVYGI  Bank transfer (automatic)           52.55               \n",
       "3115-CZMZD               Mailed check           20.25               \n",
       "5709-LVOEQ               Mailed check           80.85               \n",
       "4367-NUYAO               Mailed check           25.75               \n",
       "1371-DWPAZ    Credit card (automatic)           56.05               \n",
       "7644-OMVMY               Mailed check           19.85               \n",
       "3213-VVOLG               Mailed check           25.35               \n",
       "2520-SGTTA               Mailed check           20.00               \n",
       "2923-ARZLG               Mailed check           19.70               \n",
       "4075-WKNIU               Mailed check           73.35               \n",
       "2775-SEFEE  Bank transfer (automatic)           61.90               "
      ]
     },
     "execution_count": 5,
     "metadata": {},
     "output_type": "execute_result"
    }
   ],
   "source": [
    "data_contract[data_contract.TotalCharges == \" \"]"
   ]
  },
  {
   "cell_type": "code",
   "execution_count": 6,
   "id": "2a17eefa",
   "metadata": {},
   "outputs": [
    {
     "data": {
      "text/html": [
       "<div>\n",
       "<style scoped>\n",
       "    .dataframe tbody tr th:only-of-type {\n",
       "        vertical-align: middle;\n",
       "    }\n",
       "\n",
       "    .dataframe tbody tr th {\n",
       "        vertical-align: top;\n",
       "    }\n",
       "\n",
       "    .dataframe thead th {\n",
       "        text-align: right;\n",
       "    }\n",
       "</style>\n",
       "<table border=\"1\" class=\"dataframe\">\n",
       "  <thead>\n",
       "    <tr style=\"text-align: right;\">\n",
       "      <th></th>\n",
       "      <th>MonthlyCharges</th>\n",
       "    </tr>\n",
       "  </thead>\n",
       "  <tbody>\n",
       "    <tr>\n",
       "      <th>count</th>\n",
       "      <td>7043.000000</td>\n",
       "    </tr>\n",
       "    <tr>\n",
       "      <th>mean</th>\n",
       "      <td>64.761692</td>\n",
       "    </tr>\n",
       "    <tr>\n",
       "      <th>std</th>\n",
       "      <td>30.090047</td>\n",
       "    </tr>\n",
       "    <tr>\n",
       "      <th>min</th>\n",
       "      <td>18.250000</td>\n",
       "    </tr>\n",
       "    <tr>\n",
       "      <th>25%</th>\n",
       "      <td>35.500000</td>\n",
       "    </tr>\n",
       "    <tr>\n",
       "      <th>50%</th>\n",
       "      <td>70.350000</td>\n",
       "    </tr>\n",
       "    <tr>\n",
       "      <th>75%</th>\n",
       "      <td>89.850000</td>\n",
       "    </tr>\n",
       "    <tr>\n",
       "      <th>max</th>\n",
       "      <td>118.750000</td>\n",
       "    </tr>\n",
       "  </tbody>\n",
       "</table>\n",
       "</div>"
      ],
      "text/plain": [
       "       MonthlyCharges\n",
       "count     7043.000000\n",
       "mean        64.761692\n",
       "std         30.090047\n",
       "min         18.250000\n",
       "25%         35.500000\n",
       "50%         70.350000\n",
       "75%         89.850000\n",
       "max        118.750000"
      ]
     },
     "execution_count": 6,
     "metadata": {},
     "output_type": "execute_result"
    }
   ],
   "source": [
    "data_contract.describe()"
   ]
  },
  {
   "cell_type": "markdown",
   "id": "a04e8291",
   "metadata": {},
   "source": [
    "Признаки BeginDate, EndDate и TotalCharges имеют категориальный тип данных. При конструировании признаков BeginDate и EndDate изменим на Timestamp, а TotalCharges на float64. Признак TotalCharges имеет пустые строковые значения. Это пользователи, чьи контракты начались в день выгрузки данных. Их немного, они не повлияют на результат работы. Избавимся от них."
   ]
  },
  {
   "cell_type": "code",
   "execution_count": 7,
   "id": "4e5ee77f",
   "metadata": {},
   "outputs": [],
   "source": [
    "data_contract.TotalCharges = pd.to_numeric(data_contract.TotalCharges, errors='coerce')\n",
    "data_contract = data_contract.dropna()"
   ]
  },
  {
   "cell_type": "code",
   "execution_count": 8,
   "id": "f3e3aea6",
   "metadata": {},
   "outputs": [
    {
     "name": "stdout",
     "output_type": "stream",
     "text": [
      "<class 'pandas.core.frame.DataFrame'>\n",
      "Index: 7032 entries, 7590-VHVEG to 3186-AJIEK\n",
      "Data columns (total 7 columns):\n",
      " #   Column            Non-Null Count  Dtype  \n",
      "---  ------            --------------  -----  \n",
      " 0   BeginDate         7032 non-null   object \n",
      " 1   EndDate           7032 non-null   object \n",
      " 2   Type              7032 non-null   object \n",
      " 3   PaperlessBilling  7032 non-null   object \n",
      " 4   PaymentMethod     7032 non-null   object \n",
      " 5   MonthlyCharges    7032 non-null   float64\n",
      " 6   TotalCharges      7032 non-null   float64\n",
      "dtypes: float64(2), object(5)\n",
      "memory usage: 439.5+ KB\n"
     ]
    }
   ],
   "source": [
    "data_contract.info()"
   ]
  },
  {
   "cell_type": "markdown",
   "id": "76d6f913",
   "metadata": {},
   "source": [
    "### data_personal"
   ]
  },
  {
   "cell_type": "code",
   "execution_count": 9,
   "id": "d272d28a",
   "metadata": {},
   "outputs": [
    {
     "data": {
      "text/html": [
       "<div>\n",
       "<style scoped>\n",
       "    .dataframe tbody tr th:only-of-type {\n",
       "        vertical-align: middle;\n",
       "    }\n",
       "\n",
       "    .dataframe tbody tr th {\n",
       "        vertical-align: top;\n",
       "    }\n",
       "\n",
       "    .dataframe thead th {\n",
       "        text-align: right;\n",
       "    }\n",
       "</style>\n",
       "<table border=\"1\" class=\"dataframe\">\n",
       "  <thead>\n",
       "    <tr style=\"text-align: right;\">\n",
       "      <th></th>\n",
       "      <th>gender</th>\n",
       "      <th>SeniorCitizen</th>\n",
       "      <th>Partner</th>\n",
       "      <th>Dependents</th>\n",
       "    </tr>\n",
       "    <tr>\n",
       "      <th>customerID</th>\n",
       "      <th></th>\n",
       "      <th></th>\n",
       "      <th></th>\n",
       "      <th></th>\n",
       "    </tr>\n",
       "  </thead>\n",
       "  <tbody>\n",
       "    <tr>\n",
       "      <th>7590-VHVEG</th>\n",
       "      <td>Female</td>\n",
       "      <td>0</td>\n",
       "      <td>Yes</td>\n",
       "      <td>No</td>\n",
       "    </tr>\n",
       "    <tr>\n",
       "      <th>5575-GNVDE</th>\n",
       "      <td>Male</td>\n",
       "      <td>0</td>\n",
       "      <td>No</td>\n",
       "      <td>No</td>\n",
       "    </tr>\n",
       "    <tr>\n",
       "      <th>3668-QPYBK</th>\n",
       "      <td>Male</td>\n",
       "      <td>0</td>\n",
       "      <td>No</td>\n",
       "      <td>No</td>\n",
       "    </tr>\n",
       "    <tr>\n",
       "      <th>7795-CFOCW</th>\n",
       "      <td>Male</td>\n",
       "      <td>0</td>\n",
       "      <td>No</td>\n",
       "      <td>No</td>\n",
       "    </tr>\n",
       "    <tr>\n",
       "      <th>9237-HQITU</th>\n",
       "      <td>Female</td>\n",
       "      <td>0</td>\n",
       "      <td>No</td>\n",
       "      <td>No</td>\n",
       "    </tr>\n",
       "  </tbody>\n",
       "</table>\n",
       "</div>"
      ],
      "text/plain": [
       "            gender  SeniorCitizen Partner Dependents\n",
       "customerID                                          \n",
       "7590-VHVEG  Female              0     Yes         No\n",
       "5575-GNVDE    Male              0      No         No\n",
       "3668-QPYBK    Male              0      No         No\n",
       "7795-CFOCW    Male              0      No         No\n",
       "9237-HQITU  Female              0      No         No"
      ]
     },
     "execution_count": 9,
     "metadata": {},
     "output_type": "execute_result"
    }
   ],
   "source": [
    "data_personal.head()"
   ]
  },
  {
   "cell_type": "code",
   "execution_count": 10,
   "id": "077666bf",
   "metadata": {},
   "outputs": [],
   "source": [
    "data_personal.SeniorCitizen = data_personal.SeniorCitizen.astype('object')"
   ]
  },
  {
   "cell_type": "code",
   "execution_count": 11,
   "id": "10277206",
   "metadata": {},
   "outputs": [
    {
     "name": "stdout",
     "output_type": "stream",
     "text": [
      "<class 'pandas.core.frame.DataFrame'>\n",
      "Index: 7043 entries, 7590-VHVEG to 3186-AJIEK\n",
      "Data columns (total 4 columns):\n",
      " #   Column         Non-Null Count  Dtype \n",
      "---  ------         --------------  ----- \n",
      " 0   gender         7043 non-null   object\n",
      " 1   SeniorCitizen  7043 non-null   object\n",
      " 2   Partner        7043 non-null   object\n",
      " 3   Dependents     7043 non-null   object\n",
      "dtypes: object(4)\n",
      "memory usage: 275.1+ KB\n"
     ]
    }
   ],
   "source": [
    "data_personal.info()"
   ]
  },
  {
   "cell_type": "code",
   "execution_count": 12,
   "id": "193a1ba6",
   "metadata": {},
   "outputs": [
    {
     "data": {
      "text/html": [
       "<div>\n",
       "<style scoped>\n",
       "    .dataframe tbody tr th:only-of-type {\n",
       "        vertical-align: middle;\n",
       "    }\n",
       "\n",
       "    .dataframe tbody tr th {\n",
       "        vertical-align: top;\n",
       "    }\n",
       "\n",
       "    .dataframe thead th {\n",
       "        text-align: right;\n",
       "    }\n",
       "</style>\n",
       "<table border=\"1\" class=\"dataframe\">\n",
       "  <thead>\n",
       "    <tr style=\"text-align: right;\">\n",
       "      <th></th>\n",
       "      <th>gender</th>\n",
       "      <th>SeniorCitizen</th>\n",
       "      <th>Partner</th>\n",
       "      <th>Dependents</th>\n",
       "    </tr>\n",
       "  </thead>\n",
       "  <tbody>\n",
       "    <tr>\n",
       "      <th>count</th>\n",
       "      <td>7043</td>\n",
       "      <td>7043</td>\n",
       "      <td>7043</td>\n",
       "      <td>7043</td>\n",
       "    </tr>\n",
       "    <tr>\n",
       "      <th>unique</th>\n",
       "      <td>2</td>\n",
       "      <td>2</td>\n",
       "      <td>2</td>\n",
       "      <td>2</td>\n",
       "    </tr>\n",
       "    <tr>\n",
       "      <th>top</th>\n",
       "      <td>Male</td>\n",
       "      <td>0</td>\n",
       "      <td>No</td>\n",
       "      <td>No</td>\n",
       "    </tr>\n",
       "    <tr>\n",
       "      <th>freq</th>\n",
       "      <td>3555</td>\n",
       "      <td>5901</td>\n",
       "      <td>3641</td>\n",
       "      <td>4933</td>\n",
       "    </tr>\n",
       "  </tbody>\n",
       "</table>\n",
       "</div>"
      ],
      "text/plain": [
       "       gender  SeniorCitizen Partner Dependents\n",
       "count    7043           7043    7043       7043\n",
       "unique      2              2       2          2\n",
       "top      Male              0      No         No\n",
       "freq     3555           5901    3641       4933"
      ]
     },
     "execution_count": 12,
     "metadata": {},
     "output_type": "execute_result"
    }
   ],
   "source": [
    "data_personal.describe()"
   ]
  },
  {
   "cell_type": "markdown",
   "id": "a2ed1403",
   "metadata": {},
   "source": [
    "SeniorCitizen - пенсионер. Значение 1 - True, 0 - False."
   ]
  },
  {
   "cell_type": "markdown",
   "id": "7d677511",
   "metadata": {},
   "source": [
    "### data_internet"
   ]
  },
  {
   "cell_type": "code",
   "execution_count": 13,
   "id": "2a920530",
   "metadata": {},
   "outputs": [
    {
     "data": {
      "text/html": [
       "<div>\n",
       "<style scoped>\n",
       "    .dataframe tbody tr th:only-of-type {\n",
       "        vertical-align: middle;\n",
       "    }\n",
       "\n",
       "    .dataframe tbody tr th {\n",
       "        vertical-align: top;\n",
       "    }\n",
       "\n",
       "    .dataframe thead th {\n",
       "        text-align: right;\n",
       "    }\n",
       "</style>\n",
       "<table border=\"1\" class=\"dataframe\">\n",
       "  <thead>\n",
       "    <tr style=\"text-align: right;\">\n",
       "      <th></th>\n",
       "      <th>InternetService</th>\n",
       "      <th>OnlineSecurity</th>\n",
       "      <th>OnlineBackup</th>\n",
       "      <th>DeviceProtection</th>\n",
       "      <th>TechSupport</th>\n",
       "      <th>StreamingTV</th>\n",
       "      <th>StreamingMovies</th>\n",
       "    </tr>\n",
       "    <tr>\n",
       "      <th>customerID</th>\n",
       "      <th></th>\n",
       "      <th></th>\n",
       "      <th></th>\n",
       "      <th></th>\n",
       "      <th></th>\n",
       "      <th></th>\n",
       "      <th></th>\n",
       "    </tr>\n",
       "  </thead>\n",
       "  <tbody>\n",
       "    <tr>\n",
       "      <th>7590-VHVEG</th>\n",
       "      <td>DSL</td>\n",
       "      <td>No</td>\n",
       "      <td>Yes</td>\n",
       "      <td>No</td>\n",
       "      <td>No</td>\n",
       "      <td>No</td>\n",
       "      <td>No</td>\n",
       "    </tr>\n",
       "    <tr>\n",
       "      <th>5575-GNVDE</th>\n",
       "      <td>DSL</td>\n",
       "      <td>Yes</td>\n",
       "      <td>No</td>\n",
       "      <td>Yes</td>\n",
       "      <td>No</td>\n",
       "      <td>No</td>\n",
       "      <td>No</td>\n",
       "    </tr>\n",
       "    <tr>\n",
       "      <th>3668-QPYBK</th>\n",
       "      <td>DSL</td>\n",
       "      <td>Yes</td>\n",
       "      <td>Yes</td>\n",
       "      <td>No</td>\n",
       "      <td>No</td>\n",
       "      <td>No</td>\n",
       "      <td>No</td>\n",
       "    </tr>\n",
       "    <tr>\n",
       "      <th>7795-CFOCW</th>\n",
       "      <td>DSL</td>\n",
       "      <td>Yes</td>\n",
       "      <td>No</td>\n",
       "      <td>Yes</td>\n",
       "      <td>Yes</td>\n",
       "      <td>No</td>\n",
       "      <td>No</td>\n",
       "    </tr>\n",
       "    <tr>\n",
       "      <th>9237-HQITU</th>\n",
       "      <td>Fiber optic</td>\n",
       "      <td>No</td>\n",
       "      <td>No</td>\n",
       "      <td>No</td>\n",
       "      <td>No</td>\n",
       "      <td>No</td>\n",
       "      <td>No</td>\n",
       "    </tr>\n",
       "  </tbody>\n",
       "</table>\n",
       "</div>"
      ],
      "text/plain": [
       "           InternetService OnlineSecurity OnlineBackup DeviceProtection  \\\n",
       "customerID                                                                \n",
       "7590-VHVEG             DSL             No          Yes               No   \n",
       "5575-GNVDE             DSL            Yes           No              Yes   \n",
       "3668-QPYBK             DSL            Yes          Yes               No   \n",
       "7795-CFOCW             DSL            Yes           No              Yes   \n",
       "9237-HQITU     Fiber optic             No           No               No   \n",
       "\n",
       "           TechSupport StreamingTV StreamingMovies  \n",
       "customerID                                          \n",
       "7590-VHVEG          No          No              No  \n",
       "5575-GNVDE          No          No              No  \n",
       "3668-QPYBK          No          No              No  \n",
       "7795-CFOCW         Yes          No              No  \n",
       "9237-HQITU          No          No              No  "
      ]
     },
     "execution_count": 13,
     "metadata": {},
     "output_type": "execute_result"
    }
   ],
   "source": [
    "data_internet.head()"
   ]
  },
  {
   "cell_type": "code",
   "execution_count": 14,
   "id": "9a0a50ab",
   "metadata": {},
   "outputs": [
    {
     "name": "stdout",
     "output_type": "stream",
     "text": [
      "<class 'pandas.core.frame.DataFrame'>\n",
      "Index: 5517 entries, 7590-VHVEG to 3186-AJIEK\n",
      "Data columns (total 7 columns):\n",
      " #   Column            Non-Null Count  Dtype \n",
      "---  ------            --------------  ----- \n",
      " 0   InternetService   5517 non-null   object\n",
      " 1   OnlineSecurity    5517 non-null   object\n",
      " 2   OnlineBackup      5517 non-null   object\n",
      " 3   DeviceProtection  5517 non-null   object\n",
      " 4   TechSupport       5517 non-null   object\n",
      " 5   StreamingTV       5517 non-null   object\n",
      " 6   StreamingMovies   5517 non-null   object\n",
      "dtypes: object(7)\n",
      "memory usage: 344.8+ KB\n"
     ]
    }
   ],
   "source": [
    "data_internet.info()"
   ]
  },
  {
   "cell_type": "code",
   "execution_count": 15,
   "id": "58ec6b31",
   "metadata": {},
   "outputs": [
    {
     "data": {
      "text/html": [
       "<div>\n",
       "<style scoped>\n",
       "    .dataframe tbody tr th:only-of-type {\n",
       "        vertical-align: middle;\n",
       "    }\n",
       "\n",
       "    .dataframe tbody tr th {\n",
       "        vertical-align: top;\n",
       "    }\n",
       "\n",
       "    .dataframe thead th {\n",
       "        text-align: right;\n",
       "    }\n",
       "</style>\n",
       "<table border=\"1\" class=\"dataframe\">\n",
       "  <thead>\n",
       "    <tr style=\"text-align: right;\">\n",
       "      <th></th>\n",
       "      <th>InternetService</th>\n",
       "      <th>OnlineSecurity</th>\n",
       "      <th>OnlineBackup</th>\n",
       "      <th>DeviceProtection</th>\n",
       "      <th>TechSupport</th>\n",
       "      <th>StreamingTV</th>\n",
       "      <th>StreamingMovies</th>\n",
       "    </tr>\n",
       "  </thead>\n",
       "  <tbody>\n",
       "    <tr>\n",
       "      <th>count</th>\n",
       "      <td>5517</td>\n",
       "      <td>5517</td>\n",
       "      <td>5517</td>\n",
       "      <td>5517</td>\n",
       "      <td>5517</td>\n",
       "      <td>5517</td>\n",
       "      <td>5517</td>\n",
       "    </tr>\n",
       "    <tr>\n",
       "      <th>unique</th>\n",
       "      <td>2</td>\n",
       "      <td>2</td>\n",
       "      <td>2</td>\n",
       "      <td>2</td>\n",
       "      <td>2</td>\n",
       "      <td>2</td>\n",
       "      <td>2</td>\n",
       "    </tr>\n",
       "    <tr>\n",
       "      <th>top</th>\n",
       "      <td>Fiber optic</td>\n",
       "      <td>No</td>\n",
       "      <td>No</td>\n",
       "      <td>No</td>\n",
       "      <td>No</td>\n",
       "      <td>No</td>\n",
       "      <td>No</td>\n",
       "    </tr>\n",
       "    <tr>\n",
       "      <th>freq</th>\n",
       "      <td>3096</td>\n",
       "      <td>3498</td>\n",
       "      <td>3088</td>\n",
       "      <td>3095</td>\n",
       "      <td>3473</td>\n",
       "      <td>2810</td>\n",
       "      <td>2785</td>\n",
       "    </tr>\n",
       "  </tbody>\n",
       "</table>\n",
       "</div>"
      ],
      "text/plain": [
       "       InternetService OnlineSecurity OnlineBackup DeviceProtection  \\\n",
       "count             5517           5517         5517             5517   \n",
       "unique               2              2            2                2   \n",
       "top        Fiber optic             No           No               No   \n",
       "freq              3096           3498         3088             3095   \n",
       "\n",
       "       TechSupport StreamingTV StreamingMovies  \n",
       "count         5517        5517            5517  \n",
       "unique           2           2               2  \n",
       "top             No          No              No  \n",
       "freq          3473        2810            2785  "
      ]
     },
     "execution_count": 15,
     "metadata": {},
     "output_type": "execute_result"
    }
   ],
   "source": [
    "data_internet.describe()"
   ]
  },
  {
   "cell_type": "markdown",
   "id": "5d706a52",
   "metadata": {},
   "source": [
    "Пропусков, подозрительных значений нет. Все признаки - категориальные."
   ]
  },
  {
   "cell_type": "markdown",
   "id": "b59ce971",
   "metadata": {},
   "source": [
    "### data_phone"
   ]
  },
  {
   "cell_type": "code",
   "execution_count": 16,
   "id": "573b5769",
   "metadata": {},
   "outputs": [
    {
     "data": {
      "text/html": [
       "<div>\n",
       "<style scoped>\n",
       "    .dataframe tbody tr th:only-of-type {\n",
       "        vertical-align: middle;\n",
       "    }\n",
       "\n",
       "    .dataframe tbody tr th {\n",
       "        vertical-align: top;\n",
       "    }\n",
       "\n",
       "    .dataframe thead th {\n",
       "        text-align: right;\n",
       "    }\n",
       "</style>\n",
       "<table border=\"1\" class=\"dataframe\">\n",
       "  <thead>\n",
       "    <tr style=\"text-align: right;\">\n",
       "      <th></th>\n",
       "      <th>MultipleLines</th>\n",
       "    </tr>\n",
       "    <tr>\n",
       "      <th>customerID</th>\n",
       "      <th></th>\n",
       "    </tr>\n",
       "  </thead>\n",
       "  <tbody>\n",
       "    <tr>\n",
       "      <th>5575-GNVDE</th>\n",
       "      <td>No</td>\n",
       "    </tr>\n",
       "    <tr>\n",
       "      <th>3668-QPYBK</th>\n",
       "      <td>No</td>\n",
       "    </tr>\n",
       "    <tr>\n",
       "      <th>9237-HQITU</th>\n",
       "      <td>No</td>\n",
       "    </tr>\n",
       "    <tr>\n",
       "      <th>9305-CDSKC</th>\n",
       "      <td>Yes</td>\n",
       "    </tr>\n",
       "    <tr>\n",
       "      <th>1452-KIOVK</th>\n",
       "      <td>Yes</td>\n",
       "    </tr>\n",
       "  </tbody>\n",
       "</table>\n",
       "</div>"
      ],
      "text/plain": [
       "           MultipleLines\n",
       "customerID              \n",
       "5575-GNVDE            No\n",
       "3668-QPYBK            No\n",
       "9237-HQITU            No\n",
       "9305-CDSKC           Yes\n",
       "1452-KIOVK           Yes"
      ]
     },
     "execution_count": 16,
     "metadata": {},
     "output_type": "execute_result"
    }
   ],
   "source": [
    "data_phone.head()"
   ]
  },
  {
   "cell_type": "code",
   "execution_count": 17,
   "id": "c77b5099",
   "metadata": {},
   "outputs": [
    {
     "name": "stdout",
     "output_type": "stream",
     "text": [
      "<class 'pandas.core.frame.DataFrame'>\n",
      "Index: 6361 entries, 5575-GNVDE to 3186-AJIEK\n",
      "Data columns (total 1 columns):\n",
      " #   Column         Non-Null Count  Dtype \n",
      "---  ------         --------------  ----- \n",
      " 0   MultipleLines  6361 non-null   object\n",
      "dtypes: object(1)\n",
      "memory usage: 99.4+ KB\n"
     ]
    }
   ],
   "source": [
    "data_phone.info()"
   ]
  },
  {
   "cell_type": "code",
   "execution_count": 18,
   "id": "2e4119ec",
   "metadata": {},
   "outputs": [
    {
     "data": {
      "text/html": [
       "<div>\n",
       "<style scoped>\n",
       "    .dataframe tbody tr th:only-of-type {\n",
       "        vertical-align: middle;\n",
       "    }\n",
       "\n",
       "    .dataframe tbody tr th {\n",
       "        vertical-align: top;\n",
       "    }\n",
       "\n",
       "    .dataframe thead th {\n",
       "        text-align: right;\n",
       "    }\n",
       "</style>\n",
       "<table border=\"1\" class=\"dataframe\">\n",
       "  <thead>\n",
       "    <tr style=\"text-align: right;\">\n",
       "      <th></th>\n",
       "      <th>MultipleLines</th>\n",
       "    </tr>\n",
       "  </thead>\n",
       "  <tbody>\n",
       "    <tr>\n",
       "      <th>count</th>\n",
       "      <td>6361</td>\n",
       "    </tr>\n",
       "    <tr>\n",
       "      <th>unique</th>\n",
       "      <td>2</td>\n",
       "    </tr>\n",
       "    <tr>\n",
       "      <th>top</th>\n",
       "      <td>No</td>\n",
       "    </tr>\n",
       "    <tr>\n",
       "      <th>freq</th>\n",
       "      <td>3390</td>\n",
       "    </tr>\n",
       "  </tbody>\n",
       "</table>\n",
       "</div>"
      ],
      "text/plain": [
       "       MultipleLines\n",
       "count           6361\n",
       "unique             2\n",
       "top               No\n",
       "freq            3390"
      ]
     },
     "execution_count": 18,
     "metadata": {},
     "output_type": "execute_result"
    }
   ],
   "source": [
    "data_phone.describe()"
   ]
  },
  {
   "cell_type": "markdown",
   "id": "ad825412",
   "metadata": {},
   "source": [
    "Пропусков, подозрительных значений нет. Признак MultipleLines - категориальный."
   ]
  },
  {
   "cell_type": "markdown",
   "id": "82177cb1",
   "metadata": {},
   "source": [
    "## Исследовательский анализ\n",
    "В этом разделе:\n",
    "- проверим данные на дубликаты\n",
    "- проверим данные на пропуски. Проанализируем вариант работы с ними (замена значением, удаление и т.п)\n",
    "- поосмотрим на распределение количественных признаков\n",
    "- объединим данные по customerID\n",
    "- проработаем аномалии и выбросы"
   ]
  },
  {
   "cell_type": "code",
   "execution_count": 19,
   "id": "379d2a5c",
   "metadata": {},
   "outputs": [],
   "source": [
    "# Объявление констант дата выгрузки и random_state\n",
    "DOWNLOAD_DATE = pd.to_datetime('2020-02-01')\n",
    "RANDOM_STATE = 120922"
   ]
  },
  {
   "cell_type": "markdown",
   "id": "50f32d6f",
   "metadata": {},
   "source": [
    "### Объединение таблиц"
   ]
  },
  {
   "cell_type": "code",
   "execution_count": 20,
   "id": "6faba5af",
   "metadata": {},
   "outputs": [],
   "source": [
    "data = data_contract.join([data_internet, data_personal, data_phone], how='outer')\n",
    "data = data.reset_index(drop=True)"
   ]
  },
  {
   "cell_type": "code",
   "execution_count": 21,
   "id": "53640fc8",
   "metadata": {},
   "outputs": [
    {
     "data": {
      "text/plain": [
       "15"
      ]
     },
     "execution_count": 21,
     "metadata": {},
     "output_type": "execute_result"
    }
   ],
   "source": [
    "data.duplicated().sum()"
   ]
  },
  {
   "cell_type": "code",
   "execution_count": 22,
   "id": "f7da8baf",
   "metadata": {},
   "outputs": [
    {
     "data": {
      "text/plain": [
       "0"
      ]
     },
     "execution_count": 22,
     "metadata": {},
     "output_type": "execute_result"
    }
   ],
   "source": [
    "data = data.drop_duplicates()\n",
    "data.duplicated().sum()"
   ]
  },
  {
   "cell_type": "code",
   "execution_count": 23,
   "id": "31aa3396",
   "metadata": {},
   "outputs": [],
   "source": [
    "# Изменение типов данных признаков BeginDate, EndDate, TotalCharges\n",
    "data.BeginDate = pd.to_datetime(data.BeginDate, errors='ignore')\n",
    "data.EndDate = pd.to_datetime(data.EndDate, errors='coerce')"
   ]
  },
  {
   "cell_type": "markdown",
   "id": "369c6a4f",
   "metadata": {},
   "source": [
    "## Конструирование признаков\n",
    "В этом разделе:\n",
    "- разделим данные на train и test\n",
    "- выделим целевой признак\n",
    "- проверим признаки на мультиколлинеарность\n",
    "- произведем кодирование категориальных признаков\n",
    "- масштабирование и т.п."
   ]
  },
  {
   "cell_type": "markdown",
   "id": "dd310280",
   "metadata": {},
   "source": [
    "### Целевой признак"
   ]
  },
  {
   "cell_type": "code",
   "execution_count": 24,
   "id": "ae3d25ed",
   "metadata": {},
   "outputs": [],
   "source": [
    "data['ContractStoped'] = -(data.EndDate.isna().astype('int') - 1) "
   ]
  },
  {
   "cell_type": "code",
   "execution_count": 25,
   "id": "11ee28fc",
   "metadata": {},
   "outputs": [
    {
     "data": {
      "text/html": [
       "<div>\n",
       "<style scoped>\n",
       "    .dataframe tbody tr th:only-of-type {\n",
       "        vertical-align: middle;\n",
       "    }\n",
       "\n",
       "    .dataframe tbody tr th {\n",
       "        vertical-align: top;\n",
       "    }\n",
       "\n",
       "    .dataframe thead th {\n",
       "        text-align: right;\n",
       "    }\n",
       "</style>\n",
       "<table border=\"1\" class=\"dataframe\">\n",
       "  <thead>\n",
       "    <tr style=\"text-align: right;\">\n",
       "      <th></th>\n",
       "      <th>BeginDate</th>\n",
       "      <th>EndDate</th>\n",
       "      <th>Type</th>\n",
       "      <th>PaperlessBilling</th>\n",
       "      <th>PaymentMethod</th>\n",
       "      <th>MonthlyCharges</th>\n",
       "      <th>TotalCharges</th>\n",
       "      <th>InternetService</th>\n",
       "      <th>OnlineSecurity</th>\n",
       "      <th>OnlineBackup</th>\n",
       "      <th>DeviceProtection</th>\n",
       "      <th>TechSupport</th>\n",
       "      <th>StreamingTV</th>\n",
       "      <th>StreamingMovies</th>\n",
       "      <th>gender</th>\n",
       "      <th>SeniorCitizen</th>\n",
       "      <th>Partner</th>\n",
       "      <th>Dependents</th>\n",
       "      <th>MultipleLines</th>\n",
       "      <th>ContractStoped</th>\n",
       "    </tr>\n",
       "  </thead>\n",
       "  <tbody>\n",
       "    <tr>\n",
       "      <th>0</th>\n",
       "      <td>2020-01-01</td>\n",
       "      <td>NaT</td>\n",
       "      <td>Month-to-month</td>\n",
       "      <td>Yes</td>\n",
       "      <td>Electronic check</td>\n",
       "      <td>29.85</td>\n",
       "      <td>29.85</td>\n",
       "      <td>DSL</td>\n",
       "      <td>No</td>\n",
       "      <td>Yes</td>\n",
       "      <td>No</td>\n",
       "      <td>No</td>\n",
       "      <td>No</td>\n",
       "      <td>No</td>\n",
       "      <td>Female</td>\n",
       "      <td>0</td>\n",
       "      <td>Yes</td>\n",
       "      <td>No</td>\n",
       "      <td>NaN</td>\n",
       "      <td>0</td>\n",
       "    </tr>\n",
       "    <tr>\n",
       "      <th>1</th>\n",
       "      <td>2017-04-01</td>\n",
       "      <td>NaT</td>\n",
       "      <td>One year</td>\n",
       "      <td>No</td>\n",
       "      <td>Mailed check</td>\n",
       "      <td>56.95</td>\n",
       "      <td>1889.50</td>\n",
       "      <td>DSL</td>\n",
       "      <td>Yes</td>\n",
       "      <td>No</td>\n",
       "      <td>Yes</td>\n",
       "      <td>No</td>\n",
       "      <td>No</td>\n",
       "      <td>No</td>\n",
       "      <td>Male</td>\n",
       "      <td>0</td>\n",
       "      <td>No</td>\n",
       "      <td>No</td>\n",
       "      <td>No</td>\n",
       "      <td>0</td>\n",
       "    </tr>\n",
       "    <tr>\n",
       "      <th>2</th>\n",
       "      <td>2019-10-01</td>\n",
       "      <td>2019-12-01</td>\n",
       "      <td>Month-to-month</td>\n",
       "      <td>Yes</td>\n",
       "      <td>Mailed check</td>\n",
       "      <td>53.85</td>\n",
       "      <td>108.15</td>\n",
       "      <td>DSL</td>\n",
       "      <td>Yes</td>\n",
       "      <td>Yes</td>\n",
       "      <td>No</td>\n",
       "      <td>No</td>\n",
       "      <td>No</td>\n",
       "      <td>No</td>\n",
       "      <td>Male</td>\n",
       "      <td>0</td>\n",
       "      <td>No</td>\n",
       "      <td>No</td>\n",
       "      <td>No</td>\n",
       "      <td>1</td>\n",
       "    </tr>\n",
       "    <tr>\n",
       "      <th>3</th>\n",
       "      <td>2016-05-01</td>\n",
       "      <td>NaT</td>\n",
       "      <td>One year</td>\n",
       "      <td>No</td>\n",
       "      <td>Bank transfer (automatic)</td>\n",
       "      <td>42.30</td>\n",
       "      <td>1840.75</td>\n",
       "      <td>DSL</td>\n",
       "      <td>Yes</td>\n",
       "      <td>No</td>\n",
       "      <td>Yes</td>\n",
       "      <td>Yes</td>\n",
       "      <td>No</td>\n",
       "      <td>No</td>\n",
       "      <td>Male</td>\n",
       "      <td>0</td>\n",
       "      <td>No</td>\n",
       "      <td>No</td>\n",
       "      <td>NaN</td>\n",
       "      <td>0</td>\n",
       "    </tr>\n",
       "    <tr>\n",
       "      <th>4</th>\n",
       "      <td>2019-09-01</td>\n",
       "      <td>2019-11-01</td>\n",
       "      <td>Month-to-month</td>\n",
       "      <td>Yes</td>\n",
       "      <td>Electronic check</td>\n",
       "      <td>70.70</td>\n",
       "      <td>151.65</td>\n",
       "      <td>Fiber optic</td>\n",
       "      <td>No</td>\n",
       "      <td>No</td>\n",
       "      <td>No</td>\n",
       "      <td>No</td>\n",
       "      <td>No</td>\n",
       "      <td>No</td>\n",
       "      <td>Female</td>\n",
       "      <td>0</td>\n",
       "      <td>No</td>\n",
       "      <td>No</td>\n",
       "      <td>No</td>\n",
       "      <td>1</td>\n",
       "    </tr>\n",
       "  </tbody>\n",
       "</table>\n",
       "</div>"
      ],
      "text/plain": [
       "   BeginDate    EndDate            Type PaperlessBilling  \\\n",
       "0 2020-01-01        NaT  Month-to-month              Yes   \n",
       "1 2017-04-01        NaT        One year               No   \n",
       "2 2019-10-01 2019-12-01  Month-to-month              Yes   \n",
       "3 2016-05-01        NaT        One year               No   \n",
       "4 2019-09-01 2019-11-01  Month-to-month              Yes   \n",
       "\n",
       "               PaymentMethod  MonthlyCharges  TotalCharges InternetService  \\\n",
       "0           Electronic check           29.85         29.85             DSL   \n",
       "1               Mailed check           56.95       1889.50             DSL   \n",
       "2               Mailed check           53.85        108.15             DSL   \n",
       "3  Bank transfer (automatic)           42.30       1840.75             DSL   \n",
       "4           Electronic check           70.70        151.65     Fiber optic   \n",
       "\n",
       "  OnlineSecurity OnlineBackup DeviceProtection TechSupport StreamingTV  \\\n",
       "0             No          Yes               No          No          No   \n",
       "1            Yes           No              Yes          No          No   \n",
       "2            Yes          Yes               No          No          No   \n",
       "3            Yes           No              Yes         Yes          No   \n",
       "4             No           No               No          No          No   \n",
       "\n",
       "  StreamingMovies  gender SeniorCitizen Partner Dependents MultipleLines  \\\n",
       "0              No  Female             0     Yes         No           NaN   \n",
       "1              No    Male             0      No         No            No   \n",
       "2              No    Male             0      No         No            No   \n",
       "3              No    Male             0      No         No           NaN   \n",
       "4              No  Female             0      No         No            No   \n",
       "\n",
       "   ContractStoped  \n",
       "0               0  \n",
       "1               0  \n",
       "2               1  \n",
       "3               0  \n",
       "4               1  "
      ]
     },
     "execution_count": 25,
     "metadata": {},
     "output_type": "execute_result"
    }
   ],
   "source": [
    "data.head()"
   ]
  },
  {
   "cell_type": "markdown",
   "id": "5b989cb6",
   "metadata": {},
   "source": [
    "### Новый признак \"ContrackLifeTime\""
   ]
  },
  {
   "cell_type": "code",
   "execution_count": 26,
   "id": "b22f1d8e",
   "metadata": {},
   "outputs": [],
   "source": [
    "data.EndDate = data.EndDate.fillna(pd.to_datetime('2020-02-01'))\n",
    "data['ContractLifeTime'] = (data.EndDate - data.BeginDate).dt.days"
   ]
  },
  {
   "cell_type": "markdown",
   "id": "06fde95c",
   "metadata": {},
   "source": [
    "### Удалим BeginDate и EndDate"
   ]
  },
  {
   "cell_type": "code",
   "execution_count": 27,
   "id": "00080e7e",
   "metadata": {},
   "outputs": [],
   "source": [
    "data = data.drop(columns=['BeginDate', 'EndDate'])"
   ]
  },
  {
   "cell_type": "code",
   "execution_count": 28,
   "id": "c796a99a",
   "metadata": {},
   "outputs": [
    {
     "name": "stdout",
     "output_type": "stream",
     "text": [
      "<class 'pandas.core.frame.DataFrame'>\n",
      "Int64Index: 7028 entries, 0 to 7041\n",
      "Data columns (total 19 columns):\n",
      " #   Column            Non-Null Count  Dtype  \n",
      "---  ------            --------------  -----  \n",
      " 0   Type              7019 non-null   object \n",
      " 1   PaperlessBilling  7019 non-null   object \n",
      " 2   PaymentMethod     7019 non-null   object \n",
      " 3   MonthlyCharges    7019 non-null   float64\n",
      " 4   TotalCharges      7019 non-null   float64\n",
      " 5   InternetService   5515 non-null   object \n",
      " 6   OnlineSecurity    5515 non-null   object \n",
      " 7   OnlineBackup      5515 non-null   object \n",
      " 8   DeviceProtection  5515 non-null   object \n",
      " 9   TechSupport       5515 non-null   object \n",
      " 10  StreamingTV       5515 non-null   object \n",
      " 11  StreamingMovies   5515 non-null   object \n",
      " 12  gender            7028 non-null   object \n",
      " 13  SeniorCitizen     7028 non-null   object \n",
      " 14  Partner           7028 non-null   object \n",
      " 15  Dependents        7028 non-null   object \n",
      " 16  MultipleLines     6346 non-null   object \n",
      " 17  ContractStoped    7028 non-null   int32  \n",
      " 18  ContractLifeTime  7019 non-null   float64\n",
      "dtypes: float64(3), int32(1), object(15)\n",
      "memory usage: 1.0+ MB\n"
     ]
    }
   ],
   "source": [
    "data.info()"
   ]
  },
  {
   "cell_type": "markdown",
   "id": "bcad9b87",
   "metadata": {},
   "source": [
    "Пропуски в столбце InternetService связаны с тем, что клиенты не пользуются интернетом. То же самое можно сказать для столбца MultipleLines. Пропуски в остальных столбцах, вероятно, должны быть \"No\", но не были заполнены. "
   ]
  },
  {
   "cell_type": "code",
   "execution_count": 29,
   "id": "38886a6e",
   "metadata": {},
   "outputs": [
    {
     "name": "stdout",
     "output_type": "stream",
     "text": [
      "<class 'pandas.core.frame.DataFrame'>\n",
      "Int64Index: 7019 entries, 0 to 7031\n",
      "Data columns (total 19 columns):\n",
      " #   Column            Non-Null Count  Dtype  \n",
      "---  ------            --------------  -----  \n",
      " 0   Type              7019 non-null   object \n",
      " 1   PaperlessBilling  7019 non-null   object \n",
      " 2   PaymentMethod     7019 non-null   object \n",
      " 3   MonthlyCharges    7019 non-null   float64\n",
      " 4   TotalCharges      7019 non-null   float64\n",
      " 5   InternetService   7019 non-null   object \n",
      " 6   OnlineSecurity    7019 non-null   object \n",
      " 7   OnlineBackup      7019 non-null   object \n",
      " 8   DeviceProtection  7019 non-null   object \n",
      " 9   TechSupport       7019 non-null   object \n",
      " 10  StreamingTV       7019 non-null   object \n",
      " 11  StreamingMovies   7019 non-null   object \n",
      " 12  gender            7019 non-null   object \n",
      " 13  SeniorCitizen     7019 non-null   int64  \n",
      " 14  Partner           7019 non-null   object \n",
      " 15  Dependents        7019 non-null   object \n",
      " 16  MultipleLines     7019 non-null   object \n",
      " 17  ContractStoped    7019 non-null   int32  \n",
      " 18  ContractLifeTime  7019 non-null   float64\n",
      "dtypes: float64(3), int32(1), int64(1), object(14)\n",
      "memory usage: 1.0+ MB\n"
     ]
    }
   ],
   "source": [
    "#Удалим записи с пропусками в ContractLifeTime и заполним пропуски \"No\"\n",
    "data = data.dropna(subset=['ContractLifeTime'])\n",
    "data = data.fillna('No')\n",
    "data.info()"
   ]
  },
  {
   "cell_type": "code",
   "execution_count": 30,
   "id": "7c2237f1",
   "metadata": {},
   "outputs": [
    {
     "name": "stdout",
     "output_type": "stream",
     "text": [
      "<class 'pandas.core.frame.DataFrame'>\n",
      "Int64Index: 7019 entries, 0 to 7031\n",
      "Data columns (total 19 columns):\n",
      " #   Column            Non-Null Count  Dtype  \n",
      "---  ------            --------------  -----  \n",
      " 0   Type              7019 non-null   object \n",
      " 1   PaperlessBilling  7019 non-null   object \n",
      " 2   PaymentMethod     7019 non-null   object \n",
      " 3   MonthlyCharges    7019 non-null   float64\n",
      " 4   TotalCharges      7019 non-null   float64\n",
      " 5   InternetService   7019 non-null   object \n",
      " 6   OnlineSecurity    7019 non-null   object \n",
      " 7   OnlineBackup      7019 non-null   object \n",
      " 8   DeviceProtection  7019 non-null   object \n",
      " 9   TechSupport       7019 non-null   object \n",
      " 10  StreamingTV       7019 non-null   object \n",
      " 11  StreamingMovies   7019 non-null   object \n",
      " 12  gender            7019 non-null   object \n",
      " 13  SeniorCitizen     7019 non-null   int64  \n",
      " 14  Partner           7019 non-null   object \n",
      " 15  Dependents        7019 non-null   object \n",
      " 16  MultipleLines     7019 non-null   object \n",
      " 17  ContractStoped    7019 non-null   int32  \n",
      " 18  ContractLifeTime  7019 non-null   float64\n",
      "dtypes: float64(3), int32(1), int64(1), object(14)\n",
      "memory usage: 1.0+ MB\n"
     ]
    }
   ],
   "source": [
    "data.info()"
   ]
  },
  {
   "cell_type": "markdown",
   "id": "b4931531",
   "metadata": {},
   "source": [
    "### Распределения числовых признаков"
   ]
  },
  {
   "cell_type": "code",
   "execution_count": 31,
   "id": "e48b2ba6",
   "metadata": {},
   "outputs": [
    {
     "data": {
      "image/png": "[encoded data removed]",
      "text/plain": [
       "<Figure size 1080x360 with 3 Axes>"
      ]
     },
     "metadata": {
      "needs_background": "light"
     },
     "output_type": "display_data"
    }
   ],
   "source": [
    "fig, (ax1, ax2, ax3) = plt.subplots(1, 3, figsize=(15, 5))\n",
    "fig.suptitle('Распределение числовых признаков', fontsize=20)\n",
    "sns.histplot(data=data, x='MonthlyCharges', ax=ax1, color='blue')\n",
    "sns.histplot(data=data, x='TotalCharges', ax=ax2, color='green')\n",
    "sns.histplot(data=data, x='ContractLifeTime', ax=ax3, color='red')\n",
    "ax1.set_xlabel('Месячные траты', fontsize=13)\n",
    "ax2.set_xlabel('Годовые траты', fontsize=13)\n",
    "ax3.set_xlabel('Длительность контракта', fontsize=13)\n",
    "plt.show()"
   ]
  },
  {
   "cell_type": "code",
   "execution_count": 32,
   "id": "94c0a2bb",
   "metadata": {},
   "outputs": [
    {
     "data": {
      "image/png": "[encoded data removed]",
      "text/plain": [
       "<Figure size 1080x360 with 3 Axes>"
      ]
     },
     "metadata": {
      "needs_background": "light"
     },
     "output_type": "display_data"
    }
   ],
   "source": [
    "fig, (ax1, ax2, ax3) = plt.subplots(1, 3, figsize=(15, 5))\n",
    "fig.suptitle('Диаграммы размаха числовых признаков', fontsize=20)\n",
    "sns.boxplot(data=data, x='MonthlyCharges', ax=ax1, color='blue')\n",
    "sns.boxplot(data=data, x='TotalCharges', ax=ax2, color='green')\n",
    "sns.boxplot(data=data, x='ContractLifeTime', ax=ax3, color='red')\n",
    "ax1.set_xlabel('Месячные траты', fontsize=13)\n",
    "ax2.set_xlabel('Годовые траты', fontsize=13)\n",
    "ax3.set_xlabel('Длительность контракта', fontsize=13)\n",
    "plt.show()"
   ]
  },
  {
   "cell_type": "markdown",
   "id": "0778e2cc",
   "metadata": {},
   "source": [
    "<div class=\"alert alert-warning\">\n",
    "<b>⚠️ Комментарий ревьювера:</b> Хорошая визуализация данных! Было бы интересно также сравнить, как признаки распределены в двух группах — ушедшие и оставшиеся клиенты.\n",
    "    \n",
    "Можно в методе histplot добавить параметры hue = 'ContractStoped', multiple = 'stack'\n",
    "    \n",
    "https://seaborn.pydata.org/generated/seaborn.histplot.html\n",
    "    \n",
    "Таким же образом можно посмотреть и для остальных признаков, или написать цикл, чтобы пройтись по всем признакам.\n",
    "    \n",
    "</div>"
   ]
  },
  {
   "cell_type": "markdown",
   "id": "635441c4",
   "metadata": {},
   "source": [
    "### Распределение признаков по группам: ушедшие/оставшиеся клинеты"
   ]
  },
  {
   "cell_type": "code",
   "execution_count": 33,
   "id": "cccb9e8f",
   "metadata": {},
   "outputs": [
    {
     "data": {
      "image/png": "[encoded data removed]",
      "text/plain": [
       "<Figure size 1440x720 with 8 Axes>"
      ]
     },
     "metadata": {
      "needs_background": "light"
     },
     "output_type": "display_data"
    }
   ],
   "source": [
    "fig, ((ax1, ax2, ax3, ax4), (ax5, ax6, ax7, ax8)) = plt.subplots(2, 4, figsize=(20, 10))\n",
    "fig.suptitle('Распределение признаков по группам: ушедшие/оставшиеся клинеты', fontsize=20)\n",
    "sns.histplot(data=data, x='Type', hue='ContractStoped', multiple='stack', ax=ax1)\n",
    "sns.histplot(data=data, x='InternetService', hue='ContractStoped', multiple='stack', ax=ax2)\n",
    "sns.histplot(data=data, x='MultipleLines', hue='ContractStoped', multiple='stack', ax=ax3)\n",
    "sns.histplot(data=data, x='PaperlessBilling', hue='ContractStoped', multiple='stack', ax=ax4)\n",
    "sns.histplot(data=data, x='PaymentMethod', hue='ContractStoped', multiple='stack', ax=ax5)\n",
    "sns.histplot(data=data, x='OnlineSecurity', hue='ContractStoped', multiple='stack', ax=ax6)\n",
    "sns.histplot(data=data, x='StreamingTV', hue='ContractStoped', multiple='stack', ax=ax7)\n",
    "sns.histplot(data=data, x='StreamingMovies', hue='ContractStoped', multiple='stack', ax=ax8)\n",
    "ax1.set_xlabel('Тип оплаты', fontsize=13)\n",
    "ax2.set_xlabel('Сервис: интернет', fontsize=13)\n",
    "ax3.set_xlabel('Многокональная линия', fontsize=13)\n",
    "ax4.set_xlabel('Безначичный рассчет', fontsize=13)\n",
    "ax5.set_xlabel('Метод оплаты', fontsize=13)\n",
    "ax6.set_xlabel('Сервис: Online безопасность', fontsize=13)\n",
    "ax7.set_xlabel('Сервис: StreamTV', fontsize=13)\n",
    "ax8.set_xlabel('Сервис: StreamMovies', fontsize=13)\n",
    "plt.show()"
   ]
  },
  {
   "cell_type": "markdown",
   "id": "e4a31e76",
   "metadata": {},
   "source": [
    "Из графиков можно заключить, что ушедшие клиенты в основном:\n",
    "- оплачивали договор помесячно\n",
    "- пользовались оптиволокном\n",
    "- использовали безналичный расчет\n",
    "- использовали электронный чек\n",
    "- не использовали OnlineSecurity"
   ]
  },
  {
   "cell_type": "markdown",
   "id": "ba4f99cd",
   "metadata": {},
   "source": [
    "### Матрица корреляции"
   ]
  },
  {
   "cell_type": "code",
   "execution_count": 34,
   "id": "d0c37cea",
   "metadata": {},
   "outputs": [
    {
     "data": {
      "image/png": "[encoded data removed]",
      "text/plain": [
       "<Figure size 432x288 with 2 Axes>"
      ]
     },
     "metadata": {
      "needs_background": "light"
     },
     "output_type": "display_data"
    }
   ],
   "source": [
    "sns.heatmap(data.corr(), annot=True);"
   ]
  },
  {
   "cell_type": "code",
   "execution_count": 35,
   "id": "9b3be8c6",
   "metadata": {},
   "outputs": [
    {
     "name": "stdout",
     "output_type": "stream",
     "text": [
      "interval columns not set, guessing: ['MonthlyCharges', 'TotalCharges', 'SeniorCitizen', 'ContractStoped', 'ContractLifeTime']\n"
     ]
    },
    {
     "data": {
      "image/png": "[encoded data removed]",
      "text/plain": [
       "<Figure size 1080x720 with 2 Axes>"
      ]
     },
     "metadata": {
      "needs_background": "light"
     },
     "output_type": "display_data"
    }
   ],
   "source": [
    "phik_overview = data.phik_matrix()\n",
    "phik_overview = phik_overview.round(2)\n",
    "plt.figure(figsize=(15,10))\n",
    "sns.heatmap(phik_overview, annot=True)\n",
    "plt.show()"
   ]
  },
  {
   "cell_type": "markdown",
   "id": "fed76641",
   "metadata": {},
   "source": [
    "Избавимся от мультиколлениарности. Удолим признаки:\n",
    "- InternetService - имеет сильную корреляцию с MonthlyCharges\n",
    "- StreamingTV - имеет сильную корреляцию с MonthlyCharges\n",
    "- StreamingMovies - имеет сильную корреляцию с MonthlyCharges\n",
    "- TotalCharges - имеет сильную корреляцию с ContractLifeTime"
   ]
  },
  {
   "cell_type": "code",
   "execution_count": 36,
   "id": "e5096e9a",
   "metadata": {},
   "outputs": [],
   "source": [
    "data = data.drop(columns=['InternetService', 'TotalCharges', 'StreamingTV', 'StreamingMovies'])"
   ]
  },
  {
   "cell_type": "code",
   "execution_count": 37,
   "id": "2f1631a1",
   "metadata": {},
   "outputs": [
    {
     "name": "stdout",
     "output_type": "stream",
     "text": [
      "<class 'pandas.core.frame.DataFrame'>\n",
      "Int64Index: 7019 entries, 0 to 7031\n",
      "Data columns (total 15 columns):\n",
      " #   Column            Non-Null Count  Dtype  \n",
      "---  ------            --------------  -----  \n",
      " 0   Type              7019 non-null   object \n",
      " 1   PaperlessBilling  7019 non-null   object \n",
      " 2   PaymentMethod     7019 non-null   object \n",
      " 3   MonthlyCharges    7019 non-null   float64\n",
      " 4   OnlineSecurity    7019 non-null   object \n",
      " 5   OnlineBackup      7019 non-null   object \n",
      " 6   DeviceProtection  7019 non-null   object \n",
      " 7   TechSupport       7019 non-null   object \n",
      " 8   gender            7019 non-null   object \n",
      " 9   SeniorCitizen     7019 non-null   int64  \n",
      " 10  Partner           7019 non-null   object \n",
      " 11  Dependents        7019 non-null   object \n",
      " 12  MultipleLines     7019 non-null   object \n",
      " 13  ContractStoped    7019 non-null   int32  \n",
      " 14  ContractLifeTime  7019 non-null   float64\n",
      "dtypes: float64(2), int32(1), int64(1), object(11)\n",
      "memory usage: 850.0+ KB\n"
     ]
    }
   ],
   "source": [
    "data.info()"
   ]
  },
  {
   "cell_type": "markdown",
   "id": "9b7e0757",
   "metadata": {},
   "source": [
    "### Разделение на train и test. Кодирование категориальных признаков"
   ]
  },
  {
   "cell_type": "code",
   "execution_count": 38,
   "id": "52d11d36",
   "metadata": {},
   "outputs": [],
   "source": [
    "CATS = ['Type', 'PaperlessBilling', 'PaymentMethod', 'OnlineSecurity', 'OnlineBackup', 'DeviceProtection',\n",
    "       'TechSupport', 'gender', 'Partner', 'Dependents', 'MultipleLines']"
   ]
  },
  {
   "cell_type": "code",
   "execution_count": 39,
   "id": "9bc1077f",
   "metadata": {},
   "outputs": [],
   "source": [
    "features = data.drop(columns='ContractStoped') \n",
    "target = data['ContractStoped']\n",
    "train, test = train_test_split(data, test_size=0.25, random_state=RANDOM_STATE)"
   ]
  },
  {
   "cell_type": "code",
   "execution_count": 40,
   "id": "02e2fe87",
   "metadata": {},
   "outputs": [
    {
     "name": "stdout",
     "output_type": "stream",
     "text": [
      "(5264, 15)\n",
      "(1755, 15)\n"
     ]
    }
   ],
   "source": [
    "print(train.shape)\n",
    "print(test.shape)"
   ]
  },
  {
   "cell_type": "code",
   "execution_count": 41,
   "id": "f70aa8a2",
   "metadata": {},
   "outputs": [],
   "source": [
    "# Кодирование категориальных признаков с помощью get_dummies\n",
    "train = pd.get_dummies(train, columns=CATS, drop_first=True)\n",
    "test = pd.get_dummies(test, columns=CATS, drop_first=True)"
   ]
  },
  {
   "cell_type": "code",
   "execution_count": 42,
   "id": "f2501ef1",
   "metadata": {},
   "outputs": [
    {
     "name": "stdout",
     "output_type": "stream",
     "text": [
      "(5264, 18)\n",
      "(1755, 18)\n"
     ]
    }
   ],
   "source": [
    "print(train.shape)\n",
    "print(test.shape)"
   ]
  },
  {
   "cell_type": "code",
   "execution_count": 43,
   "id": "722715c8",
   "metadata": {},
   "outputs": [],
   "source": [
    "features_train = train.drop(columns='ContractStoped')\n",
    "target_train = train['ContractStoped']\n",
    "features_test = test.drop(columns='ContractStoped')\n",
    "target_test = test['ContractStoped']"
   ]
  },
  {
   "cell_type": "code",
   "execution_count": 44,
   "id": "0e056203",
   "metadata": {},
   "outputs": [
    {
     "name": "stdout",
     "output_type": "stream",
     "text": [
      "(5264, 17)\n",
      "(1755, 17)\n",
      "(5264,)\n",
      "(1755,)\n"
     ]
    }
   ],
   "source": [
    "print(features_train.shape)\n",
    "print(features_test.shape)\n",
    "print(target_train.shape)\n",
    "print(target_test.shape)"
   ]
  },
  {
   "cell_type": "markdown",
   "id": "24c9ea62",
   "metadata": {},
   "source": [
    "### Проверка идентичности признаков "
   ]
  },
  {
   "cell_type": "code",
   "execution_count": 45,
   "id": "6dd8385e",
   "metadata": {},
   "outputs": [
    {
     "data": {
      "text/plain": [
       "Index(['MonthlyCharges', 'SeniorCitizen', 'ContractLifeTime', 'Type_One year',\n",
       "       'Type_Two year', 'PaperlessBilling_Yes',\n",
       "       'PaymentMethod_Credit card (automatic)',\n",
       "       'PaymentMethod_Electronic check', 'PaymentMethod_Mailed check',\n",
       "       'OnlineSecurity_Yes', 'OnlineBackup_Yes', 'DeviceProtection_Yes',\n",
       "       'TechSupport_Yes', 'gender_Male', 'Partner_Yes', 'Dependents_Yes',\n",
       "       'MultipleLines_Yes'],\n",
       "      dtype='object')"
      ]
     },
     "execution_count": 45,
     "metadata": {},
     "output_type": "execute_result"
    }
   ],
   "source": [
    "features_train.columns"
   ]
  },
  {
   "cell_type": "code",
   "execution_count": 46,
   "id": "6aafceae",
   "metadata": {},
   "outputs": [
    {
     "data": {
      "text/plain": [
       "Index(['MonthlyCharges', 'SeniorCitizen', 'ContractLifeTime', 'Type_One year',\n",
       "       'Type_Two year', 'PaperlessBilling_Yes',\n",
       "       'PaymentMethod_Credit card (automatic)',\n",
       "       'PaymentMethod_Electronic check', 'PaymentMethod_Mailed check',\n",
       "       'OnlineSecurity_Yes', 'OnlineBackup_Yes', 'DeviceProtection_Yes',\n",
       "       'TechSupport_Yes', 'gender_Male', 'Partner_Yes', 'Dependents_Yes',\n",
       "       'MultipleLines_Yes'],\n",
       "      dtype='object')"
      ]
     },
     "execution_count": 46,
     "metadata": {},
     "output_type": "execute_result"
    }
   ],
   "source": [
    "features_test.columns"
   ]
  },
  {
   "cell_type": "markdown",
   "id": "fd889f0f",
   "metadata": {},
   "source": [
    "Наименование и порядок новых признаков совпадают"
   ]
  },
  {
   "cell_type": "markdown",
   "id": "18e98f64",
   "metadata": {},
   "source": [
    "## Подбор гиперпараметров. Выбор лучшей модели. \n",
    "В этом разделе:\n",
    "- произведем подбор гиперпараметров нескольких моделей с помощью кросс-валидации\n",
    "- выберем модель, чьи показатели ROC-AUC лучше остальных на train-выборке\n",
    "- проверим модель на test-выборке"
   ]
  },
  {
   "cell_type": "markdown",
   "id": "26bdeb4e",
   "metadata": {},
   "source": [
    "### LogisticRegression"
   ]
  },
  {
   "cell_type": "code",
   "execution_count": 99,
   "id": "7af88246",
   "metadata": {},
   "outputs": [],
   "source": [
    "# Стандартизация данных для линейной модели\n",
    "scaler = StandardScaler()\n",
    "scaler.fit(features_train)\n",
    "logreg_features_train = scaler.transform(features_train)\n",
    "logreg_features_test = scaler.transform(features_test)"
   ]
  },
  {
   "cell_type": "code",
   "execution_count": 100,
   "id": "5e042521",
   "metadata": {},
   "outputs": [],
   "source": [
    "logreg_features_train = pd.DataFrame(logreg_features_train)\n",
    "logreg_features_test = pd.DataFrame(logreg_features_test)"
   ]
  },
  {
   "cell_type": "code",
   "execution_count": 101,
   "id": "a8dc7330",
   "metadata": {},
   "outputs": [
    {
     "data": {
      "text/html": [
       "<div>\n",
       "<style scoped>\n",
       "    .dataframe tbody tr th:only-of-type {\n",
       "        vertical-align: middle;\n",
       "    }\n",
       "\n",
       "    .dataframe tbody tr th {\n",
       "        vertical-align: top;\n",
       "    }\n",
       "\n",
       "    .dataframe thead th {\n",
       "        text-align: right;\n",
       "    }\n",
       "</style>\n",
       "<table border=\"1\" class=\"dataframe\">\n",
       "  <thead>\n",
       "    <tr style=\"text-align: right;\">\n",
       "      <th></th>\n",
       "      <th>0</th>\n",
       "      <th>1</th>\n",
       "      <th>2</th>\n",
       "      <th>3</th>\n",
       "      <th>4</th>\n",
       "      <th>5</th>\n",
       "      <th>6</th>\n",
       "      <th>7</th>\n",
       "      <th>8</th>\n",
       "      <th>9</th>\n",
       "      <th>10</th>\n",
       "      <th>11</th>\n",
       "      <th>12</th>\n",
       "      <th>13</th>\n",
       "      <th>14</th>\n",
       "      <th>15</th>\n",
       "      <th>16</th>\n",
       "    </tr>\n",
       "  </thead>\n",
       "  <tbody>\n",
       "    <tr>\n",
       "      <th>0</th>\n",
       "      <td>0.545758</td>\n",
       "      <td>2.291677</td>\n",
       "      <td>-0.642007</td>\n",
       "      <td>-0.513974</td>\n",
       "      <td>-0.566235</td>\n",
       "      <td>-1.205378</td>\n",
       "      <td>-0.521644</td>\n",
       "      <td>-0.718421</td>\n",
       "      <td>-0.538405</td>\n",
       "      <td>-0.63069</td>\n",
       "      <td>-0.733677</td>\n",
       "      <td>-0.733677</td>\n",
       "      <td>-0.639231</td>\n",
       "      <td>0.996586</td>\n",
       "      <td>1.031656</td>\n",
       "      <td>-0.654002</td>\n",
       "      <td>-0.863676</td>\n",
       "    </tr>\n",
       "    <tr>\n",
       "      <th>1</th>\n",
       "      <td>-1.505878</td>\n",
       "      <td>-0.436362</td>\n",
       "      <td>-0.234573</td>\n",
       "      <td>-0.513974</td>\n",
       "      <td>1.766051</td>\n",
       "      <td>-1.205378</td>\n",
       "      <td>1.917017</td>\n",
       "      <td>-0.718421</td>\n",
       "      <td>-0.538405</td>\n",
       "      <td>-0.63069</td>\n",
       "      <td>-0.733677</td>\n",
       "      <td>-0.733677</td>\n",
       "      <td>-0.639231</td>\n",
       "      <td>0.996586</td>\n",
       "      <td>-0.969316</td>\n",
       "      <td>1.529047</td>\n",
       "      <td>-0.863676</td>\n",
       "    </tr>\n",
       "    <tr>\n",
       "      <th>2</th>\n",
       "      <td>1.138342</td>\n",
       "      <td>-0.436362</td>\n",
       "      <td>1.480939</td>\n",
       "      <td>-0.513974</td>\n",
       "      <td>1.766051</td>\n",
       "      <td>0.829615</td>\n",
       "      <td>-0.521644</td>\n",
       "      <td>1.391941</td>\n",
       "      <td>-0.538405</td>\n",
       "      <td>-0.63069</td>\n",
       "      <td>-0.733677</td>\n",
       "      <td>-0.733677</td>\n",
       "      <td>1.564379</td>\n",
       "      <td>0.996586</td>\n",
       "      <td>1.031656</td>\n",
       "      <td>1.529047</td>\n",
       "      <td>1.157841</td>\n",
       "    </tr>\n",
       "    <tr>\n",
       "      <th>3</th>\n",
       "      <td>0.935835</td>\n",
       "      <td>-0.436362</td>\n",
       "      <td>1.562694</td>\n",
       "      <td>-0.513974</td>\n",
       "      <td>-0.566235</td>\n",
       "      <td>0.829615</td>\n",
       "      <td>-0.521644</td>\n",
       "      <td>-0.718421</td>\n",
       "      <td>-0.538405</td>\n",
       "      <td>-0.63069</td>\n",
       "      <td>1.362998</td>\n",
       "      <td>1.362998</td>\n",
       "      <td>-0.639231</td>\n",
       "      <td>0.996586</td>\n",
       "      <td>1.031656</td>\n",
       "      <td>-0.654002</td>\n",
       "      <td>1.157841</td>\n",
       "    </tr>\n",
       "    <tr>\n",
       "      <th>4</th>\n",
       "      <td>-1.512517</td>\n",
       "      <td>-0.436362</td>\n",
       "      <td>-0.763970</td>\n",
       "      <td>1.945624</td>\n",
       "      <td>-0.566235</td>\n",
       "      <td>0.829615</td>\n",
       "      <td>-0.521644</td>\n",
       "      <td>-0.718421</td>\n",
       "      <td>1.857338</td>\n",
       "      <td>-0.63069</td>\n",
       "      <td>-0.733677</td>\n",
       "      <td>-0.733677</td>\n",
       "      <td>-0.639231</td>\n",
       "      <td>-1.003425</td>\n",
       "      <td>1.031656</td>\n",
       "      <td>1.529047</td>\n",
       "      <td>-0.863676</td>\n",
       "    </tr>\n",
       "  </tbody>\n",
       "</table>\n",
       "</div>"
      ],
      "text/plain": [
       "         0         1         2         3         4         5         6   \\\n",
       "0  0.545758  2.291677 -0.642007 -0.513974 -0.566235 -1.205378 -0.521644   \n",
       "1 -1.505878 -0.436362 -0.234573 -0.513974  1.766051 -1.205378  1.917017   \n",
       "2  1.138342 -0.436362  1.480939 -0.513974  1.766051  0.829615 -0.521644   \n",
       "3  0.935835 -0.436362  1.562694 -0.513974 -0.566235  0.829615 -0.521644   \n",
       "4 -1.512517 -0.436362 -0.763970  1.945624 -0.566235  0.829615 -0.521644   \n",
       "\n",
       "         7         8        9         10        11        12        13  \\\n",
       "0 -0.718421 -0.538405 -0.63069 -0.733677 -0.733677 -0.639231  0.996586   \n",
       "1 -0.718421 -0.538405 -0.63069 -0.733677 -0.733677 -0.639231  0.996586   \n",
       "2  1.391941 -0.538405 -0.63069 -0.733677 -0.733677  1.564379  0.996586   \n",
       "3 -0.718421 -0.538405 -0.63069  1.362998  1.362998 -0.639231  0.996586   \n",
       "4 -0.718421  1.857338 -0.63069 -0.733677 -0.733677 -0.639231 -1.003425   \n",
       "\n",
       "         14        15        16  \n",
       "0  1.031656 -0.654002 -0.863676  \n",
       "1 -0.969316  1.529047 -0.863676  \n",
       "2  1.031656  1.529047  1.157841  \n",
       "3  1.031656 -0.654002  1.157841  \n",
       "4  1.031656  1.529047 -0.863676  "
      ]
     },
     "execution_count": 101,
     "metadata": {},
     "output_type": "execute_result"
    }
   ],
   "source": [
    "logreg_features_train.head()"
   ]
  },
  {
   "cell_type": "code",
   "execution_count": 102,
   "id": "7bd06707",
   "metadata": {},
   "outputs": [
    {
     "name": "stdout",
     "output_type": "stream",
     "text": [
      "LogisticRegression(C=1.4, class_weight='balanced', max_iter=500,\n",
      "                   random_state=120922)\n",
      "0.8414199884213028\n"
     ]
    }
   ],
   "source": [
    "solver = ['newton-cg', 'lbfgs', 'liblinear']\n",
    "C = [x/10 for x in range(10, 20, 2)]\n",
    "max_iter = [x for x in range(500, 1000, 100)]\n",
    "hyperparameter_grid = {'solver': solver,\n",
    "    'C': C,\n",
    "   'max_iter': max_iter,\n",
    "    }\n",
    "\n",
    "model = LogisticRegression(random_state = RANDOM_STATE, class_weight='balanced')\n",
    "random_cv = GridSearchCV(estimator=model,\n",
    "    param_grid=hyperparameter_grid,\n",
    "    scoring = 'roc_auc',                           \n",
    "    cv=5)\n",
    "random_cv.fit(logreg_features_train, target_train)\n",
    "best_LogReg = random_cv.best_estimator_\n",
    "print(best_LogReg)\n",
    "print(random_cv.best_score_)"
   ]
  },
  {
   "cell_type": "markdown",
   "id": "c671c444",
   "metadata": {},
   "source": [
    "### RandomForest"
   ]
  },
  {
   "cell_type": "code",
   "execution_count": 103,
   "id": "63cbdf36",
   "metadata": {
    "scrolled": true
   },
   "outputs": [
    {
     "name": "stdout",
     "output_type": "stream",
     "text": [
      "RandomForestClassifier(class_weight='balanced', criterion='entropy',\n",
      "                       max_depth=8, n_estimators=1000, random_state=120922)\n",
      "0.8596429283505191\n"
     ]
    }
   ],
   "source": [
    "criterion = ['gini', 'entropy']\n",
    "n_estimators = [x for x in range(900, 1001, 100)]\n",
    "max_depth = [x for x in range(5, 10)]\n",
    "hyperparameter_grid = {'criterion': criterion,\n",
    "    'n_estimators': n_estimators,\n",
    "    'max_depth': max_depth\n",
    "                      }\n",
    "\n",
    "model = RandomForestClassifier(random_state = RANDOM_STATE, class_weight='balanced')\n",
    "random_cv = GridSearchCV(estimator=model,\n",
    "    param_grid=hyperparameter_grid,\n",
    "    scoring = 'roc_auc',                           \n",
    "    cv=5)\n",
    "random_cv.fit(features_train, target_train)\n",
    "best_random_forest = random_cv.best_estimator_\n",
    "print(best_random_forest)\n",
    "print(random_cv.best_score_)"
   ]
  },
  {
   "cell_type": "markdown",
   "id": "1388c17f",
   "metadata": {},
   "source": [
    "### CatBoostClassifier"
   ]
  },
  {
   "cell_type": "code",
   "execution_count": 49,
   "id": "63fb7526",
   "metadata": {},
   "outputs": [
    {
     "data": {
      "application/vnd.jupyter.widget-view+json": {
       "model_id": "613471d5236a4306917680be39b7e34f",
       "version_major": 2,
       "version_minor": 0
      },
      "text/plain": [
       "MetricVisualizer(layout=Layout(align_self='stretch', height='500px'))"
      ]
     },
     "metadata": {},
     "output_type": "display_data"
    },
    {
     "name": "stdout",
     "output_type": "stream",
     "text": [
      "{'depth': 5, 'iterations': 200, 'learning_rate': 0.6}\n",
      "Лучшая метрика при обучении кроссвалидацией: 0.9090330926845553\n"
     ]
    }
   ],
   "source": [
    "iterations = [x for x in range(200, 300, 100)]\n",
    "learning_rate = [x/10 for x in range(10, 5, -2)]\n",
    "depth = [x for x in range(5, 10)]\n",
    "hyperparameter_grid = {'iterations': iterations,\n",
    "    'learning_rate': learning_rate,\n",
    "    'depth': depth\n",
    "                      }\n",
    "\n",
    "model = CatBoostClassifier(random_state = RANDOM_STATE, verbose=False)\n",
    "random_cv = GridSearchCV(estimator=model,\n",
    "    param_grid=hyperparameter_grid,\n",
    "    scoring = 'roc_auc',                           \n",
    "    cv=5)\n",
    "random_cv.fit(features_train, target_train)\n",
    "best_cat_boost = random_cv.best_estimator_\n",
    "best_cat_boost.fit(features_train, target_train, plot=True)\n",
    "print(random_cv.best_params_)\n",
    "print(f'Лучшая метрика при обучении кроссвалидацией: {random_cv.best_score_}')"
   ]
  },
  {
   "cell_type": "markdown",
   "id": "77974636",
   "metadata": {},
   "source": [
    "### Выбор модели\n",
    "При подборе гипперпараметрров лучший результат у CatBoost. Проверем ее на test-выборке"
   ]
  },
  {
   "cell_type": "code",
   "execution_count": 105,
   "id": "b54240b8",
   "metadata": {
    "scrolled": true
   },
   "outputs": [
    {
     "name": "stdout",
     "output_type": "stream",
     "text": [
      "Значение roc-auc на test-выборке для CatBoost: 0.9085313950549962\n"
     ]
    }
   ],
   "source": [
    "predictions = best_cat_boost.predict_proba(features_test)[:,1]\n",
    "roc_auc=roc_auc_score(target_test, predictions)\n",
    "print(f'Значение roc-auc на test-выборке для CatBoost: {roc_auc}')"
   ]
  },
  {
   "cell_type": "markdown",
   "id": "af1f4e16",
   "metadata": {},
   "source": [
    "#### кривая roc-auc"
   ]
  },
  {
   "cell_type": "code",
   "execution_count": 106,
   "id": "dc015e81",
   "metadata": {},
   "outputs": [
    {
     "data": {
      "image/png": "[encoded data removed]",
      "text/plain": [
       "<Figure size 720x576 with 1 Axes>"
      ]
     },
     "metadata": {},
     "output_type": "display_data"
    }
   ],
   "source": [
    "sns.set(font_scale=1.5)\n",
    "sns.set_color_codes(\"muted\")\n",
    "\n",
    "plt.figure(figsize=(10, 8))\n",
    "fpr, tpr, thresholds = roc_curve(target_test, predictions, pos_label=1)\n",
    "lw = 2\n",
    "plt.plot(fpr, tpr, lw=lw, label='ROC curve ')\n",
    "plt.plot([0, 1], [0, 1])\n",
    "plt.xlim([0.0, 1.0])\n",
    "plt.ylim([0.0, 1.05])\n",
    "plt.xlabel('False Positive Rate')\n",
    "plt.ylabel('True Positive Rate')\n",
    "plt.title('ROC curve')\n",
    "plt.savefig(\"ROC.png\")\n",
    "plt.show()"
   ]
  },
  {
   "cell_type": "markdown",
   "id": "4895285a",
   "metadata": {},
   "source": [
    "### Вывод\n",
    "Модель логистической регрессии переобучилась и показала невысокий результат на test-выборке.\n",
    "Модель CatBoostClassifier показала хороший результат на test-выборке - 0.9085313950549962."
   ]
  },
  {
   "cell_type": "markdown",
   "id": "ba9f5ab8",
   "metadata": {},
   "source": [
    "## Отчет\n",
    "В этом разделе:\n",
    "- перечислим основные этапы работы и что было сделано\n",
    "- результат работы лучшей модели на test-выборке"
   ]
  },
  {
   "cell_type": "markdown",
   "id": "d460f411",
   "metadata": {},
   "source": [
    "В работе были проведены\n",
    "1. разведовательный анализ\n",
    "    - изучены типы данных, максимальные, минимальные, медианные значения\n",
    "    - столбцы с датами приведены к соответствующему типу\n",
    "2. исследовательский анализ\n",
    "    - объеденены таблицы по customerID методом outer. Таким образом мы не потеряли клиентов, пользующихся интернетом, но не пользующихся телефонной связью и наоборот.\n",
    "    - методом drop_duplicates() удалены дубликаты\n",
    "3. конструирование признаков\n",
    "    - выделен целевой признак \"ContractStoped\". Если имелась запись в столбце EndDate, то клиент \"ушел\", если нет - клиент пользуется услугами на момент выгрузки данных\n",
    "    - создан новый признак \"ContractLifeTime\" - разность между EndDate и BeginDate. Если EndDate не был заполнен, то принимали дату выгрузки данных 2020-02-01\n",
    "    - удолили признаки BeginDate и EndDate, т.к. они не представляли интереса для обучения модели\n",
    "    - заполнили пропуски значением \"No\", т.к. пропущенные значения сведетельствуют о том, что клиент не пользовался той или иной услугой\n",
    "    - посмотрели на распределения числовых признаков. Среднее значение месячных трат ~70, годовых ~1800, длительности контракта ~900 дней\n",
    "    - построили гистограммы распредления категориальных признаков по целевому признаку:\n",
    "        - оплачивали договор помесячно\n",
    "        - пользовались оптиволокном\n",
    "        - использовали безналичный расчет\n",
    "        - использовали электронный чек\n",
    "        - не использовали OnlineSecurity\n",
    "    - построили матрицу корреляции числовых и категориальных признаков с целью выявления мультиколлинеарности. Были удалены признаки: 'InternetService', 'TotalCharges', 'StreamingTV', 'StreamingMovies'\n",
    "    - разделили данные на train и test выборки в соотношении 3:1\n",
    "    - закодировали категориальные признаки методом get_dummies()\n",
    "4. подбор гиперпараметров и выбор лучшей модели. Было обучено 3 модели: LogisticRegression, RandomForest, CatBoostClassifier с помощью кроссвалидации.\n",
    "    - т.к. логистическая регрессия - линейная модель, то все признаки были отмасштабированны\n",
    "    - результаты обучения моделенй:\n",
    "        - LogisticRegression(C=1.4, class_weight='balanced', max_iter=500, random_state=120922). ROC-AUC:0.8414199884213028\n",
    "        - RandomForestClassifier(class_weight='balanced', criterion='entropy', max_depth=8, n_estimators=1000, random_state=120922). ROC-AUC:0.8596429283505191\n",
    "        - CatBoostClassifier('depth': 5, 'iterations': 200, 'learning_rate': 0.6). ROC-AUC:0.9090330926845553\n",
    "    - CatBoostClassifier показал лучший результат на train выборке. ROC-AUC=0.9085313950549962 на тестовой выборке\n",
    "    - построили кривую ROC-AUC"
   ]
  },
  {
   "cell_type": "markdown",
   "id": "d8cf1b5d",
   "metadata": {},
   "source": [
    "По результатам работы можно сказать, что: \n",
    "- отклонения от намеченного плана не было\n",
    "- при выполнении проекта возникли трудности с кодированием OneHotEncoding(), поэтому было принято решение - использовать get_dummies() с последующей проверкой количества и порядком признаков на train и test выборках\n",
    "- ключевым шагом можно считать избавление от мультиколлинеарности, что позволило улучшить метрику ROC-AUC на test выборке\n",
    "- список признаков для обучения: 'MonthlyCharges', 'SeniorCitizen', 'ContractLifeTime', 'Type_One year', 'Type_Two year', 'PaperlessBilling_Yes', 'PaymentMethod_Credit card (automatic)', 'PaymentMethod_Electronic check', 'PaymentMethod_Mailed check', 'OnlineSecurity_Yes', 'OnlineBackup_Yes', 'DeviceProtection_Yes', 'TechSupport_Yes', 'gender_Male', 'Partner_Yes', 'Dependents_Yes', 'MultipleLines_Yes'\n",
    "- размер тестовой выборки: (1755, 17)"
   ]
  }
 ],
 "metadata": {
  "ExecuteTimeLog": [
   {
    "duration": 426,
    "start_time": "2022-09-19T09:30:50.133Z"
   },
   {
    "duration": 1692,
    "start_time": "2022-09-19T09:31:00.531Z"
   },
   {
    "duration": 376,
    "start_time": "2022-09-19T09:31:02.227Z"
   },
   {
    "duration": 13963,
    "start_time": "2022-09-19T09:31:13.834Z"
   },
   {
    "duration": 2190,
    "start_time": "2022-09-19T09:31:32.655Z"
   },
   {
    "duration": 2632,
    "start_time": "2022-09-19T09:31:46.656Z"
   },
   {
    "duration": 266,
    "start_time": "2022-09-19T09:31:50.950Z"
   },
   {
    "duration": 15,
    "start_time": "2022-09-19T09:31:51.580Z"
   },
   {
    "duration": 14,
    "start_time": "2022-09-19T09:31:51.727Z"
   },
   {
    "duration": 18,
    "start_time": "2022-09-19T09:31:51.920Z"
   },
   {
    "duration": 12,
    "start_time": "2022-09-19T09:31:52.270Z"
   },
   {
    "duration": 12,
    "start_time": "2022-09-19T09:31:52.637Z"
   },
   {
    "duration": 12,
    "start_time": "2022-09-19T09:31:52.749Z"
   },
   {
    "duration": 9,
    "start_time": "2022-09-19T09:31:53.039Z"
   },
   {
    "duration": 3,
    "start_time": "2022-09-19T09:31:53.216Z"
   },
   {
    "duration": 12,
    "start_time": "2022-09-19T09:31:53.341Z"
   },
   {
    "duration": 18,
    "start_time": "2022-09-19T09:31:53.488Z"
   },
   {
    "duration": 11,
    "start_time": "2022-09-19T09:31:54.062Z"
   },
   {
    "duration": 12,
    "start_time": "2022-09-19T09:31:54.227Z"
   },
   {
    "duration": 25,
    "start_time": "2022-09-19T09:31:54.412Z"
   },
   {
    "duration": 8,
    "start_time": "2022-09-19T09:31:54.835Z"
   },
   {
    "duration": 10,
    "start_time": "2022-09-19T09:31:55.000Z"
   },
   {
    "duration": 11,
    "start_time": "2022-09-19T09:31:55.142Z"
   },
   {
    "duration": 4,
    "start_time": "2022-09-19T09:31:56.331Z"
   },
   {
    "duration": 20,
    "start_time": "2022-09-19T09:31:57.507Z"
   },
   {
    "duration": 12,
    "start_time": "2022-09-19T09:31:58.750Z"
   },
   {
    "duration": 16,
    "start_time": "2022-09-19T09:32:03.824Z"
   },
   {
    "duration": 15,
    "start_time": "2022-09-19T09:32:07.727Z"
   },
   {
    "duration": 16,
    "start_time": "2022-09-19T09:32:35.327Z"
   },
   {
    "duration": 26,
    "start_time": "2022-09-19T09:32:35.864Z"
   },
   {
    "duration": 15,
    "start_time": "2022-09-19T09:32:36.454Z"
   },
   {
    "duration": 15,
    "start_time": "2022-09-19T09:36:26.459Z"
   },
   {
    "duration": 12,
    "start_time": "2022-09-19T09:36:26.812Z"
   },
   {
    "duration": 14,
    "start_time": "2022-09-19T09:36:27.555Z"
   },
   {
    "duration": 20,
    "start_time": "2022-09-19T09:36:30.451Z"
   },
   {
    "duration": 10,
    "start_time": "2022-09-19T09:36:31.467Z"
   },
   {
    "duration": 18,
    "start_time": "2022-09-19T09:36:38.036Z"
   },
   {
    "duration": 15,
    "start_time": "2022-09-19T09:36:38.211Z"
   },
   {
    "duration": 4,
    "start_time": "2022-09-19T09:36:48.640Z"
   },
   {
    "duration": 17,
    "start_time": "2022-09-19T09:36:48.812Z"
   },
   {
    "duration": 8,
    "start_time": "2022-09-19T09:37:02.739Z"
   },
   {
    "duration": 33,
    "start_time": "2022-09-19T09:37:07.646Z"
   },
   {
    "duration": 5,
    "start_time": "2022-09-19T09:39:40.268Z"
   },
   {
    "duration": 541,
    "start_time": "2022-09-19T09:39:41.404Z"
   },
   {
    "duration": 228,
    "start_time": "2022-09-19T09:39:42.656Z"
   },
   {
    "duration": 492,
    "start_time": "2022-09-19T09:41:00.330Z"
   },
   {
    "duration": 445,
    "start_time": "2022-09-19T09:41:04.848Z"
   },
   {
    "duration": 7,
    "start_time": "2022-09-19T09:45:35.804Z"
   },
   {
    "duration": 12,
    "start_time": "2022-09-19T09:45:36.918Z"
   },
   {
    "duration": 28,
    "start_time": "2022-09-19T09:45:37.372Z"
   },
   {
    "duration": 3,
    "start_time": "2022-09-19T09:45:46.908Z"
   },
   {
    "duration": 13,
    "start_time": "2022-09-19T09:45:57.316Z"
   },
   {
    "duration": 17,
    "start_time": "2022-09-19T09:46:06.060Z"
   },
   {
    "duration": 14,
    "start_time": "2022-09-19T09:46:16.136Z"
   },
   {
    "duration": 4,
    "start_time": "2022-09-19T09:46:39.964Z"
   },
   {
    "duration": 3,
    "start_time": "2022-09-19T09:46:45.940Z"
   },
   {
    "duration": 447,
    "start_time": "2022-09-20T09:11:59.408Z"
   },
   {
    "duration": 242,
    "start_time": "2022-09-20T09:12:10.387Z"
   },
   {
    "duration": 2527,
    "start_time": "2022-09-20T09:12:12.941Z"
   },
   {
    "duration": 3780,
    "start_time": "2022-09-20T09:12:22.739Z"
   },
   {
    "duration": 22,
    "start_time": "2022-09-20T09:12:29.156Z"
   },
   {
    "duration": 141,
    "start_time": "2022-09-20T09:12:29.884Z"
   },
   {
    "duration": 18,
    "start_time": "2022-09-20T09:12:30.587Z"
   },
   {
    "duration": 14,
    "start_time": "2022-09-20T09:12:30.764Z"
   },
   {
    "duration": 12,
    "start_time": "2022-09-20T09:12:30.964Z"
   },
   {
    "duration": 16,
    "start_time": "2022-09-20T09:12:31.301Z"
   },
   {
    "duration": 11,
    "start_time": "2022-09-20T09:12:31.651Z"
   },
   {
    "duration": 13,
    "start_time": "2022-09-20T09:12:31.780Z"
   },
   {
    "duration": 8,
    "start_time": "2022-09-20T09:12:32.441Z"
   },
   {
    "duration": 4,
    "start_time": "2022-09-20T09:12:32.645Z"
   },
   {
    "duration": 11,
    "start_time": "2022-09-20T09:12:32.820Z"
   },
   {
    "duration": 23,
    "start_time": "2022-09-20T09:12:32.999Z"
   },
   {
    "duration": 15,
    "start_time": "2022-09-20T09:12:33.909Z"
   },
   {
    "duration": 13,
    "start_time": "2022-09-20T09:12:34.123Z"
   },
   {
    "duration": 29,
    "start_time": "2022-09-20T09:12:34.469Z"
   },
   {
    "duration": 7,
    "start_time": "2022-09-20T09:12:35.043Z"
   },
   {
    "duration": 10,
    "start_time": "2022-09-20T09:12:35.541Z"
   },
   {
    "duration": 13,
    "start_time": "2022-09-20T09:12:35.692Z"
   },
   {
    "duration": 4,
    "start_time": "2022-09-20T09:12:36.365Z"
   },
   {
    "duration": 26,
    "start_time": "2022-09-20T09:12:36.684Z"
   },
   {
    "duration": 15,
    "start_time": "2022-09-20T09:12:37.116Z"
   },
   {
    "duration": 24,
    "start_time": "2022-09-20T09:12:37.356Z"
   },
   {
    "duration": 10,
    "start_time": "2022-09-20T09:12:37.516Z"
   },
   {
    "duration": 4,
    "start_time": "2022-09-20T09:12:38.156Z"
   },
   {
    "duration": 18,
    "start_time": "2022-09-20T09:12:38.357Z"
   },
   {
    "duration": 6,
    "start_time": "2022-09-20T09:12:38.691Z"
   },
   {
    "duration": 5,
    "start_time": "2022-09-20T09:12:39.237Z"
   },
   {
    "duration": 14,
    "start_time": "2022-09-20T09:12:39.636Z"
   },
   {
    "duration": 24,
    "start_time": "2022-09-20T09:12:39.964Z"
   },
   {
    "duration": 15,
    "start_time": "2022-09-20T09:12:40.164Z"
   },
   {
    "duration": 406,
    "start_time": "2022-09-20T09:12:40.517Z"
   },
   {
    "duration": 312,
    "start_time": "2022-09-20T09:12:40.924Z"
   },
   {
    "duration": 1082,
    "start_time": "2022-09-20T09:12:41.238Z"
   },
   {
    "duration": 447,
    "start_time": "2022-09-20T09:12:42.322Z"
   },
   {
    "duration": 3456,
    "start_time": "2022-09-20T09:12:42.771Z"
   },
   {
    "duration": 5,
    "start_time": "2022-09-20T09:12:46.230Z"
   },
   {
    "duration": 19,
    "start_time": "2022-09-20T09:12:56.537Z"
   },
   {
    "duration": 6,
    "start_time": "2022-09-20T09:12:57.652Z"
   },
   {
    "duration": 12,
    "start_time": "2022-09-20T09:12:59.738Z"
   },
   {
    "duration": 17,
    "start_time": "2022-09-20T09:13:00.222Z"
   },
   {
    "duration": 11,
    "start_time": "2022-09-20T09:13:00.972Z"
   },
   {
    "duration": 12,
    "start_time": "2022-09-20T09:13:05.640Z"
   },
   {
    "duration": 125,
    "start_time": "2022-09-20T09:13:06.835Z"
   },
   {
    "duration": 8,
    "start_time": "2022-09-20T09:13:17.741Z"
   },
   {
    "duration": 31,
    "start_time": "2022-09-20T09:13:20.852Z"
   },
   {
    "duration": 11,
    "start_time": "2022-09-20T09:13:30.311Z"
   },
   {
    "duration": 19,
    "start_time": "2022-09-20T09:13:37.420Z"
   },
   {
    "duration": 15,
    "start_time": "2022-09-20T09:13:40.774Z"
   }
  ],
  "kernelspec": {
   "display_name": "Python 3 (ipykernel)",
   "language": "python",
   "name": "python3"
  },
  "language_info": {
   "codemirror_mode": {
    "name": "ipython",
    "version": 3
   },
   "file_extension": ".py",
   "mimetype": "text/x-python",
   "name": "python",
   "nbconvert_exporter": "python",
   "pygments_lexer": "ipython3",
   "version": "3.7.8"
  },
  "toc": {
   "base_numbering": 1,
   "nav_menu": {},
   "number_sections": true,
   "sideBar": true,
   "skip_h1_title": false,
   "title_cell": "Table of Contents",
   "title_sidebar": "Contents",
   "toc_cell": false,
   "toc_position": {
    "height": "calc(100% - 180px)",
    "left": "10px",
    "top": "150px",
    "width": "209.406px"
   },
   "toc_section_display": true,
   "toc_window_display": true
  }
 },
 "nbformat": 4,
 "nbformat_minor": 5
}
